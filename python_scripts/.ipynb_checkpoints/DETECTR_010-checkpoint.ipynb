{
 "cells": [
  {
   "cell_type": "markdown",
   "metadata": {},
   "source": [
    "# DETECTR 010 Analysis\n",
    "This notebook is for formatting, analyzing and plotting the DETECTR_010 data. \n",
    "\n",
    "## Objective\n",
    "Test the difference between adding target dsDNA/gDNA before or at the same time as adding reporter. Also, to test different gRNAs with gDNA backgrounds."
   ]
  },
  {
   "cell_type": "markdown",
   "metadata": {},
   "source": [
    "## Formatting to CSV file\n",
    "Take txt file from plate reader and turn into tidy data format"
   ]
  },
  {
   "cell_type": "code",
   "execution_count": 169,
   "metadata": {},
   "outputs": [
    {
     "ename": "ModuleNotFoundError",
     "evalue": "No module named 'holoviews'",
     "output_type": "error",
     "traceback": [
      "\u001b[0;31m---------------------------------------------------------------------------\u001b[0m",
      "\u001b[0;31mModuleNotFoundError\u001b[0m                       Traceback (most recent call last)",
      "\u001b[0;32m<ipython-input-169-5caa4e934c94>\u001b[0m in \u001b[0;36m<module>\u001b[0;34m\u001b[0m\n\u001b[1;32m      5\u001b[0m \u001b[0;32mimport\u001b[0m \u001b[0mstatistics\u001b[0m\u001b[0;34m\u001b[0m\u001b[0;34m\u001b[0m\u001b[0m\n\u001b[1;32m      6\u001b[0m \u001b[0;34m\u001b[0m\u001b[0m\n\u001b[0;32m----> 7\u001b[0;31m \u001b[0;32mimport\u001b[0m \u001b[0mholoviews\u001b[0m \u001b[0;32mas\u001b[0m \u001b[0mhv\u001b[0m\u001b[0;34m\u001b[0m\u001b[0;34m\u001b[0m\u001b[0m\n\u001b[0m\u001b[1;32m      8\u001b[0m \u001b[0;32mimport\u001b[0m \u001b[0mbokeh\u001b[0m\u001b[0;34m\u001b[0m\u001b[0;34m\u001b[0m\u001b[0m\n\u001b[1;32m      9\u001b[0m \u001b[0;32mimport\u001b[0m \u001b[0mhvplot\u001b[0m\u001b[0;34m.\u001b[0m\u001b[0mpandas\u001b[0m\u001b[0;34m\u001b[0m\u001b[0;34m\u001b[0m\u001b[0m\n",
      "\u001b[0;31mModuleNotFoundError\u001b[0m: No module named 'holoviews'"
     ]
    }
   ],
   "source": [
    "#import needed libraries\n",
    "import pandas as pd\n",
    "import numpy as np\n",
    "import matplotlib.pyplot as plt\n",
    "import statistics\n",
    "\n",
    "import holoviews as hv\n",
    "import bokeh\n",
    "import hvplot.pandas"
   ]
  },
  {
   "cell_type": "code",
   "execution_count": 41,
   "metadata": {},
   "outputs": [],
   "source": [
    "#read in CSV file\n",
    "DETECTR_raw = pd.read_csv(\"../raw_txt_files/DETECTR_010.txt\", encoding='utf-16', sep=\"\\t\", delimiter=\"\\t\",index_col=None, skiprows= 3,header = None)"
   ]
  },
  {
   "cell_type": "code",
   "execution_count": 42,
   "metadata": {},
   "outputs": [],
   "source": [
    "#drop empty columns - we only had samples in the 2 and 3 columns of the plate\n",
    "DETECTR_raw = DETECTR_raw.drop(list(range(4,len(DETECTR_raw.columns))), axis=1)"
   ]
  },
  {
   "cell_type": "code",
   "execution_count": 43,
   "metadata": {},
   "outputs": [
    {
     "data": {
      "text/html": [
       "<div>\n",
       "<style>\n",
       "    .dataframe thead tr:only-child th {\n",
       "        text-align: right;\n",
       "    }\n",
       "\n",
       "    .dataframe thead th {\n",
       "        text-align: left;\n",
       "    }\n",
       "\n",
       "    .dataframe tbody tr th {\n",
       "        vertical-align: top;\n",
       "    }\n",
       "</style>\n",
       "<table border=\"1\" class=\"dataframe\">\n",
       "  <thead>\n",
       "    <tr style=\"text-align: right;\">\n",
       "      <th></th>\n",
       "      <th>0</th>\n",
       "      <th>1</th>\n",
       "      <th>2</th>\n",
       "      <th>3</th>\n",
       "    </tr>\n",
       "  </thead>\n",
       "  <tbody>\n",
       "    <tr>\n",
       "      <th>0</th>\n",
       "      <td>00:00:00</td>\n",
       "      <td>36.9</td>\n",
       "      <td>10.755</td>\n",
       "      <td>3.145</td>\n",
       "    </tr>\n",
       "    <tr>\n",
       "      <th>1</th>\n",
       "      <td>NaN</td>\n",
       "      <td>NaN</td>\n",
       "      <td>4.045</td>\n",
       "      <td>3.759</td>\n",
       "    </tr>\n",
       "    <tr>\n",
       "      <th>2</th>\n",
       "      <td>NaN</td>\n",
       "      <td>NaN</td>\n",
       "      <td>8.178</td>\n",
       "      <td>3.043</td>\n",
       "    </tr>\n",
       "    <tr>\n",
       "      <th>3</th>\n",
       "      <td>NaN</td>\n",
       "      <td>NaN</td>\n",
       "      <td>3.318</td>\n",
       "      <td>3.245</td>\n",
       "    </tr>\n",
       "    <tr>\n",
       "      <th>4</th>\n",
       "      <td>NaN</td>\n",
       "      <td>NaN</td>\n",
       "      <td>8.866</td>\n",
       "      <td>3.102</td>\n",
       "    </tr>\n",
       "    <tr>\n",
       "      <th>5</th>\n",
       "      <td>NaN</td>\n",
       "      <td>NaN</td>\n",
       "      <td>3.158</td>\n",
       "      <td>3.690</td>\n",
       "    </tr>\n",
       "    <tr>\n",
       "      <th>6</th>\n",
       "      <td>NaN</td>\n",
       "      <td>NaN</td>\n",
       "      <td>12.527</td>\n",
       "      <td>2.764</td>\n",
       "    </tr>\n",
       "    <tr>\n",
       "      <th>7</th>\n",
       "      <td>NaN</td>\n",
       "      <td>NaN</td>\n",
       "      <td>2.794</td>\n",
       "      <td>3.139</td>\n",
       "    </tr>\n",
       "    <tr>\n",
       "      <th>8</th>\n",
       "      <td>NaN</td>\n",
       "      <td>NaN</td>\n",
       "      <td>8.118</td>\n",
       "      <td>2.955</td>\n",
       "    </tr>\n",
       "    <tr>\n",
       "      <th>9</th>\n",
       "      <td>NaN</td>\n",
       "      <td>NaN</td>\n",
       "      <td>4.190</td>\n",
       "      <td>3.419</td>\n",
       "    </tr>\n",
       "  </tbody>\n",
       "</table>\n",
       "</div>"
      ],
      "text/plain": [
       "          0     1       2      3\n",
       "0  00:00:00  36.9  10.755  3.145\n",
       "1       NaN   NaN   4.045  3.759\n",
       "2       NaN   NaN   8.178  3.043\n",
       "3       NaN   NaN   3.318  3.245\n",
       "4       NaN   NaN   8.866  3.102\n",
       "5       NaN   NaN   3.158  3.690\n",
       "6       NaN   NaN  12.527  2.764\n",
       "7       NaN   NaN   2.794  3.139\n",
       "8       NaN   NaN   8.118  2.955\n",
       "9       NaN   NaN   4.190  3.419"
      ]
     },
     "execution_count": 43,
     "metadata": {},
     "output_type": "execute_result"
    }
   ],
   "source": [
    "DETECTR_raw.head(10)"
   ]
  },
  {
   "cell_type": "code",
   "execution_count": 44,
   "metadata": {},
   "outputs": [
    {
     "data": {
      "text/plain": [
       "1936"
      ]
     },
     "execution_count": 44,
     "metadata": {},
     "output_type": "execute_result"
    }
   ],
   "source": [
    "#identify the end of the file\n",
    "end_indices = DETECTR_raw[0][DETECTR_raw[0]=='~End'].index.tolist()\n",
    "end_indices[0]"
   ]
  },
  {
   "cell_type": "code",
   "execution_count": 45,
   "metadata": {},
   "outputs": [],
   "source": [
    "#remove unnecessary colums at the beginning of the file and unnecessary rows at the end of the file\n",
    "#we want to keep the file with the time information\n",
    "DETECTR_raw = DETECTR_raw.drop(list(range(end_indices[0], len(DETECTR_raw))), axis = 0)"
   ]
  },
  {
   "cell_type": "code",
   "execution_count": 46,
   "metadata": {},
   "outputs": [],
   "source": [
    "DETECTR_raw = DETECTR_raw.drop([1], axis = 1)"
   ]
  },
  {
   "cell_type": "code",
   "execution_count": 47,
   "metadata": {},
   "outputs": [
    {
     "data": {
      "text/plain": [
       "121.0"
      ]
     },
     "execution_count": 47,
     "metadata": {},
     "output_type": "execute_result"
    }
   ],
   "source": [
    "#how many plate reads did we have?\n",
    "len(DETECTR_raw)/16"
   ]
  },
  {
   "cell_type": "code",
   "execution_count": 48,
   "metadata": {},
   "outputs": [],
   "source": [
    "#set a variable to identify the number of plate reads\n",
    "num_plate_reads = int(len(DETECTR_raw)/16)"
   ]
  },
  {
   "cell_type": "code",
   "execution_count": 49,
   "metadata": {},
   "outputs": [
    {
     "data": {
      "text/html": [
       "<div>\n",
       "<style>\n",
       "    .dataframe thead tr:only-child th {\n",
       "        text-align: right;\n",
       "    }\n",
       "\n",
       "    .dataframe thead th {\n",
       "        text-align: left;\n",
       "    }\n",
       "\n",
       "    .dataframe tbody tr th {\n",
       "        vertical-align: top;\n",
       "    }\n",
       "</style>\n",
       "<table border=\"1\" class=\"dataframe\">\n",
       "  <thead>\n",
       "    <tr style=\"text-align: right;\">\n",
       "      <th></th>\n",
       "      <th>0</th>\n",
       "      <th>2</th>\n",
       "      <th>3</th>\n",
       "    </tr>\n",
       "  </thead>\n",
       "  <tbody>\n",
       "    <tr>\n",
       "      <th>0</th>\n",
       "      <td>00:00:00</td>\n",
       "      <td>10.755</td>\n",
       "      <td>3.145</td>\n",
       "    </tr>\n",
       "    <tr>\n",
       "      <th>1</th>\n",
       "      <td>NaN</td>\n",
       "      <td>4.045</td>\n",
       "      <td>3.759</td>\n",
       "    </tr>\n",
       "    <tr>\n",
       "      <th>2</th>\n",
       "      <td>NaN</td>\n",
       "      <td>8.178</td>\n",
       "      <td>3.043</td>\n",
       "    </tr>\n",
       "    <tr>\n",
       "      <th>3</th>\n",
       "      <td>NaN</td>\n",
       "      <td>3.318</td>\n",
       "      <td>3.245</td>\n",
       "    </tr>\n",
       "    <tr>\n",
       "      <th>4</th>\n",
       "      <td>NaN</td>\n",
       "      <td>8.866</td>\n",
       "      <td>3.102</td>\n",
       "    </tr>\n",
       "    <tr>\n",
       "      <th>5</th>\n",
       "      <td>NaN</td>\n",
       "      <td>3.158</td>\n",
       "      <td>3.690</td>\n",
       "    </tr>\n",
       "    <tr>\n",
       "      <th>6</th>\n",
       "      <td>NaN</td>\n",
       "      <td>12.527</td>\n",
       "      <td>2.764</td>\n",
       "    </tr>\n",
       "    <tr>\n",
       "      <th>7</th>\n",
       "      <td>NaN</td>\n",
       "      <td>2.794</td>\n",
       "      <td>3.139</td>\n",
       "    </tr>\n",
       "    <tr>\n",
       "      <th>8</th>\n",
       "      <td>NaN</td>\n",
       "      <td>8.118</td>\n",
       "      <td>2.955</td>\n",
       "    </tr>\n",
       "    <tr>\n",
       "      <th>9</th>\n",
       "      <td>NaN</td>\n",
       "      <td>4.190</td>\n",
       "      <td>3.419</td>\n",
       "    </tr>\n",
       "    <tr>\n",
       "      <th>10</th>\n",
       "      <td>NaN</td>\n",
       "      <td>3.339</td>\n",
       "      <td>2.916</td>\n",
       "    </tr>\n",
       "    <tr>\n",
       "      <th>11</th>\n",
       "      <td>NaN</td>\n",
       "      <td>2.736</td>\n",
       "      <td>3.217</td>\n",
       "    </tr>\n",
       "    <tr>\n",
       "      <th>12</th>\n",
       "      <td>NaN</td>\n",
       "      <td>7.939</td>\n",
       "      <td>2.786</td>\n",
       "    </tr>\n",
       "    <tr>\n",
       "      <th>13</th>\n",
       "      <td>NaN</td>\n",
       "      <td>3.422</td>\n",
       "      <td>3.422</td>\n",
       "    </tr>\n",
       "    <tr>\n",
       "      <th>14</th>\n",
       "      <td>NaN</td>\n",
       "      <td>11.972</td>\n",
       "      <td>2.879</td>\n",
       "    </tr>\n",
       "    <tr>\n",
       "      <th>15</th>\n",
       "      <td>NaN</td>\n",
       "      <td>3.137</td>\n",
       "      <td>3.276</td>\n",
       "    </tr>\n",
       "  </tbody>\n",
       "</table>\n",
       "</div>"
      ],
      "text/plain": [
       "           0       2      3\n",
       "0   00:00:00  10.755  3.145\n",
       "1        NaN   4.045  3.759\n",
       "2        NaN   8.178  3.043\n",
       "3        NaN   3.318  3.245\n",
       "4        NaN   8.866  3.102\n",
       "5        NaN   3.158  3.690\n",
       "6        NaN  12.527  2.764\n",
       "7        NaN   2.794  3.139\n",
       "8        NaN   8.118  2.955\n",
       "9        NaN   4.190  3.419\n",
       "10       NaN   3.339  2.916\n",
       "11       NaN   2.736  3.217\n",
       "12       NaN   7.939  2.786\n",
       "13       NaN   3.422  3.422\n",
       "14       NaN  11.972  2.879\n",
       "15       NaN   3.137  3.276"
      ]
     },
     "execution_count": 49,
     "metadata": {},
     "output_type": "execute_result"
    }
   ],
   "source": [
    "DETECTR_raw.head(16)"
   ]
  },
  {
   "cell_type": "code",
   "execution_count": 50,
   "metadata": {},
   "outputs": [],
   "source": [
    "#create a dictionary mapping the row number to a letter for 384 and 96\n",
    "well_dict_384 = {1:\"A\",2:\"B\",3:\"C\",4:\"D\",5:\"E\",6:\"F\",7:\"G\",8:\"H\",9:\"I\",10:\"J\",11:\"K\",12:\"L\",13:\"M\",14:\"N\",15:\"O\",16:\"P\"}\n",
    "well_dict_96 = {1:\"A\",2:\"A\",3:\"B\",4:\"B\",5:\"C\",6:\"C\",7:\"D\",8:\"D\",9:\"E\",10:\"E\",11:\"F\",12:\"F\",13:\"G\",14:\"G\",15:\"H\",16:\"H\"}"
   ]
  },
  {
   "cell_type": "code",
   "execution_count": 79,
   "metadata": {},
   "outputs": [],
   "source": [
    "#initialize the cleaned data frame\n",
    "DETECTR_cleaned = pd.DataFrame(columns = ['time','row_384','column_384', 'row_96','column_96','rfu_value'])"
   ]
  },
  {
   "cell_type": "code",
   "execution_count": 80,
   "metadata": {},
   "outputs": [],
   "source": [
    "#iterate over each plate to create a dataframe with the correct time, the 384 and 96 position and the RFU_value\n",
    "for i in list(range(0,num_plate_reads)):\n",
    "    time = DETECTR_raw.iloc[i*16,0]\n",
    "    for j in list(range(2, 4)):\n",
    "        for k in list(range(i*16, i*16+16)):\n",
    "            rfu_value = DETECTR_raw.loc[k,j]\n",
    "            row_384 = well_dict_384[k%16+1]\n",
    "            column_384 = j - 1\n",
    "            row_96 = well_dict_96[k%16+1]\n",
    "            column_96 = (j) // 2 \n",
    "            DETECTR_cleaned.loc[len(DETECTR_cleaned)] = [time, row_384, column_384,row_96,column_96,rfu_value]\n",
    "    "
   ]
  },
  {
   "cell_type": "code",
   "execution_count": 78,
   "metadata": {},
   "outputs": [
    {
     "data": {
      "text/html": [
       "<div>\n",
       "<style>\n",
       "    .dataframe thead tr:only-child th {\n",
       "        text-align: right;\n",
       "    }\n",
       "\n",
       "    .dataframe thead th {\n",
       "        text-align: left;\n",
       "    }\n",
       "\n",
       "    .dataframe tbody tr th {\n",
       "        vertical-align: top;\n",
       "    }\n",
       "</style>\n",
       "<table border=\"1\" class=\"dataframe\">\n",
       "  <thead>\n",
       "    <tr style=\"text-align: right;\">\n",
       "      <th></th>\n",
       "      <th>0</th>\n",
       "      <th>2</th>\n",
       "      <th>3</th>\n",
       "    </tr>\n",
       "  </thead>\n",
       "  <tbody>\n",
       "    <tr>\n",
       "      <th>1926</th>\n",
       "      <td>NaN</td>\n",
       "      <td>11.862</td>\n",
       "      <td>2.760</td>\n",
       "    </tr>\n",
       "    <tr>\n",
       "      <th>1927</th>\n",
       "      <td>NaN</td>\n",
       "      <td>2.815</td>\n",
       "      <td>3.596</td>\n",
       "    </tr>\n",
       "    <tr>\n",
       "      <th>1928</th>\n",
       "      <td>NaN</td>\n",
       "      <td>8.509</td>\n",
       "      <td>2.836</td>\n",
       "    </tr>\n",
       "    <tr>\n",
       "      <th>1929</th>\n",
       "      <td>NaN</td>\n",
       "      <td>22.151</td>\n",
       "      <td>14.039</td>\n",
       "    </tr>\n",
       "    <tr>\n",
       "      <th>1930</th>\n",
       "      <td>NaN</td>\n",
       "      <td>3.084</td>\n",
       "      <td>2.751</td>\n",
       "    </tr>\n",
       "    <tr>\n",
       "      <th>1931</th>\n",
       "      <td>NaN</td>\n",
       "      <td>11.331</td>\n",
       "      <td>7.629</td>\n",
       "    </tr>\n",
       "    <tr>\n",
       "      <th>1932</th>\n",
       "      <td>NaN</td>\n",
       "      <td>7.577</td>\n",
       "      <td>2.684</td>\n",
       "    </tr>\n",
       "    <tr>\n",
       "      <th>1933</th>\n",
       "      <td>NaN</td>\n",
       "      <td>3.618</td>\n",
       "      <td>3.876</td>\n",
       "    </tr>\n",
       "    <tr>\n",
       "      <th>1934</th>\n",
       "      <td>NaN</td>\n",
       "      <td>11.691</td>\n",
       "      <td>2.485</td>\n",
       "    </tr>\n",
       "    <tr>\n",
       "      <th>1935</th>\n",
       "      <td>NaN</td>\n",
       "      <td>3.513</td>\n",
       "      <td>3.682</td>\n",
       "    </tr>\n",
       "  </tbody>\n",
       "</table>\n",
       "</div>"
      ],
      "text/plain": [
       "        0       2       3\n",
       "1926  NaN  11.862   2.760\n",
       "1927  NaN   2.815   3.596\n",
       "1928  NaN   8.509   2.836\n",
       "1929  NaN  22.151  14.039\n",
       "1930  NaN   3.084   2.751\n",
       "1931  NaN  11.331   7.629\n",
       "1932  NaN   7.577   2.684\n",
       "1933  NaN   3.618   3.876\n",
       "1934  NaN  11.691   2.485\n",
       "1935  NaN   3.513   3.682"
      ]
     },
     "execution_count": 78,
     "metadata": {},
     "output_type": "execute_result"
    }
   ],
   "source": [
    "DETECTR_raw.tail(10)"
   ]
  },
  {
   "cell_type": "code",
   "execution_count": 81,
   "metadata": {},
   "outputs": [
    {
     "data": {
      "text/html": [
       "<div>\n",
       "<style>\n",
       "    .dataframe thead tr:only-child th {\n",
       "        text-align: right;\n",
       "    }\n",
       "\n",
       "    .dataframe thead th {\n",
       "        text-align: left;\n",
       "    }\n",
       "\n",
       "    .dataframe tbody tr th {\n",
       "        vertical-align: top;\n",
       "    }\n",
       "</style>\n",
       "<table border=\"1\" class=\"dataframe\">\n",
       "  <thead>\n",
       "    <tr style=\"text-align: right;\">\n",
       "      <th></th>\n",
       "      <th>time</th>\n",
       "      <th>row_384</th>\n",
       "      <th>column_384</th>\n",
       "      <th>row_96</th>\n",
       "      <th>column_96</th>\n",
       "      <th>rfu_value</th>\n",
       "    </tr>\n",
       "  </thead>\n",
       "  <tbody>\n",
       "    <tr>\n",
       "      <th>3862</th>\n",
       "      <td>04:00:00</td>\n",
       "      <td>G</td>\n",
       "      <td>2</td>\n",
       "      <td>D</td>\n",
       "      <td>1</td>\n",
       "      <td>2.760</td>\n",
       "    </tr>\n",
       "    <tr>\n",
       "      <th>3863</th>\n",
       "      <td>04:00:00</td>\n",
       "      <td>H</td>\n",
       "      <td>2</td>\n",
       "      <td>D</td>\n",
       "      <td>1</td>\n",
       "      <td>3.596</td>\n",
       "    </tr>\n",
       "    <tr>\n",
       "      <th>3864</th>\n",
       "      <td>04:00:00</td>\n",
       "      <td>I</td>\n",
       "      <td>2</td>\n",
       "      <td>E</td>\n",
       "      <td>1</td>\n",
       "      <td>2.836</td>\n",
       "    </tr>\n",
       "    <tr>\n",
       "      <th>3865</th>\n",
       "      <td>04:00:00</td>\n",
       "      <td>J</td>\n",
       "      <td>2</td>\n",
       "      <td>E</td>\n",
       "      <td>1</td>\n",
       "      <td>14.039</td>\n",
       "    </tr>\n",
       "    <tr>\n",
       "      <th>3866</th>\n",
       "      <td>04:00:00</td>\n",
       "      <td>K</td>\n",
       "      <td>2</td>\n",
       "      <td>F</td>\n",
       "      <td>1</td>\n",
       "      <td>2.751</td>\n",
       "    </tr>\n",
       "    <tr>\n",
       "      <th>3867</th>\n",
       "      <td>04:00:00</td>\n",
       "      <td>L</td>\n",
       "      <td>2</td>\n",
       "      <td>F</td>\n",
       "      <td>1</td>\n",
       "      <td>7.629</td>\n",
       "    </tr>\n",
       "    <tr>\n",
       "      <th>3868</th>\n",
       "      <td>04:00:00</td>\n",
       "      <td>M</td>\n",
       "      <td>2</td>\n",
       "      <td>G</td>\n",
       "      <td>1</td>\n",
       "      <td>2.684</td>\n",
       "    </tr>\n",
       "    <tr>\n",
       "      <th>3869</th>\n",
       "      <td>04:00:00</td>\n",
       "      <td>N</td>\n",
       "      <td>2</td>\n",
       "      <td>G</td>\n",
       "      <td>1</td>\n",
       "      <td>3.876</td>\n",
       "    </tr>\n",
       "    <tr>\n",
       "      <th>3870</th>\n",
       "      <td>04:00:00</td>\n",
       "      <td>O</td>\n",
       "      <td>2</td>\n",
       "      <td>H</td>\n",
       "      <td>1</td>\n",
       "      <td>2.485</td>\n",
       "    </tr>\n",
       "    <tr>\n",
       "      <th>3871</th>\n",
       "      <td>04:00:00</td>\n",
       "      <td>P</td>\n",
       "      <td>2</td>\n",
       "      <td>H</td>\n",
       "      <td>1</td>\n",
       "      <td>3.682</td>\n",
       "    </tr>\n",
       "  </tbody>\n",
       "</table>\n",
       "</div>"
      ],
      "text/plain": [
       "          time row_384 column_384 row_96 column_96  rfu_value\n",
       "3862  04:00:00       G          2      D         1      2.760\n",
       "3863  04:00:00       H          2      D         1      3.596\n",
       "3864  04:00:00       I          2      E         1      2.836\n",
       "3865  04:00:00       J          2      E         1     14.039\n",
       "3866  04:00:00       K          2      F         1      2.751\n",
       "3867  04:00:00       L          2      F         1      7.629\n",
       "3868  04:00:00       M          2      G         1      2.684\n",
       "3869  04:00:00       N          2      G         1      3.876\n",
       "3870  04:00:00       O          2      H         1      2.485\n",
       "3871  04:00:00       P          2      H         1      3.682"
      ]
     },
     "execution_count": 81,
     "metadata": {},
     "output_type": "execute_result"
    }
   ],
   "source": [
    "DETECTR_cleaned.tail(10)"
   ]
  },
  {
   "cell_type": "code",
   "execution_count": 82,
   "metadata": {},
   "outputs": [
    {
     "data": {
      "text/plain": [
       "3872"
      ]
     },
     "execution_count": 82,
     "metadata": {},
     "output_type": "execute_result"
    }
   ],
   "source": [
    "#how many rows in our data frame now? should be 384*number of plates\n",
    "len(DETECTR_cleaned)"
   ]
  },
  {
   "cell_type": "code",
   "execution_count": 83,
   "metadata": {},
   "outputs": [],
   "source": [
    "#write this file to a CSV\n",
    "DETECTR_cleaned.to_csv(\"DETECTR_010_tidy.csv\")"
   ]
  },
  {
   "cell_type": "code",
   "execution_count": 84,
   "metadata": {},
   "outputs": [
    {
     "data": {
      "text/plain": [
       "Index(['time', 'row_384', 'column_384', 'row_96', 'column_96', 'rfu_value'], dtype='object')"
      ]
     },
     "execution_count": 84,
     "metadata": {},
     "output_type": "execute_result"
    }
   ],
   "source": [
    "#confirm the shape of our data frame\n",
    "DETECTR_cleaned.columns"
   ]
  },
  {
   "cell_type": "code",
   "execution_count": 85,
   "metadata": {},
   "outputs": [
    {
     "data": {
      "text/html": [
       "<div>\n",
       "<style>\n",
       "    .dataframe thead tr:only-child th {\n",
       "        text-align: right;\n",
       "    }\n",
       "\n",
       "    .dataframe thead th {\n",
       "        text-align: left;\n",
       "    }\n",
       "\n",
       "    .dataframe tbody tr th {\n",
       "        vertical-align: top;\n",
       "    }\n",
       "</style>\n",
       "<table border=\"1\" class=\"dataframe\">\n",
       "  <thead>\n",
       "    <tr style=\"text-align: right;\">\n",
       "      <th></th>\n",
       "      <th>time</th>\n",
       "      <th>row_384</th>\n",
       "      <th>column_384</th>\n",
       "      <th>row_96</th>\n",
       "      <th>column_96</th>\n",
       "      <th>rfu_value</th>\n",
       "    </tr>\n",
       "  </thead>\n",
       "  <tbody>\n",
       "    <tr>\n",
       "      <th>0</th>\n",
       "      <td>00:00:00</td>\n",
       "      <td>A</td>\n",
       "      <td>1</td>\n",
       "      <td>A</td>\n",
       "      <td>1</td>\n",
       "      <td>10.755</td>\n",
       "    </tr>\n",
       "    <tr>\n",
       "      <th>1</th>\n",
       "      <td>00:00:00</td>\n",
       "      <td>B</td>\n",
       "      <td>1</td>\n",
       "      <td>A</td>\n",
       "      <td>1</td>\n",
       "      <td>4.045</td>\n",
       "    </tr>\n",
       "    <tr>\n",
       "      <th>2</th>\n",
       "      <td>00:00:00</td>\n",
       "      <td>C</td>\n",
       "      <td>1</td>\n",
       "      <td>B</td>\n",
       "      <td>1</td>\n",
       "      <td>8.178</td>\n",
       "    </tr>\n",
       "    <tr>\n",
       "      <th>3</th>\n",
       "      <td>00:00:00</td>\n",
       "      <td>D</td>\n",
       "      <td>1</td>\n",
       "      <td>B</td>\n",
       "      <td>1</td>\n",
       "      <td>3.318</td>\n",
       "    </tr>\n",
       "    <tr>\n",
       "      <th>4</th>\n",
       "      <td>00:00:00</td>\n",
       "      <td>E</td>\n",
       "      <td>1</td>\n",
       "      <td>C</td>\n",
       "      <td>1</td>\n",
       "      <td>8.866</td>\n",
       "    </tr>\n",
       "    <tr>\n",
       "      <th>5</th>\n",
       "      <td>00:00:00</td>\n",
       "      <td>F</td>\n",
       "      <td>1</td>\n",
       "      <td>C</td>\n",
       "      <td>1</td>\n",
       "      <td>3.158</td>\n",
       "    </tr>\n",
       "    <tr>\n",
       "      <th>6</th>\n",
       "      <td>00:00:00</td>\n",
       "      <td>G</td>\n",
       "      <td>1</td>\n",
       "      <td>D</td>\n",
       "      <td>1</td>\n",
       "      <td>12.527</td>\n",
       "    </tr>\n",
       "    <tr>\n",
       "      <th>7</th>\n",
       "      <td>00:00:00</td>\n",
       "      <td>H</td>\n",
       "      <td>1</td>\n",
       "      <td>D</td>\n",
       "      <td>1</td>\n",
       "      <td>2.794</td>\n",
       "    </tr>\n",
       "    <tr>\n",
       "      <th>8</th>\n",
       "      <td>00:00:00</td>\n",
       "      <td>I</td>\n",
       "      <td>1</td>\n",
       "      <td>E</td>\n",
       "      <td>1</td>\n",
       "      <td>8.118</td>\n",
       "    </tr>\n",
       "    <tr>\n",
       "      <th>9</th>\n",
       "      <td>00:00:00</td>\n",
       "      <td>J</td>\n",
       "      <td>1</td>\n",
       "      <td>E</td>\n",
       "      <td>1</td>\n",
       "      <td>4.190</td>\n",
       "    </tr>\n",
       "  </tbody>\n",
       "</table>\n",
       "</div>"
      ],
      "text/plain": [
       "       time row_384 column_384 row_96 column_96  rfu_value\n",
       "0  00:00:00       A          1      A         1     10.755\n",
       "1  00:00:00       B          1      A         1      4.045\n",
       "2  00:00:00       C          1      B         1      8.178\n",
       "3  00:00:00       D          1      B         1      3.318\n",
       "4  00:00:00       E          1      C         1      8.866\n",
       "5  00:00:00       F          1      C         1      3.158\n",
       "6  00:00:00       G          1      D         1     12.527\n",
       "7  00:00:00       H          1      D         1      2.794\n",
       "8  00:00:00       I          1      E         1      8.118\n",
       "9  00:00:00       J          1      E         1      4.190"
      ]
     },
     "execution_count": 85,
     "metadata": {},
     "output_type": "execute_result"
    }
   ],
   "source": [
    "DETECTR_cleaned.head(10)"
   ]
  },
  {
   "cell_type": "markdown",
   "metadata": {},
   "source": [
    "## Filter the data frame\n",
    "Select only wells we are interested in"
   ]
  },
  {
   "cell_type": "code",
   "execution_count": 137,
   "metadata": {},
   "outputs": [],
   "source": [
    "#only select rows with the 2 hour (final) time point\n",
    "DETECTR_4hr = DETECTR_cleaned.loc[(DETECTR_cleaned[\"time\"]==\"04:00:00\") ]"
   ]
  },
  {
   "cell_type": "code",
   "execution_count": 138,
   "metadata": {},
   "outputs": [],
   "source": [
    "#only select the rows in which we had sample\n",
    "DETECTR_4hr = DETECTR_4hr.loc[(DETECTR_4hr[\"row_384\"].isin(['B','D','F','H','J','L','N','P']))]"
   ]
  },
  {
   "cell_type": "code",
   "execution_count": 139,
   "metadata": {},
   "outputs": [
    {
     "data": {
      "text/html": [
       "<div>\n",
       "<style>\n",
       "    .dataframe thead tr:only-child th {\n",
       "        text-align: right;\n",
       "    }\n",
       "\n",
       "    .dataframe thead th {\n",
       "        text-align: left;\n",
       "    }\n",
       "\n",
       "    .dataframe tbody tr th {\n",
       "        vertical-align: top;\n",
       "    }\n",
       "</style>\n",
       "<table border=\"1\" class=\"dataframe\">\n",
       "  <thead>\n",
       "    <tr style=\"text-align: right;\">\n",
       "      <th></th>\n",
       "      <th>time</th>\n",
       "      <th>row_384</th>\n",
       "      <th>column_384</th>\n",
       "      <th>row_96</th>\n",
       "      <th>column_96</th>\n",
       "      <th>rfu_value</th>\n",
       "    </tr>\n",
       "  </thead>\n",
       "  <tbody>\n",
       "    <tr>\n",
       "      <th>3841</th>\n",
       "      <td>04:00:00</td>\n",
       "      <td>B</td>\n",
       "      <td>1</td>\n",
       "      <td>A</td>\n",
       "      <td>1</td>\n",
       "      <td>11.416</td>\n",
       "    </tr>\n",
       "    <tr>\n",
       "      <th>3843</th>\n",
       "      <td>04:00:00</td>\n",
       "      <td>D</td>\n",
       "      <td>1</td>\n",
       "      <td>B</td>\n",
       "      <td>1</td>\n",
       "      <td>7.298</td>\n",
       "    </tr>\n",
       "    <tr>\n",
       "      <th>3845</th>\n",
       "      <td>04:00:00</td>\n",
       "      <td>F</td>\n",
       "      <td>1</td>\n",
       "      <td>C</td>\n",
       "      <td>1</td>\n",
       "      <td>3.875</td>\n",
       "    </tr>\n",
       "    <tr>\n",
       "      <th>3847</th>\n",
       "      <td>04:00:00</td>\n",
       "      <td>H</td>\n",
       "      <td>1</td>\n",
       "      <td>D</td>\n",
       "      <td>1</td>\n",
       "      <td>2.815</td>\n",
       "    </tr>\n",
       "    <tr>\n",
       "      <th>3849</th>\n",
       "      <td>04:00:00</td>\n",
       "      <td>J</td>\n",
       "      <td>1</td>\n",
       "      <td>E</td>\n",
       "      <td>1</td>\n",
       "      <td>22.151</td>\n",
       "    </tr>\n",
       "    <tr>\n",
       "      <th>3851</th>\n",
       "      <td>04:00:00</td>\n",
       "      <td>L</td>\n",
       "      <td>1</td>\n",
       "      <td>F</td>\n",
       "      <td>1</td>\n",
       "      <td>11.331</td>\n",
       "    </tr>\n",
       "    <tr>\n",
       "      <th>3853</th>\n",
       "      <td>04:00:00</td>\n",
       "      <td>N</td>\n",
       "      <td>1</td>\n",
       "      <td>G</td>\n",
       "      <td>1</td>\n",
       "      <td>3.618</td>\n",
       "    </tr>\n",
       "    <tr>\n",
       "      <th>3855</th>\n",
       "      <td>04:00:00</td>\n",
       "      <td>P</td>\n",
       "      <td>1</td>\n",
       "      <td>H</td>\n",
       "      <td>1</td>\n",
       "      <td>3.513</td>\n",
       "    </tr>\n",
       "    <tr>\n",
       "      <th>3857</th>\n",
       "      <td>04:00:00</td>\n",
       "      <td>B</td>\n",
       "      <td>2</td>\n",
       "      <td>A</td>\n",
       "      <td>1</td>\n",
       "      <td>9.473</td>\n",
       "    </tr>\n",
       "    <tr>\n",
       "      <th>3859</th>\n",
       "      <td>04:00:00</td>\n",
       "      <td>D</td>\n",
       "      <td>2</td>\n",
       "      <td>B</td>\n",
       "      <td>1</td>\n",
       "      <td>6.800</td>\n",
       "    </tr>\n",
       "    <tr>\n",
       "      <th>3861</th>\n",
       "      <td>04:00:00</td>\n",
       "      <td>F</td>\n",
       "      <td>2</td>\n",
       "      <td>C</td>\n",
       "      <td>1</td>\n",
       "      <td>3.520</td>\n",
       "    </tr>\n",
       "    <tr>\n",
       "      <th>3863</th>\n",
       "      <td>04:00:00</td>\n",
       "      <td>H</td>\n",
       "      <td>2</td>\n",
       "      <td>D</td>\n",
       "      <td>1</td>\n",
       "      <td>3.596</td>\n",
       "    </tr>\n",
       "    <tr>\n",
       "      <th>3865</th>\n",
       "      <td>04:00:00</td>\n",
       "      <td>J</td>\n",
       "      <td>2</td>\n",
       "      <td>E</td>\n",
       "      <td>1</td>\n",
       "      <td>14.039</td>\n",
       "    </tr>\n",
       "    <tr>\n",
       "      <th>3867</th>\n",
       "      <td>04:00:00</td>\n",
       "      <td>L</td>\n",
       "      <td>2</td>\n",
       "      <td>F</td>\n",
       "      <td>1</td>\n",
       "      <td>7.629</td>\n",
       "    </tr>\n",
       "    <tr>\n",
       "      <th>3869</th>\n",
       "      <td>04:00:00</td>\n",
       "      <td>N</td>\n",
       "      <td>2</td>\n",
       "      <td>G</td>\n",
       "      <td>1</td>\n",
       "      <td>3.876</td>\n",
       "    </tr>\n",
       "    <tr>\n",
       "      <th>3871</th>\n",
       "      <td>04:00:00</td>\n",
       "      <td>P</td>\n",
       "      <td>2</td>\n",
       "      <td>H</td>\n",
       "      <td>1</td>\n",
       "      <td>3.682</td>\n",
       "    </tr>\n",
       "  </tbody>\n",
       "</table>\n",
       "</div>"
      ],
      "text/plain": [
       "          time row_384 column_384 row_96 column_96  rfu_value\n",
       "3841  04:00:00       B          1      A         1     11.416\n",
       "3843  04:00:00       D          1      B         1      7.298\n",
       "3845  04:00:00       F          1      C         1      3.875\n",
       "3847  04:00:00       H          1      D         1      2.815\n",
       "3849  04:00:00       J          1      E         1     22.151\n",
       "3851  04:00:00       L          1      F         1     11.331\n",
       "3853  04:00:00       N          1      G         1      3.618\n",
       "3855  04:00:00       P          1      H         1      3.513\n",
       "3857  04:00:00       B          2      A         1      9.473\n",
       "3859  04:00:00       D          2      B         1      6.800\n",
       "3861  04:00:00       F          2      C         1      3.520\n",
       "3863  04:00:00       H          2      D         1      3.596\n",
       "3865  04:00:00       J          2      E         1     14.039\n",
       "3867  04:00:00       L          2      F         1      7.629\n",
       "3869  04:00:00       N          2      G         1      3.876\n",
       "3871  04:00:00       P          2      H         1      3.682"
      ]
     },
     "execution_count": 139,
     "metadata": {},
     "output_type": "execute_result"
    }
   ],
   "source": [
    "DETECTR_4hr"
   ]
  },
  {
   "cell_type": "code",
   "execution_count": 140,
   "metadata": {},
   "outputs": [],
   "source": [
    "#define the experimental time which target DNA and gDNA was added\n",
    "DETECTR_4hr['targetDNA_added'] = pd.Series([\"with_gRNA\",\"with_reporter\",\"with_gRNA\",\"with_reporter\",\"with_gRNA\",\"with_reporter\",\"with_gRNA\",\"with_reporter\",\"with_gRNA\",\"with_reporter\",\"with_gRNA\",\"with_reporter\",\"with_gRNA\",\"with_reporter\",\"with_gRNA\",\"with_reporter\",], index = DETECTR_4hr.index)"
   ]
  },
  {
   "cell_type": "code",
   "execution_count": 141,
   "metadata": {},
   "outputs": [],
   "source": [
    "#define the gRNA + target DNA used for this set\n",
    "DETECTR_4hr['gRNA'] = pd.Series([\"12E\",\"12E\",\"12E\",\"12E\",\"12E\",\"12E\",\"12E\",\"12E\",\"12F\",\"12F\",\"12F\",\"12F\",\"12F\",\"12F\",\"12F\",\"12F\"], index = DETECTR_4hr.index)"
   ]
  },
  {
   "cell_type": "code",
   "execution_count": 142,
   "metadata": {},
   "outputs": [],
   "source": [
    "#define whether gDNA was added\n",
    "gDETECTR_4hr['gDNA'] = pd.Series([\"target_DNA\",\"target_DNA\",\"gDNA\",\"gDNA\",\"target_DNA+gDNA\",\"target_DNA+gDNA\",\"H20\",\"H20\",\"target_DNA\",\"target_DNA\",\"gDNA\",\"gDNA\",\"target_DNA+gDNA\",\"target_DNA+gDNA\",\"H20\",\"H20\"], index = DETECTR_4hr.index)"
   ]
  },
  {
   "cell_type": "code",
   "execution_count": 145,
   "metadata": {},
   "outputs": [],
   "source": [
    "DETECTR_4hr['well'] = (DETECTR_4hr['row_384'].map(str) + DETECTR_4hr['column_384'].map(str)).map(str)"
   ]
  },
  {
   "cell_type": "markdown",
   "metadata": {},
   "source": [
    "## Plot the data\n",
    "Create plots for each experiment set"
   ]
  },
  {
   "cell_type": "code",
   "execution_count": 146,
   "metadata": {},
   "outputs": [
    {
     "data": {
      "text/plain": [
       "Index(['time', 'row_384', 'column_384', 'row_96', 'column_96', 'rfu_value',\n",
       "       'targetDNA_added', 'gRNA', 'gDNA', 'well'],\n",
       "      dtype='object')"
      ]
     },
     "execution_count": 146,
     "metadata": {},
     "output_type": "execute_result"
    }
   ],
   "source": [
    "DETECTR_4hr.columns"
   ]
  },
  {
   "cell_type": "code",
   "execution_count": 147,
   "metadata": {},
   "outputs": [],
   "source": [
    "DETECTR_4hr['rfu_value'] = DETECTR_4hr['rfu_value'].map(float)"
   ]
  },
  {
   "cell_type": "code",
   "execution_count": 148,
   "metadata": {},
   "outputs": [
    {
     "data": {
      "text/plain": [
       "3.67225"
      ]
     },
     "execution_count": 148,
     "metadata": {},
     "output_type": "execute_result"
    }
   ],
   "source": [
    "background = statistics.mean(DETECTR_4hr.loc[(DETECTR_4hr[\"column_384\"].isin([1,2])) & (DETECTR_4hr[\"row_384\"].isin(['N','P']) )]['rfu_value'])\n",
    "background"
   ]
  },
  {
   "cell_type": "code",
   "execution_count": 197,
   "metadata": {},
   "outputs": [],
   "source": [
    "DETECTR_4hr['rfu_value_bkgrnd_sub'] = DETECTR_4hr['rfu_value'] - background"
   ]
  },
  {
   "cell_type": "code",
   "execution_count": 157,
   "metadata": {},
   "outputs": [],
   "source": [
    "DETECTR_4hr['sample'] = (DETECTR_4hr['gRNA'].map(str) + \"_\"+DETECTR_4hr['gDNA'].map(str)).map(str)"
   ]
  },
  {
   "cell_type": "code",
   "execution_count": 201,
   "metadata": {},
   "outputs": [
    {
     "data": {
      "image/png": "[encoded data removed]",
      "text/plain": [
       "<matplotlib.figure.Figure at 0x1124c6860>"
      ]
     },
     "metadata": {
      "needs_background": "light"
     },
     "output_type": "display_data"
    }
   ],
   "source": [
    "\n",
    "DETECTR_4hr.pivot('sample', 'targetDNA_added','rfu_value_bkgrnd_sub').plot(kind = 'bar',)\n",
    "plt.title ('DETECTR_010 (Time = 4hr)')\n",
    "plt.ylabel('RFU_value - background')\n",
    "plt.rc('font', size=10)\n",
    "plt.rc('axes', labelsize=15)\n",
    "\n",
    "plt.savefig(\"DETECTR_010.pdf\", bbox_inches='tight')\n",
    "\n"
   ]
  },
  {
   "cell_type": "code",
   "execution_count": 174,
   "metadata": {},
   "outputs": [
    {
     "data": {
      "text/plain": [
       "<matplotlib.axes._subplots.AxesSubplot at 0x10c2fec18>"
      ]
     },
     "execution_count": 174,
     "metadata": {},
     "output_type": "execute_result"
    },
    {
     "data": {
      "image/png": "[encoded data removed]",
      "text/plain": [
       "<matplotlib.figure.Figure at 0x10c2f3240>"
      ]
     },
     "metadata": {
      "needs_background": "light"
     },
     "output_type": "display_data"
    }
   ],
   "source": [
    "pd.pivot_table(DETECTR_4hr, index = ['gRNA'], columns = ['targetDNA_added'], values \n",
    "= 'rfu_value').plot(kind = 'bar')"
   ]
  },
  {
   "cell_type": "code",
   "execution_count": 171,
   "metadata": {},
   "outputs": [
    {
     "ename": "AttributeError",
     "evalue": "Cannot access callable attribute 'unstack' of 'DataFrameGroupBy' objects, try using the 'apply' method",
     "output_type": "error",
     "traceback": [
      "\u001b[0;31m---------------------------------------------------------------------------\u001b[0m",
      "\u001b[0;31mAttributeError\u001b[0m                            Traceback (most recent call last)",
      "\u001b[0;32m<ipython-input-171-dc1f72f3daa0>\u001b[0m in \u001b[0;36m<module>\u001b[0;34m\u001b[0m\n\u001b[0;32m----> 1\u001b[0;31m \u001b[0mDETECTR_4hr\u001b[0m\u001b[0;34m.\u001b[0m\u001b[0mgroupby\u001b[0m\u001b[0;34m(\u001b[0m\u001b[0;34m'targetDNA_added'\u001b[0m\u001b[0;34m)\u001b[0m\u001b[0;34m.\u001b[0m\u001b[0munstack\u001b[0m\u001b[0;34m(\u001b[0m\u001b[0;34m)\u001b[0m\u001b[0;34m.\u001b[0m\u001b[0mplot\u001b[0m\u001b[0;34m(\u001b[0m\u001b[0mx\u001b[0m \u001b[0;34m=\u001b[0m \u001b[0;34m'well'\u001b[0m\u001b[0;34m,\u001b[0m\u001b[0my\u001b[0m \u001b[0;34m=\u001b[0m \u001b[0;34m'rfu_value'\u001b[0m\u001b[0;34m,\u001b[0m\u001b[0mlegend\u001b[0m\u001b[0;34m=\u001b[0m\u001b[0;34m'true'\u001b[0m\u001b[0;34m,\u001b[0m \u001b[0mkind\u001b[0m \u001b[0;34m=\u001b[0m \u001b[0;34m'bar'\u001b[0m\u001b[0;34m)\u001b[0m\u001b[0;34m\u001b[0m\u001b[0;34m\u001b[0m\u001b[0m\n\u001b[0m",
      "\u001b[0;32m~/anaconda3/lib/python3.6/site-packages/pandas/core/groupby.py\u001b[0m in \u001b[0;36m__getattr__\u001b[0;34m(self, attr)\u001b[0m\n\u001b[1;32m    546\u001b[0m             \u001b[0;32mreturn\u001b[0m \u001b[0mself\u001b[0m\u001b[0;34m[\u001b[0m\u001b[0mattr\u001b[0m\u001b[0;34m]\u001b[0m\u001b[0;34m\u001b[0m\u001b[0;34m\u001b[0m\u001b[0m\n\u001b[1;32m    547\u001b[0m         \u001b[0;32mif\u001b[0m \u001b[0mhasattr\u001b[0m\u001b[0;34m(\u001b[0m\u001b[0mself\u001b[0m\u001b[0;34m.\u001b[0m\u001b[0mobj\u001b[0m\u001b[0;34m,\u001b[0m \u001b[0mattr\u001b[0m\u001b[0;34m)\u001b[0m\u001b[0;34m:\u001b[0m\u001b[0;34m\u001b[0m\u001b[0;34m\u001b[0m\u001b[0m\n\u001b[0;32m--> 548\u001b[0;31m             \u001b[0;32mreturn\u001b[0m \u001b[0mself\u001b[0m\u001b[0;34m.\u001b[0m\u001b[0m_make_wrapper\u001b[0m\u001b[0;34m(\u001b[0m\u001b[0mattr\u001b[0m\u001b[0;34m)\u001b[0m\u001b[0;34m\u001b[0m\u001b[0;34m\u001b[0m\u001b[0m\n\u001b[0m\u001b[1;32m    549\u001b[0m \u001b[0;34m\u001b[0m\u001b[0m\n\u001b[1;32m    550\u001b[0m         raise AttributeError(\"%r object has no attribute %r\" %\n",
      "\u001b[0;32m~/anaconda3/lib/python3.6/site-packages/pandas/core/groupby.py\u001b[0m in \u001b[0;36m_make_wrapper\u001b[0;34m(self, name)\u001b[0m\n\u001b[1;32m    560\u001b[0m                    \"using the 'apply' method\".format(kind, name,\n\u001b[1;32m    561\u001b[0m                                                      type(self).__name__))\n\u001b[0;32m--> 562\u001b[0;31m             \u001b[0;32mraise\u001b[0m \u001b[0mAttributeError\u001b[0m\u001b[0;34m(\u001b[0m\u001b[0mmsg\u001b[0m\u001b[0;34m)\u001b[0m\u001b[0;34m\u001b[0m\u001b[0;34m\u001b[0m\u001b[0m\n\u001b[0m\u001b[1;32m    563\u001b[0m \u001b[0;34m\u001b[0m\u001b[0m\n\u001b[1;32m    564\u001b[0m         \u001b[0;31m# need to setup the selection\u001b[0m\u001b[0;34m\u001b[0m\u001b[0;34m\u001b[0m\u001b[0;34m\u001b[0m\u001b[0m\n",
      "\u001b[0;31mAttributeError\u001b[0m: Cannot access callable attribute 'unstack' of 'DataFrameGroupBy' objects, try using the 'apply' method"
     ]
    }
   ],
   "source": [
    "DETECTR_4hr.groupby('targetDNA_added').unstack().plot(x = 'well',y = 'rfu_value',legend='true', kind = 'bar')"
   ]
  },
  {
   "cell_type": "code",
   "execution_count": 168,
   "metadata": {},
   "outputs": [
    {
     "data": {
      "text/plain": [
       "<matplotlib.axes._subplots.AxesSubplot at 0x10bebc5c0>"
      ]
     },
     "execution_count": 168,
     "metadata": {},
     "output_type": "execute_result"
    },
    {
     "data": {
      "image/png": "[encoded data removed]",
      "text/plain": [
       "<matplotlib.figure.Figure at 0x10bfe3e48>"
      ]
     },
     "metadata": {
      "needs_background": "light"
     },
     "output_type": "display_data"
    }
   ],
   "source": [
    "pd.crosstab([DETECTR_4hr['gDNA'],DETECTR_4hr['targetDNA_added']], DETECTR_4hr['gRNA'], values = DETECTR_4hr['rfu_value'], aggfunc = sum).plot.bar()"
   ]
  },
  {
   "cell_type": "code",
   "execution_count": 26,
   "metadata": {},
   "outputs": [
    {
     "data": {
      "text/plain": [
       "<matplotlib.axes._subplots.AxesSubplot at 0x115844080>"
      ]
     },
     "execution_count": 26,
     "metadata": {},
     "output_type": "execute_result"
    },
    {
     "data": {
      "image/png": "[encoded data removed]",
      "text/plain": [
       "<matplotlib.figure.Figure at 0x1158449e8>"
      ]
     },
     "metadata": {
      "needs_background": "light"
     },
     "output_type": "display_data"
    }
   ],
   "source": [
    "#plot the RFU_value over gRNA concentration\n",
    "DETECTR_4hr.loc[DETECTR_2hr['experiment_set']=='gRNA'].plot(x = 'concentration', y = 'rfu_value',kind = 'scatter',title = 'gRNA Concentration (nM)')"
   ]
  },
  {
   "cell_type": "code",
   "execution_count": 27,
   "metadata": {},
   "outputs": [
    {
     "data": {
      "text/plain": [
       "<matplotlib.axes._subplots.AxesSubplot at 0x1158376d8>"
      ]
     },
     "execution_count": 27,
     "metadata": {},
     "output_type": "execute_result"
    },
    {
     "data": {
      "image/png": "[encoded data removed]",
      "text/plain": [
       "<matplotlib.figure.Figure at 0x11586a8d0>"
      ]
     },
     "metadata": {
      "needs_background": "light"
     },
     "output_type": "display_data"
    }
   ],
   "source": [
    "#plot the RFU_value over reporter concentration\n",
    "DETECTR_2hr.loc[DETECTR_2hr['experiment_set']=='reporter'].plot(x = 'concentration', y = 'rfu_value',kind = 'scatter', title = 'Reporter DNA Concentration (nM)')"
   ]
  },
  {
   "cell_type": "code",
   "execution_count": 28,
   "metadata": {},
   "outputs": [
    {
     "data": {
      "text/plain": [
       "<matplotlib.axes._subplots.AxesSubplot at 0x115819b70>"
      ]
     },
     "execution_count": 28,
     "metadata": {},
     "output_type": "execute_result"
    },
    {
     "data": {
      "image/png": "[encoded data removed]",
      "text/plain": [
       "<matplotlib.figure.Figure at 0x1158b69e8>"
      ]
     },
     "metadata": {
      "needs_background": "light"
     },
     "output_type": "display_data"
    }
   ],
   "source": [
    "#plot the RFU_value over target DNA concentration\n",
    "DETECTR_2hr.loc[(DETECTR_2hr['experiment_set']=='targetDNA') | (DETECTR_2hr['concentration']==0)].plot(x = 'concentration', y = 'rfu_value',kind = 'scatter', title = 'Target DNA Concentration (nM)' )"
   ]
  },
  {
   "cell_type": "code",
   "execution_count": 29,
   "metadata": {},
   "outputs": [
    {
     "data": {
      "text/plain": [
       "<matplotlib.axes._subplots.AxesSubplot at 0x11dcbcfd0>"
      ]
     },
     "execution_count": 29,
     "metadata": {},
     "output_type": "execute_result"
    },
    {
     "data": {
      "image/png": "[encoded data removed]",
      "text/plain": [
       "<matplotlib.figure.Figure at 0x11dd46518>"
      ]
     },
     "metadata": {
      "needs_background": "light"
     },
     "output_type": "display_data"
    }
   ],
   "source": [
    "#plot the RFU_value labelling the points with the experiment set they were a part of\n",
    "#first select colors for each experimental set, then create a new column mapping the experiment set to that column\n",
    "colors = {'gRNA':'g','reporter':'b', 'targetDNA':'r'}\n",
    "DETECTR_2hr['colors'] = DETECTR_2hr['experiment_set'].map(colors)\n",
    "DETECTR_2hr.plot(x = 'concentration', y = \"rfu_value\", kind = 'scatter', c=DETECTR_2hr['colors'], legend = True)"
   ]
  },
  {
   "cell_type": "markdown",
   "metadata": {},
   "source": [
    "## Conclusions\n",
    "Reporter has a huge effect on the final RFU. I increased our final concentration to 125nM. \n",
    "\n",
    "gRNA also has an effect on final RFU but hard to evaluate with only 3X guides. Will repeat with higher gRNA concentrations.\n",
    "\n",
    "Target DNA is a limiting factor - we need a LOT of input DNA (1.6ng)\n",
    "\n",
    "Wondering if template from transcription is interfering with reaction to cleave reporter as the template is also ssDNA - try DNAse treating to see. Can also order dsDNA transcription template"
   ]
  }
 ],
 "metadata": {
  "kernelspec": {
   "display_name": "Python [default]",
   "language": "python",
   "name": "python3"
  },
  "language_info": {
   "codemirror_mode": {
    "name": "ipython",
    "version": 3
   },
   "file_extension": ".py",
   "mimetype": "text/x-python",
   "name": "python",
   "nbconvert_exporter": "python",
   "pygments_lexer": "ipython3",
   "version": "3.6.8"
  }
 },
 "nbformat": 4,
 "nbformat_minor": 2
}
