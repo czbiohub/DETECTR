{
 "cells": [
  {
   "cell_type": "markdown",
   "metadata": {},
   "source": [
    "# DETECTR 003 Analysis\n",
    "This notebook is for formatting, analyzing and plotting the DETECTR_003 data. \n",
    "\n",
    "## Objective\n",
    "Illustrate the effects of gRNA, target DNA, and reporter concentrations on RFU_VALUE at 2hr"
   ]
  },
  {
   "cell_type": "markdown",
   "metadata": {},
   "source": [
    "## Formatting to CSV file\n",
    "Take txt file from plate reader and turn into tidy data format"
   ]
  },
  {
   "cell_type": "code",
   "execution_count": 1,
   "metadata": {},
   "outputs": [],
   "source": [
    "#import needed libraries\n",
    "import pandas as pd\n",
    "import numpy as np\n",
    "import matplotlib.pyplot as plt"
   ]
  },
  {
   "cell_type": "code",
   "execution_count": 3,
   "metadata": {},
   "outputs": [],
   "source": [
    "#read in CSV file\n",
    "DETECTR_raw = pd.read_csv(\"../raw_txt_files/DETECTR_003.txt\", encoding='utf-16', sep=\"\\t\", delimiter=\"\\t\",index_col=None, skiprows= 1,header = None)"
   ]
  },
  {
   "cell_type": "code",
   "execution_count": 4,
   "metadata": {},
   "outputs": [],
   "source": [
    "#drop empty columns - we only had samples in the 2 and 3 columns of the plate\n",
    "DETECTR_raw = DETECTR_raw.drop(list(range(5,len(DETECTR_raw.columns))), axis=1)"
   ]
  },
  {
   "cell_type": "code",
   "execution_count": 5,
   "metadata": {},
   "outputs": [
    {
     "data": {
      "text/html": [
       "<div>\n",
       "<style>\n",
       "    .dataframe thead tr:only-child th {\n",
       "        text-align: right;\n",
       "    }\n",
       "\n",
       "    .dataframe thead th {\n",
       "        text-align: left;\n",
       "    }\n",
       "\n",
       "    .dataframe tbody tr th {\n",
       "        vertical-align: top;\n",
       "    }\n",
       "</style>\n",
       "<table border=\"1\" class=\"dataframe\">\n",
       "  <thead>\n",
       "    <tr style=\"text-align: right;\">\n",
       "      <th></th>\n",
       "      <th>0</th>\n",
       "      <th>1</th>\n",
       "      <th>2</th>\n",
       "      <th>3</th>\n",
       "      <th>4</th>\n",
       "    </tr>\n",
       "  </thead>\n",
       "  <tbody>\n",
       "    <tr>\n",
       "      <th>2006</th>\n",
       "      <td>NaN</td>\n",
       "      <td>NaN</td>\n",
       "      <td>NaN</td>\n",
       "      <td>0.932</td>\n",
       "      <td>3.036</td>\n",
       "    </tr>\n",
       "    <tr>\n",
       "      <th>2007</th>\n",
       "      <td>NaN</td>\n",
       "      <td>NaN</td>\n",
       "      <td>NaN</td>\n",
       "      <td>1.087</td>\n",
       "      <td>1.026</td>\n",
       "    </tr>\n",
       "    <tr>\n",
       "      <th>2008</th>\n",
       "      <td>NaN</td>\n",
       "      <td>NaN</td>\n",
       "      <td>NaN</td>\n",
       "      <td>2.331</td>\n",
       "      <td>7.189</td>\n",
       "    </tr>\n",
       "    <tr>\n",
       "      <th>2009</th>\n",
       "      <td>NaN</td>\n",
       "      <td>NaN</td>\n",
       "      <td>NaN</td>\n",
       "      <td>0.994</td>\n",
       "      <td>0.991</td>\n",
       "    </tr>\n",
       "    <tr>\n",
       "      <th>2010</th>\n",
       "      <td>NaN</td>\n",
       "      <td>NaN</td>\n",
       "      <td>NaN</td>\n",
       "      <td>2.794</td>\n",
       "      <td>18.1</td>\n",
       "    </tr>\n",
       "    <tr>\n",
       "      <th>2011</th>\n",
       "      <td>NaN</td>\n",
       "      <td>NaN</td>\n",
       "      <td>NaN</td>\n",
       "      <td>1.145</td>\n",
       "      <td>0.946</td>\n",
       "    </tr>\n",
       "    <tr>\n",
       "      <th>2012</th>\n",
       "      <td>NaN</td>\n",
       "      <td>NaN</td>\n",
       "      <td>NaN</td>\n",
       "      <td>1.633</td>\n",
       "      <td>5.18</td>\n",
       "    </tr>\n",
       "    <tr>\n",
       "      <th>2013</th>\n",
       "      <td>NaN</td>\n",
       "      <td>NaN</td>\n",
       "      <td>NaN</td>\n",
       "      <td>1.091</td>\n",
       "      <td>0.961</td>\n",
       "    </tr>\n",
       "    <tr>\n",
       "      <th>2014</th>\n",
       "      <td>~End</td>\n",
       "      <td>NaN</td>\n",
       "      <td>NaN</td>\n",
       "      <td>NaN</td>\n",
       "      <td>NaN</td>\n",
       "    </tr>\n",
       "    <tr>\n",
       "      <th>2015</th>\n",
       "      <td>Original Filename: DETECTR_003; Date Last Save...</td>\n",
       "      <td>NaN</td>\n",
       "      <td>NaN</td>\n",
       "      <td>NaN</td>\n",
       "      <td>NaN</td>\n",
       "    </tr>\n",
       "  </tbody>\n",
       "</table>\n",
       "</div>"
      ],
      "text/plain": [
       "                                                      0    1   2      3      4\n",
       "2006                                                NaN  NaN NaN  0.932  3.036\n",
       "2007                                                NaN  NaN NaN  1.087  1.026\n",
       "2008                                                NaN  NaN NaN  2.331  7.189\n",
       "2009                                                NaN  NaN NaN  0.994  0.991\n",
       "2010                                                NaN  NaN NaN  2.794   18.1\n",
       "2011                                                NaN  NaN NaN  1.145  0.946\n",
       "2012                                                NaN  NaN NaN  1.633   5.18\n",
       "2013                                                NaN  NaN NaN  1.091  0.961\n",
       "2014                                               ~End  NaN NaN    NaN    NaN\n",
       "2015  Original Filename: DETECTR_003; Date Last Save...  NaN NaN    NaN    NaN"
      ]
     },
     "execution_count": 5,
     "metadata": {},
     "output_type": "execute_result"
    }
   ],
   "source": [
    "DETECTR_raw.tail(10)"
   ]
  },
  {
   "cell_type": "code",
   "execution_count": 6,
   "metadata": {},
   "outputs": [
    {
     "data": {
      "text/plain": [
       "1938"
      ]
     },
     "execution_count": 6,
     "metadata": {},
     "output_type": "execute_result"
    }
   ],
   "source": [
    "#identify the end of the file\n",
    "end_indices = DETECTR_raw[0][DETECTR_raw[0]=='~End'].index.tolist()\n",
    "end_indices[0]"
   ]
  },
  {
   "cell_type": "code",
   "execution_count": 7,
   "metadata": {},
   "outputs": [],
   "source": [
    "#remove unnecessary colums at the beginning of the file and unnecessary rows at the end of the file\n",
    "#we want to keep the file with the time information\n",
    "DETECTR_raw = DETECTR_raw.drop(list(range(end_indices[0], len(DETECTR_raw))), axis = 0)\n",
    "DETECTR_raw = DETECTR_raw.drop([0,1], axis = 0)\n",
    "DETECTR_raw = DETECTR_raw.drop([1,2], axis = 1)"
   ]
  },
  {
   "cell_type": "code",
   "execution_count": 8,
   "metadata": {},
   "outputs": [
    {
     "data": {
      "text/plain": [
       "121.0"
      ]
     },
     "execution_count": 8,
     "metadata": {},
     "output_type": "execute_result"
    }
   ],
   "source": [
    "#how many plate reads did we have?\n",
    "len(DETECTR_raw)/16"
   ]
  },
  {
   "cell_type": "code",
   "execution_count": 9,
   "metadata": {},
   "outputs": [],
   "source": [
    "#set a variable to identify the number of plate reads\n",
    "num_plate_reads = int(len(DETECTR_raw)/16)"
   ]
  },
  {
   "cell_type": "code",
   "execution_count": 10,
   "metadata": {},
   "outputs": [
    {
     "data": {
      "text/html": [
       "<div>\n",
       "<style>\n",
       "    .dataframe thead tr:only-child th {\n",
       "        text-align: right;\n",
       "    }\n",
       "\n",
       "    .dataframe thead th {\n",
       "        text-align: left;\n",
       "    }\n",
       "\n",
       "    .dataframe tbody tr th {\n",
       "        vertical-align: top;\n",
       "    }\n",
       "</style>\n",
       "<table border=\"1\" class=\"dataframe\">\n",
       "  <thead>\n",
       "    <tr style=\"text-align: right;\">\n",
       "      <th></th>\n",
       "      <th>0</th>\n",
       "      <th>3</th>\n",
       "      <th>4</th>\n",
       "    </tr>\n",
       "  </thead>\n",
       "  <tbody>\n",
       "    <tr>\n",
       "      <th>2</th>\n",
       "      <td>00:00:00</td>\n",
       "      <td>2.948</td>\n",
       "      <td>2.505</td>\n",
       "    </tr>\n",
       "    <tr>\n",
       "      <th>3</th>\n",
       "      <td>NaN</td>\n",
       "      <td>3.968</td>\n",
       "      <td>4.328</td>\n",
       "    </tr>\n",
       "    <tr>\n",
       "      <th>4</th>\n",
       "      <td>NaN</td>\n",
       "      <td>3.45</td>\n",
       "      <td>2.488</td>\n",
       "    </tr>\n",
       "    <tr>\n",
       "      <th>5</th>\n",
       "      <td>NaN</td>\n",
       "      <td>3.346</td>\n",
       "      <td>3.123</td>\n",
       "    </tr>\n",
       "    <tr>\n",
       "      <th>6</th>\n",
       "      <td>NaN</td>\n",
       "      <td>2.848</td>\n",
       "      <td>2.26</td>\n",
       "    </tr>\n",
       "    <tr>\n",
       "      <th>7</th>\n",
       "      <td>NaN</td>\n",
       "      <td>3.381</td>\n",
       "      <td>2.918</td>\n",
       "    </tr>\n",
       "    <tr>\n",
       "      <th>8</th>\n",
       "      <td>NaN</td>\n",
       "      <td>2.876</td>\n",
       "      <td>2.598</td>\n",
       "    </tr>\n",
       "    <tr>\n",
       "      <th>9</th>\n",
       "      <td>NaN</td>\n",
       "      <td>3.64</td>\n",
       "      <td>2.897</td>\n",
       "    </tr>\n",
       "    <tr>\n",
       "      <th>10</th>\n",
       "      <td>NaN</td>\n",
       "      <td>2.731</td>\n",
       "      <td>2.902</td>\n",
       "    </tr>\n",
       "    <tr>\n",
       "      <th>11</th>\n",
       "      <td>NaN</td>\n",
       "      <td>5.06</td>\n",
       "      <td>3.096</td>\n",
       "    </tr>\n",
       "    <tr>\n",
       "      <th>12</th>\n",
       "      <td>NaN</td>\n",
       "      <td>2.835</td>\n",
       "      <td>4.276</td>\n",
       "    </tr>\n",
       "    <tr>\n",
       "      <th>13</th>\n",
       "      <td>NaN</td>\n",
       "      <td>3.113</td>\n",
       "      <td>3.121</td>\n",
       "    </tr>\n",
       "    <tr>\n",
       "      <th>14</th>\n",
       "      <td>NaN</td>\n",
       "      <td>3.098</td>\n",
       "      <td>6.748</td>\n",
       "    </tr>\n",
       "    <tr>\n",
       "      <th>15</th>\n",
       "      <td>NaN</td>\n",
       "      <td>4.536</td>\n",
       "      <td>3.053</td>\n",
       "    </tr>\n",
       "    <tr>\n",
       "      <th>16</th>\n",
       "      <td>NaN</td>\n",
       "      <td>2.901</td>\n",
       "      <td>3.009</td>\n",
       "    </tr>\n",
       "    <tr>\n",
       "      <th>17</th>\n",
       "      <td>NaN</td>\n",
       "      <td>1.984</td>\n",
       "      <td>3.086</td>\n",
       "    </tr>\n",
       "  </tbody>\n",
       "</table>\n",
       "</div>"
      ],
      "text/plain": [
       "           0      3      4\n",
       "2   00:00:00  2.948  2.505\n",
       "3        NaN  3.968  4.328\n",
       "4        NaN   3.45  2.488\n",
       "5        NaN  3.346  3.123\n",
       "6        NaN  2.848   2.26\n",
       "7        NaN  3.381  2.918\n",
       "8        NaN  2.876  2.598\n",
       "9        NaN   3.64  2.897\n",
       "10       NaN  2.731  2.902\n",
       "11       NaN   5.06  3.096\n",
       "12       NaN  2.835  4.276\n",
       "13       NaN  3.113  3.121\n",
       "14       NaN  3.098  6.748\n",
       "15       NaN  4.536  3.053\n",
       "16       NaN  2.901  3.009\n",
       "17       NaN  1.984  3.086"
      ]
     },
     "execution_count": 10,
     "metadata": {},
     "output_type": "execute_result"
    }
   ],
   "source": [
    "DETECTR_raw.head(16)"
   ]
  },
  {
   "cell_type": "code",
   "execution_count": 11,
   "metadata": {},
   "outputs": [],
   "source": [
    "#create a dictionary mapping the row number to a letter for 384 and 96\n",
    "well_dict_384 = {1:\"A\",2:\"B\",3:\"C\",4:\"D\",5:\"E\",6:\"F\",7:\"G\",8:\"H\",9:\"I\",10:\"J\",11:\"K\",12:\"L\",13:\"M\",14:\"N\",15:\"O\",16:\"P\"}\n",
    "well_dict_96 = {1:\"A\",2:\"A\",3:\"B\",4:\"B\",5:\"C\",6:\"C\",7:\"D\",8:\"D\",9:\"E\",10:\"E\",11:\"F\",12:\"F\",13:\"G\",14:\"G\",15:\"H\",16:\"H\"}"
   ]
  },
  {
   "cell_type": "code",
   "execution_count": 12,
   "metadata": {},
   "outputs": [],
   "source": [
    "#initialize the cleaned data frame\n",
    "DETECTR_cleaned = pd.DataFrame(columns = ['time','row_384','column_384', 'row_96','column_96','rfu_value'])"
   ]
  },
  {
   "cell_type": "code",
   "execution_count": 13,
   "metadata": {},
   "outputs": [],
   "source": [
    "#iterate over each plate to create a dataframe with the correct time, the 384 and 96 position and the RFU_value\n",
    "for i in list(range(0,num_plate_reads)):\n",
    "    time = DETECTR_raw.iloc[i*16,0]\n",
    "    for j in list(range(2, 4)):\n",
    "        for k in list(range(i*16, i*16+16)):\n",
    "            rfu_value = DETECTR_raw.loc[k+2,j+1]\n",
    "            row_384 = well_dict_384[k%16+1]\n",
    "            column_384 = j\n",
    "            row_96 = well_dict_96[k%16+1]\n",
    "            column_96 = j // 2\n",
    "            DETECTR_cleaned.loc[len(DETECTR_cleaned)] = [time, row_384, column_384,row_96,column_96,rfu_value]\n",
    "    "
   ]
  },
  {
   "cell_type": "code",
   "execution_count": 14,
   "metadata": {},
   "outputs": [
    {
     "data": {
      "text/plain": [
       "3872"
      ]
     },
     "execution_count": 14,
     "metadata": {},
     "output_type": "execute_result"
    }
   ],
   "source": [
    "#how many rows in our data frame now? should be 384*number of plates\n",
    "len(DETECTR_cleaned)"
   ]
  },
  {
   "cell_type": "code",
   "execution_count": 43,
   "metadata": {},
   "outputs": [],
   "source": [
    "#write this file to a CSV\n",
    "DETECTR_cleaned.to_csv(\"DETECTR_003_tidy.csv\")"
   ]
  },
  {
   "cell_type": "code",
   "execution_count": 15,
   "metadata": {},
   "outputs": [
    {
     "data": {
      "text/plain": [
       "Index(['time', 'row_384', 'column_384', 'row_96', 'column_96', 'rfu_value'], dtype='object')"
      ]
     },
     "execution_count": 15,
     "metadata": {},
     "output_type": "execute_result"
    }
   ],
   "source": [
    "#confirm the shape of our data frame\n",
    "DETECTR_cleaned.columns"
   ]
  },
  {
   "cell_type": "code",
   "execution_count": 16,
   "metadata": {},
   "outputs": [
    {
     "data": {
      "text/html": [
       "<div>\n",
       "<style>\n",
       "    .dataframe thead tr:only-child th {\n",
       "        text-align: right;\n",
       "    }\n",
       "\n",
       "    .dataframe thead th {\n",
       "        text-align: left;\n",
       "    }\n",
       "\n",
       "    .dataframe tbody tr th {\n",
       "        vertical-align: top;\n",
       "    }\n",
       "</style>\n",
       "<table border=\"1\" class=\"dataframe\">\n",
       "  <thead>\n",
       "    <tr style=\"text-align: right;\">\n",
       "      <th></th>\n",
       "      <th>time</th>\n",
       "      <th>row_384</th>\n",
       "      <th>column_384</th>\n",
       "      <th>row_96</th>\n",
       "      <th>column_96</th>\n",
       "      <th>rfu_value</th>\n",
       "    </tr>\n",
       "  </thead>\n",
       "  <tbody>\n",
       "    <tr>\n",
       "      <th>0</th>\n",
       "      <td>00:00:00</td>\n",
       "      <td>A</td>\n",
       "      <td>2</td>\n",
       "      <td>A</td>\n",
       "      <td>1</td>\n",
       "      <td>2.948</td>\n",
       "    </tr>\n",
       "    <tr>\n",
       "      <th>1</th>\n",
       "      <td>00:00:00</td>\n",
       "      <td>B</td>\n",
       "      <td>2</td>\n",
       "      <td>A</td>\n",
       "      <td>1</td>\n",
       "      <td>3.968</td>\n",
       "    </tr>\n",
       "    <tr>\n",
       "      <th>2</th>\n",
       "      <td>00:00:00</td>\n",
       "      <td>C</td>\n",
       "      <td>2</td>\n",
       "      <td>B</td>\n",
       "      <td>1</td>\n",
       "      <td>3.45</td>\n",
       "    </tr>\n",
       "    <tr>\n",
       "      <th>3</th>\n",
       "      <td>00:00:00</td>\n",
       "      <td>D</td>\n",
       "      <td>2</td>\n",
       "      <td>B</td>\n",
       "      <td>1</td>\n",
       "      <td>3.346</td>\n",
       "    </tr>\n",
       "    <tr>\n",
       "      <th>4</th>\n",
       "      <td>00:00:00</td>\n",
       "      <td>E</td>\n",
       "      <td>2</td>\n",
       "      <td>C</td>\n",
       "      <td>1</td>\n",
       "      <td>2.848</td>\n",
       "    </tr>\n",
       "    <tr>\n",
       "      <th>5</th>\n",
       "      <td>00:00:00</td>\n",
       "      <td>F</td>\n",
       "      <td>2</td>\n",
       "      <td>C</td>\n",
       "      <td>1</td>\n",
       "      <td>3.381</td>\n",
       "    </tr>\n",
       "    <tr>\n",
       "      <th>6</th>\n",
       "      <td>00:00:00</td>\n",
       "      <td>G</td>\n",
       "      <td>2</td>\n",
       "      <td>D</td>\n",
       "      <td>1</td>\n",
       "      <td>2.876</td>\n",
       "    </tr>\n",
       "    <tr>\n",
       "      <th>7</th>\n",
       "      <td>00:00:00</td>\n",
       "      <td>H</td>\n",
       "      <td>2</td>\n",
       "      <td>D</td>\n",
       "      <td>1</td>\n",
       "      <td>3.64</td>\n",
       "    </tr>\n",
       "    <tr>\n",
       "      <th>8</th>\n",
       "      <td>00:00:00</td>\n",
       "      <td>I</td>\n",
       "      <td>2</td>\n",
       "      <td>E</td>\n",
       "      <td>1</td>\n",
       "      <td>2.731</td>\n",
       "    </tr>\n",
       "    <tr>\n",
       "      <th>9</th>\n",
       "      <td>00:00:00</td>\n",
       "      <td>J</td>\n",
       "      <td>2</td>\n",
       "      <td>E</td>\n",
       "      <td>1</td>\n",
       "      <td>5.06</td>\n",
       "    </tr>\n",
       "  </tbody>\n",
       "</table>\n",
       "</div>"
      ],
      "text/plain": [
       "       time row_384 column_384 row_96 column_96 rfu_value\n",
       "0  00:00:00       A          2      A         1     2.948\n",
       "1  00:00:00       B          2      A         1     3.968\n",
       "2  00:00:00       C          2      B         1      3.45\n",
       "3  00:00:00       D          2      B         1     3.346\n",
       "4  00:00:00       E          2      C         1     2.848\n",
       "5  00:00:00       F          2      C         1     3.381\n",
       "6  00:00:00       G          2      D         1     2.876\n",
       "7  00:00:00       H          2      D         1      3.64\n",
       "8  00:00:00       I          2      E         1     2.731\n",
       "9  00:00:00       J          2      E         1      5.06"
      ]
     },
     "execution_count": 16,
     "metadata": {},
     "output_type": "execute_result"
    }
   ],
   "source": [
    "DETECTR_cleaned.head(10)"
   ]
  },
  {
   "cell_type": "markdown",
   "metadata": {},
   "source": [
    "## Filter the data frame\n",
    "Select only wells we are interested in"
   ]
  },
  {
   "cell_type": "code",
   "execution_count": 17,
   "metadata": {},
   "outputs": [],
   "source": [
    "#only select rows with the 2 hour (final) time point\n",
    "DETECTR_2hr = DETECTR_cleaned.loc[(DETECTR_cleaned[\"time\"]==\"02:00:00\") ]"
   ]
  },
  {
   "cell_type": "code",
   "execution_count": 18,
   "metadata": {},
   "outputs": [],
   "source": [
    "#only select the rows in which we had sample\n",
    "DETECTR_2hr = DETECTR_2hr.loc[(DETECTR_2hr[\"row_384\"].isin(['A','C','E','G','I','K','M','O']))]"
   ]
  },
  {
   "cell_type": "code",
   "execution_count": 19,
   "metadata": {},
   "outputs": [
    {
     "data": {
      "text/html": [
       "<div>\n",
       "<style>\n",
       "    .dataframe thead tr:only-child th {\n",
       "        text-align: right;\n",
       "    }\n",
       "\n",
       "    .dataframe thead th {\n",
       "        text-align: left;\n",
       "    }\n",
       "\n",
       "    .dataframe tbody tr th {\n",
       "        vertical-align: top;\n",
       "    }\n",
       "</style>\n",
       "<table border=\"1\" class=\"dataframe\">\n",
       "  <thead>\n",
       "    <tr style=\"text-align: right;\">\n",
       "      <th></th>\n",
       "      <th>time</th>\n",
       "      <th>row_384</th>\n",
       "      <th>column_384</th>\n",
       "      <th>row_96</th>\n",
       "      <th>column_96</th>\n",
       "      <th>rfu_value</th>\n",
       "    </tr>\n",
       "  </thead>\n",
       "  <tbody>\n",
       "    <tr>\n",
       "      <th>3840</th>\n",
       "      <td>02:00:00</td>\n",
       "      <td>A</td>\n",
       "      <td>2</td>\n",
       "      <td>A</td>\n",
       "      <td>1</td>\n",
       "      <td>2.933</td>\n",
       "    </tr>\n",
       "    <tr>\n",
       "      <th>3842</th>\n",
       "      <td>02:00:00</td>\n",
       "      <td>C</td>\n",
       "      <td>2</td>\n",
       "      <td>B</td>\n",
       "      <td>1</td>\n",
       "      <td>2.776</td>\n",
       "    </tr>\n",
       "    <tr>\n",
       "      <th>3844</th>\n",
       "      <td>02:00:00</td>\n",
       "      <td>E</td>\n",
       "      <td>2</td>\n",
       "      <td>C</td>\n",
       "      <td>1</td>\n",
       "      <td>2.969</td>\n",
       "    </tr>\n",
       "    <tr>\n",
       "      <th>3846</th>\n",
       "      <td>02:00:00</td>\n",
       "      <td>G</td>\n",
       "      <td>2</td>\n",
       "      <td>D</td>\n",
       "      <td>1</td>\n",
       "      <td>2.973</td>\n",
       "    </tr>\n",
       "    <tr>\n",
       "      <th>3848</th>\n",
       "      <td>02:00:00</td>\n",
       "      <td>I</td>\n",
       "      <td>2</td>\n",
       "      <td>E</td>\n",
       "      <td>1</td>\n",
       "      <td>3.106</td>\n",
       "    </tr>\n",
       "    <tr>\n",
       "      <th>3850</th>\n",
       "      <td>02:00:00</td>\n",
       "      <td>K</td>\n",
       "      <td>2</td>\n",
       "      <td>F</td>\n",
       "      <td>1</td>\n",
       "      <td>3.883</td>\n",
       "    </tr>\n",
       "    <tr>\n",
       "      <th>3852</th>\n",
       "      <td>02:00:00</td>\n",
       "      <td>M</td>\n",
       "      <td>2</td>\n",
       "      <td>G</td>\n",
       "      <td>1</td>\n",
       "      <td>4.169</td>\n",
       "    </tr>\n",
       "    <tr>\n",
       "      <th>3854</th>\n",
       "      <td>02:00:00</td>\n",
       "      <td>O</td>\n",
       "      <td>2</td>\n",
       "      <td>H</td>\n",
       "      <td>1</td>\n",
       "      <td>3.079</td>\n",
       "    </tr>\n",
       "    <tr>\n",
       "      <th>3856</th>\n",
       "      <td>02:00:00</td>\n",
       "      <td>A</td>\n",
       "      <td>3</td>\n",
       "      <td>A</td>\n",
       "      <td>1</td>\n",
       "      <td>2.101</td>\n",
       "    </tr>\n",
       "    <tr>\n",
       "      <th>3858</th>\n",
       "      <td>02:00:00</td>\n",
       "      <td>C</td>\n",
       "      <td>3</td>\n",
       "      <td>B</td>\n",
       "      <td>1</td>\n",
       "      <td>2.359</td>\n",
       "    </tr>\n",
       "    <tr>\n",
       "      <th>3860</th>\n",
       "      <td>02:00:00</td>\n",
       "      <td>E</td>\n",
       "      <td>3</td>\n",
       "      <td>C</td>\n",
       "      <td>1</td>\n",
       "      <td>2.83</td>\n",
       "    </tr>\n",
       "    <tr>\n",
       "      <th>3862</th>\n",
       "      <td>02:00:00</td>\n",
       "      <td>G</td>\n",
       "      <td>3</td>\n",
       "      <td>D</td>\n",
       "      <td>1</td>\n",
       "      <td>4.248</td>\n",
       "    </tr>\n",
       "    <tr>\n",
       "      <th>3864</th>\n",
       "      <td>02:00:00</td>\n",
       "      <td>I</td>\n",
       "      <td>3</td>\n",
       "      <td>E</td>\n",
       "      <td>1</td>\n",
       "      <td>6.569</td>\n",
       "    </tr>\n",
       "    <tr>\n",
       "      <th>3866</th>\n",
       "      <td>02:00:00</td>\n",
       "      <td>K</td>\n",
       "      <td>3</td>\n",
       "      <td>F</td>\n",
       "      <td>1</td>\n",
       "      <td>11.865</td>\n",
       "    </tr>\n",
       "    <tr>\n",
       "      <th>3868</th>\n",
       "      <td>02:00:00</td>\n",
       "      <td>M</td>\n",
       "      <td>3</td>\n",
       "      <td>G</td>\n",
       "      <td>1</td>\n",
       "      <td>30.857</td>\n",
       "    </tr>\n",
       "    <tr>\n",
       "      <th>3870</th>\n",
       "      <td>02:00:00</td>\n",
       "      <td>O</td>\n",
       "      <td>3</td>\n",
       "      <td>H</td>\n",
       "      <td>1</td>\n",
       "      <td>7.892</td>\n",
       "    </tr>\n",
       "  </tbody>\n",
       "</table>\n",
       "</div>"
      ],
      "text/plain": [
       "          time row_384 column_384 row_96 column_96 rfu_value\n",
       "3840  02:00:00       A          2      A         1     2.933\n",
       "3842  02:00:00       C          2      B         1     2.776\n",
       "3844  02:00:00       E          2      C         1     2.969\n",
       "3846  02:00:00       G          2      D         1     2.973\n",
       "3848  02:00:00       I          2      E         1     3.106\n",
       "3850  02:00:00       K          2      F         1     3.883\n",
       "3852  02:00:00       M          2      G         1     4.169\n",
       "3854  02:00:00       O          2      H         1     3.079\n",
       "3856  02:00:00       A          3      A         1     2.101\n",
       "3858  02:00:00       C          3      B         1     2.359\n",
       "3860  02:00:00       E          3      C         1      2.83\n",
       "3862  02:00:00       G          3      D         1     4.248\n",
       "3864  02:00:00       I          3      E         1     6.569\n",
       "3866  02:00:00       K          3      F         1    11.865\n",
       "3868  02:00:00       M          3      G         1    30.857\n",
       "3870  02:00:00       O          3      H         1     7.892"
      ]
     },
     "execution_count": 19,
     "metadata": {},
     "output_type": "execute_result"
    }
   ],
   "source": [
    "DETECTR_2hr"
   ]
  },
  {
   "cell_type": "code",
   "execution_count": 20,
   "metadata": {},
   "outputs": [],
   "source": [
    "#define the experimental set for grouping later on\n",
    "DETECTR_2hr['experiment_set'] = pd.Series([\"gRNA\",\"gRNA\",\"gRNA\",\"gRNA\",\"gRNA\",\"gRNA\",\"gRNA\",\"targetDNA\", \"reporter\",\"reporter\",\"reporter\",\"reporter\",\"reporter\",\"reporter\",\"reporter\",\"targetDNA\"], index = DETECTR_2hr.index)"
   ]
  },
  {
   "cell_type": "code",
   "execution_count": 21,
   "metadata": {},
   "outputs": [],
   "source": [
    "#define the concentrations from the experimental set up\n",
    "DETECTR_2hr['concentration'] = pd.Series([0,31.25,62.5,125,250,500,750,1,0,12.5,25,50,125,250,500,10], index = DETECTR_2hr.index)"
   ]
  },
  {
   "cell_type": "markdown",
   "metadata": {},
   "source": [
    "## Plot the data\n",
    "Create plots for each experiment set"
   ]
  },
  {
   "cell_type": "code",
   "execution_count": 25,
   "metadata": {},
   "outputs": [],
   "source": [
    "DETECTR_2hr['rfu_value'] = DETECTR_2hr['rfu_value'].map(float)"
   ]
  },
  {
   "cell_type": "code",
   "execution_count": 26,
   "metadata": {},
   "outputs": [
    {
     "data": {
      "text/plain": [
       "<matplotlib.axes._subplots.AxesSubplot at 0x115844080>"
      ]
     },
     "execution_count": 26,
     "metadata": {},
     "output_type": "execute_result"
    },
    {
     "data": {
      "image/png": "[encoded data removed]",
      "text/plain": [
       "<matplotlib.figure.Figure at 0x1158449e8>"
      ]
     },
     "metadata": {
      "needs_background": "light"
     },
     "output_type": "display_data"
    }
   ],
   "source": [
    "#plot the RFU_value over gRNA concentration\n",
    "DETECTR_2hr.loc[DETECTR_2hr['experiment_set']=='gRNA'].plot(x = 'concentration', y = 'rfu_value',kind = 'scatter',title = 'gRNA Concentration (nM)')"
   ]
  },
  {
   "cell_type": "code",
   "execution_count": 27,
   "metadata": {},
   "outputs": [
    {
     "data": {
      "text/plain": [
       "<matplotlib.axes._subplots.AxesSubplot at 0x1158376d8>"
      ]
     },
     "execution_count": 27,
     "metadata": {},
     "output_type": "execute_result"
    },
    {
     "data": {
      "image/png": "[encoded data removed]",
      "text/plain": [
       "<matplotlib.figure.Figure at 0x11586a8d0>"
      ]
     },
     "metadata": {
      "needs_background": "light"
     },
     "output_type": "display_data"
    }
   ],
   "source": [
    "#plot the RFU_value over reporter concentration\n",
    "DETECTR_2hr.loc[DETECTR_2hr['experiment_set']=='reporter'].plot(x = 'concentration', y = 'rfu_value',kind = 'scatter', title = 'Reporter DNA Concentration (nM)')"
   ]
  },
  {
   "cell_type": "code",
   "execution_count": 28,
   "metadata": {},
   "outputs": [
    {
     "data": {
      "text/plain": [
       "<matplotlib.axes._subplots.AxesSubplot at 0x115819b70>"
      ]
     },
     "execution_count": 28,
     "metadata": {},
     "output_type": "execute_result"
    },
    {
     "data": {
      "image/png": "[encoded data removed]",
      "text/plain": [
       "<matplotlib.figure.Figure at 0x1158b69e8>"
      ]
     },
     "metadata": {
      "needs_background": "light"
     },
     "output_type": "display_data"
    }
   ],
   "source": [
    "#plot the RFU_value over target DNA concentration\n",
    "DETECTR_2hr.loc[(DETECTR_2hr['experiment_set']=='targetDNA') | (DETECTR_2hr['concentration']==0)].plot(x = 'concentration', y = 'rfu_value',kind = 'scatter', title = 'Target DNA Concentration (nM)' )"
   ]
  },
  {
   "cell_type": "code",
   "execution_count": 29,
   "metadata": {},
   "outputs": [
    {
     "data": {
      "text/plain": [
       "<matplotlib.axes._subplots.AxesSubplot at 0x11dcbcfd0>"
      ]
     },
     "execution_count": 29,
     "metadata": {},
     "output_type": "execute_result"
    },
    {
     "data": {
      "image/png": "[encoded data removed]",
      "text/plain": [
       "<matplotlib.figure.Figure at 0x11dd46518>"
      ]
     },
     "metadata": {
      "needs_background": "light"
     },
     "output_type": "display_data"
    }
   ],
   "source": [
    "#plot the RFU_value labelling the points with the experiment set they were a part of\n",
    "#first select colors for each experimental set, then create a new column mapping the experiment set to that column\n",
    "colors = {'gRNA':'g','reporter':'b', 'targetDNA':'r'}\n",
    "DETECTR_2hr['colors'] = DETECTR_2hr['experiment_set'].map(colors)\n",
    "DETECTR_2hr.plot(x = 'concentration', y = \"rfu_value\", kind = 'scatter', c=DETECTR_2hr['colors'], legend = True)"
   ]
  },
  {
   "cell_type": "markdown",
   "metadata": {},
   "source": [
    "## Conclusions\n",
    "Reporter has a huge effect on the final RFU. I increased our final concentration to 125nM. \n",
    "\n",
    "gRNA also has an effect on final RFU but hard to evaluate with only 3X guides. Will repeat with higher gRNA concentrations.\n",
    "\n",
    "Target DNA is a limiting factor - we need a LOT of input DNA (1.6ng)\n",
    "\n",
    "Wondering if template from transcription is interfering with reaction to cleave reporter as the template is also ssDNA - try DNAse treating to see. Can also order dsDNA transcription template"
   ]
  }
 ],
 "metadata": {
  "kernelspec": {
   "display_name": "Python [default]",
   "language": "python",
   "name": "python3"
  },
  "language_info": {
   "codemirror_mode": {
    "name": "ipython",
    "version": 3
   },
   "file_extension": ".py",
   "mimetype": "text/x-python",
   "name": "python",
   "nbconvert_exporter": "python",
   "pygments_lexer": "ipython3",
   "version": "3.6.8"
  }
 },
 "nbformat": 4,
 "nbformat_minor": 2
}
