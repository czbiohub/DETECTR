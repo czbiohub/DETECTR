{
 "cells": [
  {
   "cell_type": "markdown",
   "metadata": {},
   "source": [
    "# DETECTR 005 Analysis\n",
    "This notebook is for formatting, analyzing and plotting the DETECTR_005 data as practice for analyzing DETECTR data via this python script (created by AL)\n",
    "\n",
    "## Objective\n",
    "Comparing DNAse vs non-DNAse treatment on guide RNAs. "
   ]
  },
  {
   "cell_type": "markdown",
   "metadata": {},
   "source": [
    "## Formatting to CSV file\n",
    "Take txt file from plate reader and turn into tidy data format"
   ]
  },
  {
   "cell_type": "code",
   "execution_count": null,
   "metadata": {},
   "outputs": [],
   "source": [
    "#import libraries\n",
    "import pandas as pd\n",
    "import numpy as np\n",
    "import matplotlib.pyplot as plt\n",
    "import statistics\n",
    "\n",
    "import holoviews as hv\n",
    "import bokeh\n",
    "import hvplot.pandas"
   ]
  },
  {
   "cell_type": "code",
   "execution_count": null,
   "metadata": {},
   "outputs": [],
   "source": [
    "#read in CSV file\n",
    "DETECTR_raw = pd.read_csv(\"../raw_txt_files/DETECTR_005.txt\", encoding='utf-16', sep=\"\\t\", delimiter=\"\\t\",index_col=None, skiprows= 3,header = None)"
   ]
  },
  {
   "cell_type": "code",
   "execution_count": null,
   "metadata": {},
   "outputs": [],
   "source": [
    "end_indices = DETECTR_raw[0][DETECTR_raw[0]=='~End'].index.tolist()\n",
    "end_indices[0]"
   ]
  },
  {
   "cell_type": "code",
   "execution_count": null,
   "metadata": {},
   "outputs": [],
   "source": [
    "#remove unnecessary colums at the beginning of the file and unnecessary rows at the end of the file\n",
    "#we want to keep the file with the time information\n",
    "DETECTR_raw = DETECTR_raw.drop(list(range(end_indices[0], len(DETECTR_raw))), axis = 0)"
   ]
  },
  {
   "cell_type": "code",
   "execution_count": null,
   "metadata": {},
   "outputs": [],
   "source": [
    "#select only the first columns\n",
    "DETECTR_raw = DETECTR_raw.iloc[:,[0,6,7]]"
   ]
  },
  {
   "cell_type": "code",
   "execution_count": null,
   "metadata": {},
   "outputs": [],
   "source": [
    "#how many plate reads did we have?\n",
    "len(DETECTR_raw)/16"
   ]
  },
  {
   "cell_type": "code",
   "execution_count": null,
   "metadata": {},
   "outputs": [],
   "source": [
    "#set a variable to identify the number of plate reads\n",
    "num_plate_reads = int(len(DETECTR_raw)/16)"
   ]
  },
  {
   "cell_type": "code",
   "execution_count": null,
   "metadata": {},
   "outputs": [],
   "source": [
    "#create a dictionary mapping the row number to a letter for 384 and 96\n",
    "well_dict_384 = {1:\"A\",2:\"B\",3:\"C\",4:\"D\",5:\"E\",6:\"F\",7:\"G\",8:\"H\",9:\"I\",10:\"J\",11:\"K\",12:\"L\",13:\"M\",14:\"N\",15:\"O\",16:\"P\"}\n",
    "well_dict_96 = {1:\"A\",2:\"A\",3:\"B\",4:\"B\",5:\"C\",6:\"C\",7:\"D\",8:\"D\",9:\"E\",10:\"E\",11:\"F\",12:\"F\",13:\"G\",14:\"G\",15:\"H\",16:\"H\"}"
   ]
  },
  {
   "cell_type": "code",
   "execution_count": null,
   "metadata": {},
   "outputs": [],
   "source": [
    "#initialize the cleaned data frame\n",
    "DETECTR_cleaned = pd.DataFrame(columns = ['time','row_384','column_384', 'rfu_value'])"
   ]
  },
  {
   "cell_type": "code",
   "execution_count": null,
   "metadata": {},
   "outputs": [],
   "source": [
    "DETECTR_raw.head(10)"
   ]
  },
  {
   "cell_type": "code",
   "execution_count": null,
   "metadata": {},
   "outputs": [],
   "source": [
    "#iterate over each plate to create a dataframe with the correct time, the 384 and 96 position and the RFU_value\n",
    "for i in list(range(0,num_plate_reads)):\n",
    "    time = DETECTR_raw.iloc[i*16,0]\n",
    "    for j in list(range(6, 8)):\n",
    "        for k in list(range(i*16, i*16+16)):\n",
    "            rfu_value = DETECTR_raw.loc[k,j]\n",
    "            row_384 = well_dict_384[k%16+1]\n",
    "            column_384 = j-1\n",
    "            DETECTR_cleaned.loc[len(DETECTR_cleaned)] = [time, row_384, column_384,rfu_value]"
   ]
  },
  {
   "cell_type": "code",
   "execution_count": null,
   "metadata": {},
   "outputs": [],
   "source": [
    "#how many rows in our data frame now? should be 384*number of plates\n",
    "len(DETECTR_cleaned)"
   ]
  },
  {
   "cell_type": "code",
   "execution_count": null,
   "metadata": {},
   "outputs": [],
   "source": [
    "#write this file to a CSV\n",
    "DETECTR_cleaned.to_csv(\"../tidy_data/DETECTR_005_tidy.csv\")"
   ]
  },
  {
   "cell_type": "code",
   "execution_count": null,
   "metadata": {},
   "outputs": [],
   "source": [
    "DETECTR_cleaned"
   ]
  },
  {
   "cell_type": "markdown",
   "metadata": {},
   "source": [
    "## Filter the data frame\n",
    "Select only wells we are interested in"
   ]
  },
  {
   "cell_type": "code",
   "execution_count": null,
   "metadata": {},
   "outputs": [],
   "source": [
    "def kinetics(DETECTR_cleaned, num_plate_reads):\n",
    "    DETECTR_cleaned = DETECTR_cleaned.loc[(DETECTR_cleaned[\"row_384\"].isin(['A','C','E','G','I','K','M','O']))]\n",
    "    DETECTR_cleaned = DETECTR_cleaned.assign(DNAse=num_plate_reads*([\"non-DNAse\"]*8+['DNAse']*8))\n",
    "    DETECTR_cleaned = DETECTR_cleaned.assign(gRNA_stock_concentration = num_plate_reads*([110,55,27.5,13.75,6.875,3.43,1.72,0]*2))\n",
    "    DETECTR_cleaned = DETECTR_cleaned.assign(well = DETECTR_cleaned['row_384'].map(str)+DETECTR_cleaned['column_384'].map(str))\n",
    "    DETECTR_cleaned['rfu_value'] = DETECTR_cleaned['rfu_value'].map(float)\n",
    "    return DETECTR_cleaned"
   ]
  },
  {
   "cell_type": "code",
   "execution_count": null,
   "metadata": {},
   "outputs": [],
   "source": [
    "DETECTR_kinetics = kinetics(DETECTR_cleaned, num_plate_reads)"
   ]
  },
  {
   "cell_type": "code",
   "execution_count": null,
   "metadata": {},
   "outputs": [],
   "source": [
    "DETECTR_kinetics.hvplot.scatter(x='time',y='rfu_value',by = 'DNAse', groupby = 'gRNA_stock_concentration',rot = 90)"
   ]
  },
  {
   "cell_type": "code",
   "execution_count": null,
   "metadata": {},
   "outputs": [],
   "source": [
    "def filter_time(DETECTR_cleaned, time):\n",
    "    DETECTR_cleaned = DETECTR_cleaned.loc[(DETECTR_cleaned[\"row_384\"].isin(['A','C','E','G','I','K','M','O']))]\n",
    "    DETECTR_cleaned = DETECTR_cleaned[DETECTR_cleaned['time']==time]\n",
    "    DETECTR_cleaned = DETECTR_cleaned.assign(DNAse=([\"non-DNAse\"]*8+['DNAse']*8))\n",
    "    DETECTR_cleaned = DETECTR_cleaned.assign(gRNA_stock_concentration = ([110,55,27.5,13.75,6.875,3.43,1.72,0]*2))\n",
    "    DETECTR_cleaned = DETECTR_cleaned.assign(well = DETECTR_cleaned['row_384'].map(str)+DETECTR_cleaned['column_384'].map(str))\n",
    "    DETECTR_cleaned['rfu_value'] = DETECTR_cleaned['rfu_value'].map(float)\n",
    "    return DETECTR_cleaned"
   ]
  },
  {
   "cell_type": "code",
   "execution_count": null,
   "metadata": {},
   "outputs": [],
   "source": [
    "DETECTR_2hr = filter_time(DETECTR_cleaned,'02:00:00')"
   ]
  },
  {
   "cell_type": "code",
   "execution_count": null,
   "metadata": {},
   "outputs": [],
   "source": [
    "DETECTR_2hr.hvplot(x='gRNA_stock_concentration',y='rfu_value', by = 'DNAse')"
   ]
  },
  {
   "cell_type": "code",
   "execution_count": null,
   "metadata": {},
   "outputs": [],
   "source": [
    "DETECTR_4hr = filter_time(DETECTR_cleaned,'04:00:00')"
   ]
  },
  {
   "cell_type": "code",
   "execution_count": null,
   "metadata": {},
   "outputs": [],
   "source": [
    "DETECTR_4hr.hvplot(x='gRNA_stock_concentration',y='rfu_value', by = 'DNAse')"
   ]
  },
  {
   "cell_type": "markdown",
   "metadata": {},
   "source": [
    "## Conclusions\n",
    "all guides work, with a few failures -  B3, E10 and G11"
   ]
  }
 ],
 "metadata": {
  "kernelspec": {
   "display_name": "Python [default]",
   "language": "python",
   "name": "python3"
  },
  "language_info": {
   "codemirror_mode": {
    "name": "ipython",
    "version": 3
   },
   "file_extension": ".py",
   "mimetype": "text/x-python",
   "name": "python",
   "nbconvert_exporter": "python",
   "pygments_lexer": "ipython3",
   "version": "3.6.8"
  }
 },
 "nbformat": 4,
 "nbformat_minor": 2
}
