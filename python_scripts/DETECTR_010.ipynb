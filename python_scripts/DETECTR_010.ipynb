{
 "cells": [
  {
   "cell_type": "markdown",
   "metadata": {},
   "source": [
    "# DETECTR 010 Analysis\n",
    "This notebook is for formatting, analyzing and plotting the DETECTR_010 data. \n",
    "\n",
    "## Objective\n",
    "Test the difference between adding target dsDNA/gDNA before or at the same time as adding reporter. Also, to test different gRNAs with gDNA backgrounds."
   ]
  },
  {
   "cell_type": "markdown",
   "metadata": {},
   "source": [
    "## Formatting to CSV file\n",
    "Take txt file from plate reader and turn into tidy data format"
   ]
  },
  {
   "cell_type": "code",
   "execution_count": 206,
   "metadata": {},
   "outputs": [],
   "source": [
    "#import needed libraries\n",
    "import pandas as pd\n",
    "import numpy as np\n",
    "import matplotlib.pyplot as plt\n",
    "import statistics\n",
    "\n",
    "import holoviews as hv\n",
    "import bokeh\n",
    "import hvplot.pandas"
   ]
  },
  {
   "cell_type": "code",
   "execution_count": 207,
   "metadata": {},
   "outputs": [],
   "source": [
    "#read in CSV file\n",
    "DETECTR_raw = pd.read_csv(\"../raw_txt_files/DETECTR_010.txt\", encoding='utf-16', sep=\"\\t\", delimiter=\"\\t\",index_col=None, skiprows= 3,header = None)"
   ]
  },
  {
   "cell_type": "code",
   "execution_count": 208,
   "metadata": {},
   "outputs": [],
   "source": [
    "#drop empty columns - we only had samples in the 2 and 3 columns of the plate\n",
    "DETECTR_raw = DETECTR_raw.drop(list(range(4,len(DETECTR_raw.columns))), axis=1)"
   ]
  },
  {
   "cell_type": "code",
   "execution_count": 209,
   "metadata": {},
   "outputs": [
    {
     "data": {
      "text/html": [
       "<div>\n",
       "<style>\n",
       "    .dataframe thead tr:only-child th {\n",
       "        text-align: right;\n",
       "    }\n",
       "\n",
       "    .dataframe thead th {\n",
       "        text-align: left;\n",
       "    }\n",
       "\n",
       "    .dataframe tbody tr th {\n",
       "        vertical-align: top;\n",
       "    }\n",
       "</style>\n",
       "<table border=\"1\" class=\"dataframe\">\n",
       "  <thead>\n",
       "    <tr style=\"text-align: right;\">\n",
       "      <th></th>\n",
       "      <th>0</th>\n",
       "      <th>1</th>\n",
       "      <th>2</th>\n",
       "      <th>3</th>\n",
       "    </tr>\n",
       "  </thead>\n",
       "  <tbody>\n",
       "    <tr>\n",
       "      <th>0</th>\n",
       "      <td>00:00:00</td>\n",
       "      <td>36.9</td>\n",
       "      <td>10.755</td>\n",
       "      <td>3.145</td>\n",
       "    </tr>\n",
       "    <tr>\n",
       "      <th>1</th>\n",
       "      <td>NaN</td>\n",
       "      <td>NaN</td>\n",
       "      <td>4.045</td>\n",
       "      <td>3.759</td>\n",
       "    </tr>\n",
       "    <tr>\n",
       "      <th>2</th>\n",
       "      <td>NaN</td>\n",
       "      <td>NaN</td>\n",
       "      <td>8.178</td>\n",
       "      <td>3.043</td>\n",
       "    </tr>\n",
       "    <tr>\n",
       "      <th>3</th>\n",
       "      <td>NaN</td>\n",
       "      <td>NaN</td>\n",
       "      <td>3.318</td>\n",
       "      <td>3.245</td>\n",
       "    </tr>\n",
       "    <tr>\n",
       "      <th>4</th>\n",
       "      <td>NaN</td>\n",
       "      <td>NaN</td>\n",
       "      <td>8.866</td>\n",
       "      <td>3.102</td>\n",
       "    </tr>\n",
       "    <tr>\n",
       "      <th>5</th>\n",
       "      <td>NaN</td>\n",
       "      <td>NaN</td>\n",
       "      <td>3.158</td>\n",
       "      <td>3.690</td>\n",
       "    </tr>\n",
       "    <tr>\n",
       "      <th>6</th>\n",
       "      <td>NaN</td>\n",
       "      <td>NaN</td>\n",
       "      <td>12.527</td>\n",
       "      <td>2.764</td>\n",
       "    </tr>\n",
       "    <tr>\n",
       "      <th>7</th>\n",
       "      <td>NaN</td>\n",
       "      <td>NaN</td>\n",
       "      <td>2.794</td>\n",
       "      <td>3.139</td>\n",
       "    </tr>\n",
       "    <tr>\n",
       "      <th>8</th>\n",
       "      <td>NaN</td>\n",
       "      <td>NaN</td>\n",
       "      <td>8.118</td>\n",
       "      <td>2.955</td>\n",
       "    </tr>\n",
       "    <tr>\n",
       "      <th>9</th>\n",
       "      <td>NaN</td>\n",
       "      <td>NaN</td>\n",
       "      <td>4.190</td>\n",
       "      <td>3.419</td>\n",
       "    </tr>\n",
       "  </tbody>\n",
       "</table>\n",
       "</div>"
      ],
      "text/plain": [
       "          0     1       2      3\n",
       "0  00:00:00  36.9  10.755  3.145\n",
       "1       NaN   NaN   4.045  3.759\n",
       "2       NaN   NaN   8.178  3.043\n",
       "3       NaN   NaN   3.318  3.245\n",
       "4       NaN   NaN   8.866  3.102\n",
       "5       NaN   NaN   3.158  3.690\n",
       "6       NaN   NaN  12.527  2.764\n",
       "7       NaN   NaN   2.794  3.139\n",
       "8       NaN   NaN   8.118  2.955\n",
       "9       NaN   NaN   4.190  3.419"
      ]
     },
     "execution_count": 209,
     "metadata": {},
     "output_type": "execute_result"
    }
   ],
   "source": [
    "DETECTR_raw.head(10)"
   ]
  },
  {
   "cell_type": "code",
   "execution_count": 210,
   "metadata": {},
   "outputs": [
    {
     "data": {
      "text/plain": [
       "1936"
      ]
     },
     "execution_count": 210,
     "metadata": {},
     "output_type": "execute_result"
    }
   ],
   "source": [
    "#identify the end of the file\n",
    "end_indices = DETECTR_raw[0][DETECTR_raw[0]=='~End'].index.tolist()\n",
    "end_indices[0]"
   ]
  },
  {
   "cell_type": "code",
   "execution_count": 211,
   "metadata": {},
   "outputs": [],
   "source": [
    "#remove unnecessary colums at the beginning of the file and unnecessary rows at the end of the file\n",
    "#we want to keep the file with the time information\n",
    "DETECTR_raw = DETECTR_raw.drop(list(range(end_indices[0], len(DETECTR_raw))), axis = 0)"
   ]
  },
  {
   "cell_type": "code",
   "execution_count": 212,
   "metadata": {},
   "outputs": [],
   "source": [
    "DETECTR_raw = DETECTR_raw.drop([1], axis = 1)"
   ]
  },
  {
   "cell_type": "code",
   "execution_count": 213,
   "metadata": {},
   "outputs": [
    {
     "data": {
      "text/plain": [
       "121.0"
      ]
     },
     "execution_count": 213,
     "metadata": {},
     "output_type": "execute_result"
    }
   ],
   "source": [
    "#how many plate reads did we have?\n",
    "len(DETECTR_raw)/16"
   ]
  },
  {
   "cell_type": "code",
   "execution_count": 214,
   "metadata": {},
   "outputs": [],
   "source": [
    "#set a variable to identify the number of plate reads\n",
    "num_plate_reads = int(len(DETECTR_raw)/16)"
   ]
  },
  {
   "cell_type": "code",
   "execution_count": 215,
   "metadata": {},
   "outputs": [
    {
     "data": {
      "text/html": [
       "<div>\n",
       "<style>\n",
       "    .dataframe thead tr:only-child th {\n",
       "        text-align: right;\n",
       "    }\n",
       "\n",
       "    .dataframe thead th {\n",
       "        text-align: left;\n",
       "    }\n",
       "\n",
       "    .dataframe tbody tr th {\n",
       "        vertical-align: top;\n",
       "    }\n",
       "</style>\n",
       "<table border=\"1\" class=\"dataframe\">\n",
       "  <thead>\n",
       "    <tr style=\"text-align: right;\">\n",
       "      <th></th>\n",
       "      <th>0</th>\n",
       "      <th>2</th>\n",
       "      <th>3</th>\n",
       "    </tr>\n",
       "  </thead>\n",
       "  <tbody>\n",
       "    <tr>\n",
       "      <th>0</th>\n",
       "      <td>00:00:00</td>\n",
       "      <td>10.755</td>\n",
       "      <td>3.145</td>\n",
       "    </tr>\n",
       "    <tr>\n",
       "      <th>1</th>\n",
       "      <td>NaN</td>\n",
       "      <td>4.045</td>\n",
       "      <td>3.759</td>\n",
       "    </tr>\n",
       "    <tr>\n",
       "      <th>2</th>\n",
       "      <td>NaN</td>\n",
       "      <td>8.178</td>\n",
       "      <td>3.043</td>\n",
       "    </tr>\n",
       "    <tr>\n",
       "      <th>3</th>\n",
       "      <td>NaN</td>\n",
       "      <td>3.318</td>\n",
       "      <td>3.245</td>\n",
       "    </tr>\n",
       "    <tr>\n",
       "      <th>4</th>\n",
       "      <td>NaN</td>\n",
       "      <td>8.866</td>\n",
       "      <td>3.102</td>\n",
       "    </tr>\n",
       "    <tr>\n",
       "      <th>5</th>\n",
       "      <td>NaN</td>\n",
       "      <td>3.158</td>\n",
       "      <td>3.690</td>\n",
       "    </tr>\n",
       "    <tr>\n",
       "      <th>6</th>\n",
       "      <td>NaN</td>\n",
       "      <td>12.527</td>\n",
       "      <td>2.764</td>\n",
       "    </tr>\n",
       "    <tr>\n",
       "      <th>7</th>\n",
       "      <td>NaN</td>\n",
       "      <td>2.794</td>\n",
       "      <td>3.139</td>\n",
       "    </tr>\n",
       "    <tr>\n",
       "      <th>8</th>\n",
       "      <td>NaN</td>\n",
       "      <td>8.118</td>\n",
       "      <td>2.955</td>\n",
       "    </tr>\n",
       "    <tr>\n",
       "      <th>9</th>\n",
       "      <td>NaN</td>\n",
       "      <td>4.190</td>\n",
       "      <td>3.419</td>\n",
       "    </tr>\n",
       "    <tr>\n",
       "      <th>10</th>\n",
       "      <td>NaN</td>\n",
       "      <td>3.339</td>\n",
       "      <td>2.916</td>\n",
       "    </tr>\n",
       "    <tr>\n",
       "      <th>11</th>\n",
       "      <td>NaN</td>\n",
       "      <td>2.736</td>\n",
       "      <td>3.217</td>\n",
       "    </tr>\n",
       "    <tr>\n",
       "      <th>12</th>\n",
       "      <td>NaN</td>\n",
       "      <td>7.939</td>\n",
       "      <td>2.786</td>\n",
       "    </tr>\n",
       "    <tr>\n",
       "      <th>13</th>\n",
       "      <td>NaN</td>\n",
       "      <td>3.422</td>\n",
       "      <td>3.422</td>\n",
       "    </tr>\n",
       "    <tr>\n",
       "      <th>14</th>\n",
       "      <td>NaN</td>\n",
       "      <td>11.972</td>\n",
       "      <td>2.879</td>\n",
       "    </tr>\n",
       "    <tr>\n",
       "      <th>15</th>\n",
       "      <td>NaN</td>\n",
       "      <td>3.137</td>\n",
       "      <td>3.276</td>\n",
       "    </tr>\n",
       "  </tbody>\n",
       "</table>\n",
       "</div>"
      ],
      "text/plain": [
       "           0       2      3\n",
       "0   00:00:00  10.755  3.145\n",
       "1        NaN   4.045  3.759\n",
       "2        NaN   8.178  3.043\n",
       "3        NaN   3.318  3.245\n",
       "4        NaN   8.866  3.102\n",
       "5        NaN   3.158  3.690\n",
       "6        NaN  12.527  2.764\n",
       "7        NaN   2.794  3.139\n",
       "8        NaN   8.118  2.955\n",
       "9        NaN   4.190  3.419\n",
       "10       NaN   3.339  2.916\n",
       "11       NaN   2.736  3.217\n",
       "12       NaN   7.939  2.786\n",
       "13       NaN   3.422  3.422\n",
       "14       NaN  11.972  2.879\n",
       "15       NaN   3.137  3.276"
      ]
     },
     "execution_count": 215,
     "metadata": {},
     "output_type": "execute_result"
    }
   ],
   "source": [
    "DETECTR_raw.head(16)"
   ]
  },
  {
   "cell_type": "code",
   "execution_count": 216,
   "metadata": {},
   "outputs": [],
   "source": [
    "#create a dictionary mapping the row number to a letter for 384 and 96\n",
    "well_dict_384 = {1:\"A\",2:\"B\",3:\"C\",4:\"D\",5:\"E\",6:\"F\",7:\"G\",8:\"H\",9:\"I\",10:\"J\",11:\"K\",12:\"L\",13:\"M\",14:\"N\",15:\"O\",16:\"P\"}\n",
    "well_dict_96 = {1:\"A\",2:\"A\",3:\"B\",4:\"B\",5:\"C\",6:\"C\",7:\"D\",8:\"D\",9:\"E\",10:\"E\",11:\"F\",12:\"F\",13:\"G\",14:\"G\",15:\"H\",16:\"H\"}"
   ]
  },
  {
   "cell_type": "code",
   "execution_count": 217,
   "metadata": {},
   "outputs": [],
   "source": [
    "#initialize the cleaned data frame\n",
    "DETECTR_cleaned = pd.DataFrame(columns = ['time','row_384','column_384', 'row_96','column_96','rfu_value'])"
   ]
  },
  {
   "cell_type": "code",
   "execution_count": 218,
   "metadata": {},
   "outputs": [],
   "source": [
    "#iterate over each plate to create a dataframe with the correct time, the 384 and 96 position and the RFU_value\n",
    "for i in list(range(0,num_plate_reads)):\n",
    "    time = DETECTR_raw.iloc[i*16,0]\n",
    "    for j in list(range(2, 4)):\n",
    "        for k in list(range(i*16, i*16+16)):\n",
    "            rfu_value = DETECTR_raw.loc[k,j]\n",
    "            row_384 = well_dict_384[k%16+1]\n",
    "            column_384 = j - 1\n",
    "            row_96 = well_dict_96[k%16+1]\n",
    "            column_96 = (j) // 2 \n",
    "            DETECTR_cleaned.loc[len(DETECTR_cleaned)] = [time, row_384, column_384,row_96,column_96,rfu_value]\n",
    "    "
   ]
  },
  {
   "cell_type": "code",
   "execution_count": 219,
   "metadata": {},
   "outputs": [
    {
     "data": {
      "text/html": [
       "<div>\n",
       "<style>\n",
       "    .dataframe thead tr:only-child th {\n",
       "        text-align: right;\n",
       "    }\n",
       "\n",
       "    .dataframe thead th {\n",
       "        text-align: left;\n",
       "    }\n",
       "\n",
       "    .dataframe tbody tr th {\n",
       "        vertical-align: top;\n",
       "    }\n",
       "</style>\n",
       "<table border=\"1\" class=\"dataframe\">\n",
       "  <thead>\n",
       "    <tr style=\"text-align: right;\">\n",
       "      <th></th>\n",
       "      <th>0</th>\n",
       "      <th>2</th>\n",
       "      <th>3</th>\n",
       "    </tr>\n",
       "  </thead>\n",
       "  <tbody>\n",
       "    <tr>\n",
       "      <th>1926</th>\n",
       "      <td>NaN</td>\n",
       "      <td>11.862</td>\n",
       "      <td>2.760</td>\n",
       "    </tr>\n",
       "    <tr>\n",
       "      <th>1927</th>\n",
       "      <td>NaN</td>\n",
       "      <td>2.815</td>\n",
       "      <td>3.596</td>\n",
       "    </tr>\n",
       "    <tr>\n",
       "      <th>1928</th>\n",
       "      <td>NaN</td>\n",
       "      <td>8.509</td>\n",
       "      <td>2.836</td>\n",
       "    </tr>\n",
       "    <tr>\n",
       "      <th>1929</th>\n",
       "      <td>NaN</td>\n",
       "      <td>22.151</td>\n",
       "      <td>14.039</td>\n",
       "    </tr>\n",
       "    <tr>\n",
       "      <th>1930</th>\n",
       "      <td>NaN</td>\n",
       "      <td>3.084</td>\n",
       "      <td>2.751</td>\n",
       "    </tr>\n",
       "    <tr>\n",
       "      <th>1931</th>\n",
       "      <td>NaN</td>\n",
       "      <td>11.331</td>\n",
       "      <td>7.629</td>\n",
       "    </tr>\n",
       "    <tr>\n",
       "      <th>1932</th>\n",
       "      <td>NaN</td>\n",
       "      <td>7.577</td>\n",
       "      <td>2.684</td>\n",
       "    </tr>\n",
       "    <tr>\n",
       "      <th>1933</th>\n",
       "      <td>NaN</td>\n",
       "      <td>3.618</td>\n",
       "      <td>3.876</td>\n",
       "    </tr>\n",
       "    <tr>\n",
       "      <th>1934</th>\n",
       "      <td>NaN</td>\n",
       "      <td>11.691</td>\n",
       "      <td>2.485</td>\n",
       "    </tr>\n",
       "    <tr>\n",
       "      <th>1935</th>\n",
       "      <td>NaN</td>\n",
       "      <td>3.513</td>\n",
       "      <td>3.682</td>\n",
       "    </tr>\n",
       "  </tbody>\n",
       "</table>\n",
       "</div>"
      ],
      "text/plain": [
       "        0       2       3\n",
       "1926  NaN  11.862   2.760\n",
       "1927  NaN   2.815   3.596\n",
       "1928  NaN   8.509   2.836\n",
       "1929  NaN  22.151  14.039\n",
       "1930  NaN   3.084   2.751\n",
       "1931  NaN  11.331   7.629\n",
       "1932  NaN   7.577   2.684\n",
       "1933  NaN   3.618   3.876\n",
       "1934  NaN  11.691   2.485\n",
       "1935  NaN   3.513   3.682"
      ]
     },
     "execution_count": 219,
     "metadata": {},
     "output_type": "execute_result"
    }
   ],
   "source": [
    "DETECTR_raw.tail(10)"
   ]
  },
  {
   "cell_type": "code",
   "execution_count": 220,
   "metadata": {},
   "outputs": [
    {
     "data": {
      "text/html": [
       "<div>\n",
       "<style>\n",
       "    .dataframe thead tr:only-child th {\n",
       "        text-align: right;\n",
       "    }\n",
       "\n",
       "    .dataframe thead th {\n",
       "        text-align: left;\n",
       "    }\n",
       "\n",
       "    .dataframe tbody tr th {\n",
       "        vertical-align: top;\n",
       "    }\n",
       "</style>\n",
       "<table border=\"1\" class=\"dataframe\">\n",
       "  <thead>\n",
       "    <tr style=\"text-align: right;\">\n",
       "      <th></th>\n",
       "      <th>time</th>\n",
       "      <th>row_384</th>\n",
       "      <th>column_384</th>\n",
       "      <th>row_96</th>\n",
       "      <th>column_96</th>\n",
       "      <th>rfu_value</th>\n",
       "    </tr>\n",
       "  </thead>\n",
       "  <tbody>\n",
       "    <tr>\n",
       "      <th>3862</th>\n",
       "      <td>04:00:00</td>\n",
       "      <td>G</td>\n",
       "      <td>2</td>\n",
       "      <td>D</td>\n",
       "      <td>1</td>\n",
       "      <td>2.760</td>\n",
       "    </tr>\n",
       "    <tr>\n",
       "      <th>3863</th>\n",
       "      <td>04:00:00</td>\n",
       "      <td>H</td>\n",
       "      <td>2</td>\n",
       "      <td>D</td>\n",
       "      <td>1</td>\n",
       "      <td>3.596</td>\n",
       "    </tr>\n",
       "    <tr>\n",
       "      <th>3864</th>\n",
       "      <td>04:00:00</td>\n",
       "      <td>I</td>\n",
       "      <td>2</td>\n",
       "      <td>E</td>\n",
       "      <td>1</td>\n",
       "      <td>2.836</td>\n",
       "    </tr>\n",
       "    <tr>\n",
       "      <th>3865</th>\n",
       "      <td>04:00:00</td>\n",
       "      <td>J</td>\n",
       "      <td>2</td>\n",
       "      <td>E</td>\n",
       "      <td>1</td>\n",
       "      <td>14.039</td>\n",
       "    </tr>\n",
       "    <tr>\n",
       "      <th>3866</th>\n",
       "      <td>04:00:00</td>\n",
       "      <td>K</td>\n",
       "      <td>2</td>\n",
       "      <td>F</td>\n",
       "      <td>1</td>\n",
       "      <td>2.751</td>\n",
       "    </tr>\n",
       "    <tr>\n",
       "      <th>3867</th>\n",
       "      <td>04:00:00</td>\n",
       "      <td>L</td>\n",
       "      <td>2</td>\n",
       "      <td>F</td>\n",
       "      <td>1</td>\n",
       "      <td>7.629</td>\n",
       "    </tr>\n",
       "    <tr>\n",
       "      <th>3868</th>\n",
       "      <td>04:00:00</td>\n",
       "      <td>M</td>\n",
       "      <td>2</td>\n",
       "      <td>G</td>\n",
       "      <td>1</td>\n",
       "      <td>2.684</td>\n",
       "    </tr>\n",
       "    <tr>\n",
       "      <th>3869</th>\n",
       "      <td>04:00:00</td>\n",
       "      <td>N</td>\n",
       "      <td>2</td>\n",
       "      <td>G</td>\n",
       "      <td>1</td>\n",
       "      <td>3.876</td>\n",
       "    </tr>\n",
       "    <tr>\n",
       "      <th>3870</th>\n",
       "      <td>04:00:00</td>\n",
       "      <td>O</td>\n",
       "      <td>2</td>\n",
       "      <td>H</td>\n",
       "      <td>1</td>\n",
       "      <td>2.485</td>\n",
       "    </tr>\n",
       "    <tr>\n",
       "      <th>3871</th>\n",
       "      <td>04:00:00</td>\n",
       "      <td>P</td>\n",
       "      <td>2</td>\n",
       "      <td>H</td>\n",
       "      <td>1</td>\n",
       "      <td>3.682</td>\n",
       "    </tr>\n",
       "  </tbody>\n",
       "</table>\n",
       "</div>"
      ],
      "text/plain": [
       "          time row_384 column_384 row_96 column_96  rfu_value\n",
       "3862  04:00:00       G          2      D         1      2.760\n",
       "3863  04:00:00       H          2      D         1      3.596\n",
       "3864  04:00:00       I          2      E         1      2.836\n",
       "3865  04:00:00       J          2      E         1     14.039\n",
       "3866  04:00:00       K          2      F         1      2.751\n",
       "3867  04:00:00       L          2      F         1      7.629\n",
       "3868  04:00:00       M          2      G         1      2.684\n",
       "3869  04:00:00       N          2      G         1      3.876\n",
       "3870  04:00:00       O          2      H         1      2.485\n",
       "3871  04:00:00       P          2      H         1      3.682"
      ]
     },
     "execution_count": 220,
     "metadata": {},
     "output_type": "execute_result"
    }
   ],
   "source": [
    "DETECTR_cleaned.tail(10)"
   ]
  },
  {
   "cell_type": "code",
   "execution_count": 221,
   "metadata": {},
   "outputs": [
    {
     "data": {
      "text/plain": [
       "3872"
      ]
     },
     "execution_count": 221,
     "metadata": {},
     "output_type": "execute_result"
    }
   ],
   "source": [
    "#how many rows in our data frame now? should be 384*number of plates\n",
    "len(DETECTR_cleaned)"
   ]
  },
  {
   "cell_type": "code",
   "execution_count": 222,
   "metadata": {},
   "outputs": [],
   "source": [
    "#write this file to a CSV\n",
    "DETECTR_cleaned.to_csv(\"DETECTR_010_tidy.csv\")"
   ]
  },
  {
   "cell_type": "code",
   "execution_count": 223,
   "metadata": {},
   "outputs": [
    {
     "data": {
      "text/plain": [
       "Index(['time', 'row_384', 'column_384', 'row_96', 'column_96', 'rfu_value'], dtype='object')"
      ]
     },
     "execution_count": 223,
     "metadata": {},
     "output_type": "execute_result"
    }
   ],
   "source": [
    "#confirm the shape of our data frame\n",
    "DETECTR_cleaned.columns"
   ]
  },
  {
   "cell_type": "code",
   "execution_count": 224,
   "metadata": {},
   "outputs": [
    {
     "data": {
      "text/html": [
       "<div>\n",
       "<style>\n",
       "    .dataframe thead tr:only-child th {\n",
       "        text-align: right;\n",
       "    }\n",
       "\n",
       "    .dataframe thead th {\n",
       "        text-align: left;\n",
       "    }\n",
       "\n",
       "    .dataframe tbody tr th {\n",
       "        vertical-align: top;\n",
       "    }\n",
       "</style>\n",
       "<table border=\"1\" class=\"dataframe\">\n",
       "  <thead>\n",
       "    <tr style=\"text-align: right;\">\n",
       "      <th></th>\n",
       "      <th>time</th>\n",
       "      <th>row_384</th>\n",
       "      <th>column_384</th>\n",
       "      <th>row_96</th>\n",
       "      <th>column_96</th>\n",
       "      <th>rfu_value</th>\n",
       "    </tr>\n",
       "  </thead>\n",
       "  <tbody>\n",
       "    <tr>\n",
       "      <th>0</th>\n",
       "      <td>00:00:00</td>\n",
       "      <td>A</td>\n",
       "      <td>1</td>\n",
       "      <td>A</td>\n",
       "      <td>1</td>\n",
       "      <td>10.755</td>\n",
       "    </tr>\n",
       "    <tr>\n",
       "      <th>1</th>\n",
       "      <td>00:00:00</td>\n",
       "      <td>B</td>\n",
       "      <td>1</td>\n",
       "      <td>A</td>\n",
       "      <td>1</td>\n",
       "      <td>4.045</td>\n",
       "    </tr>\n",
       "    <tr>\n",
       "      <th>2</th>\n",
       "      <td>00:00:00</td>\n",
       "      <td>C</td>\n",
       "      <td>1</td>\n",
       "      <td>B</td>\n",
       "      <td>1</td>\n",
       "      <td>8.178</td>\n",
       "    </tr>\n",
       "    <tr>\n",
       "      <th>3</th>\n",
       "      <td>00:00:00</td>\n",
       "      <td>D</td>\n",
       "      <td>1</td>\n",
       "      <td>B</td>\n",
       "      <td>1</td>\n",
       "      <td>3.318</td>\n",
       "    </tr>\n",
       "    <tr>\n",
       "      <th>4</th>\n",
       "      <td>00:00:00</td>\n",
       "      <td>E</td>\n",
       "      <td>1</td>\n",
       "      <td>C</td>\n",
       "      <td>1</td>\n",
       "      <td>8.866</td>\n",
       "    </tr>\n",
       "    <tr>\n",
       "      <th>5</th>\n",
       "      <td>00:00:00</td>\n",
       "      <td>F</td>\n",
       "      <td>1</td>\n",
       "      <td>C</td>\n",
       "      <td>1</td>\n",
       "      <td>3.158</td>\n",
       "    </tr>\n",
       "    <tr>\n",
       "      <th>6</th>\n",
       "      <td>00:00:00</td>\n",
       "      <td>G</td>\n",
       "      <td>1</td>\n",
       "      <td>D</td>\n",
       "      <td>1</td>\n",
       "      <td>12.527</td>\n",
       "    </tr>\n",
       "    <tr>\n",
       "      <th>7</th>\n",
       "      <td>00:00:00</td>\n",
       "      <td>H</td>\n",
       "      <td>1</td>\n",
       "      <td>D</td>\n",
       "      <td>1</td>\n",
       "      <td>2.794</td>\n",
       "    </tr>\n",
       "    <tr>\n",
       "      <th>8</th>\n",
       "      <td>00:00:00</td>\n",
       "      <td>I</td>\n",
       "      <td>1</td>\n",
       "      <td>E</td>\n",
       "      <td>1</td>\n",
       "      <td>8.118</td>\n",
       "    </tr>\n",
       "    <tr>\n",
       "      <th>9</th>\n",
       "      <td>00:00:00</td>\n",
       "      <td>J</td>\n",
       "      <td>1</td>\n",
       "      <td>E</td>\n",
       "      <td>1</td>\n",
       "      <td>4.190</td>\n",
       "    </tr>\n",
       "  </tbody>\n",
       "</table>\n",
       "</div>"
      ],
      "text/plain": [
       "       time row_384 column_384 row_96 column_96  rfu_value\n",
       "0  00:00:00       A          1      A         1     10.755\n",
       "1  00:00:00       B          1      A         1      4.045\n",
       "2  00:00:00       C          1      B         1      8.178\n",
       "3  00:00:00       D          1      B         1      3.318\n",
       "4  00:00:00       E          1      C         1      8.866\n",
       "5  00:00:00       F          1      C         1      3.158\n",
       "6  00:00:00       G          1      D         1     12.527\n",
       "7  00:00:00       H          1      D         1      2.794\n",
       "8  00:00:00       I          1      E         1      8.118\n",
       "9  00:00:00       J          1      E         1      4.190"
      ]
     },
     "execution_count": 224,
     "metadata": {},
     "output_type": "execute_result"
    }
   ],
   "source": [
    "DETECTR_cleaned.head(10)"
   ]
  },
  {
   "cell_type": "markdown",
   "metadata": {},
   "source": [
    "## Filter the data frame\n",
    "Select only wells we are interested in"
   ]
  },
  {
   "cell_type": "code",
   "execution_count": 225,
   "metadata": {},
   "outputs": [],
   "source": [
    "#only select rows with the 2 hour (final) time point\n",
    "DETECTR_4hr = DETECTR_cleaned.loc[(DETECTR_cleaned[\"time\"]==\"04:00:00\") ]"
   ]
  },
  {
   "cell_type": "code",
   "execution_count": 226,
   "metadata": {},
   "outputs": [],
   "source": [
    "#only select the rows in which we had sample\n",
    "DETECTR_4hr = DETECTR_4hr.loc[(DETECTR_4hr[\"row_384\"].isin(['B','D','F','H','J','L','N','P']))]"
   ]
  },
  {
   "cell_type": "code",
   "execution_count": 227,
   "metadata": {},
   "outputs": [
    {
     "data": {
      "text/html": [
       "<div>\n",
       "<style>\n",
       "    .dataframe thead tr:only-child th {\n",
       "        text-align: right;\n",
       "    }\n",
       "\n",
       "    .dataframe thead th {\n",
       "        text-align: left;\n",
       "    }\n",
       "\n",
       "    .dataframe tbody tr th {\n",
       "        vertical-align: top;\n",
       "    }\n",
       "</style>\n",
       "<table border=\"1\" class=\"dataframe\">\n",
       "  <thead>\n",
       "    <tr style=\"text-align: right;\">\n",
       "      <th></th>\n",
       "      <th>time</th>\n",
       "      <th>row_384</th>\n",
       "      <th>column_384</th>\n",
       "      <th>row_96</th>\n",
       "      <th>column_96</th>\n",
       "      <th>rfu_value</th>\n",
       "    </tr>\n",
       "  </thead>\n",
       "  <tbody>\n",
       "    <tr>\n",
       "      <th>3841</th>\n",
       "      <td>04:00:00</td>\n",
       "      <td>B</td>\n",
       "      <td>1</td>\n",
       "      <td>A</td>\n",
       "      <td>1</td>\n",
       "      <td>11.416</td>\n",
       "    </tr>\n",
       "    <tr>\n",
       "      <th>3843</th>\n",
       "      <td>04:00:00</td>\n",
       "      <td>D</td>\n",
       "      <td>1</td>\n",
       "      <td>B</td>\n",
       "      <td>1</td>\n",
       "      <td>7.298</td>\n",
       "    </tr>\n",
       "    <tr>\n",
       "      <th>3845</th>\n",
       "      <td>04:00:00</td>\n",
       "      <td>F</td>\n",
       "      <td>1</td>\n",
       "      <td>C</td>\n",
       "      <td>1</td>\n",
       "      <td>3.875</td>\n",
       "    </tr>\n",
       "    <tr>\n",
       "      <th>3847</th>\n",
       "      <td>04:00:00</td>\n",
       "      <td>H</td>\n",
       "      <td>1</td>\n",
       "      <td>D</td>\n",
       "      <td>1</td>\n",
       "      <td>2.815</td>\n",
       "    </tr>\n",
       "    <tr>\n",
       "      <th>3849</th>\n",
       "      <td>04:00:00</td>\n",
       "      <td>J</td>\n",
       "      <td>1</td>\n",
       "      <td>E</td>\n",
       "      <td>1</td>\n",
       "      <td>22.151</td>\n",
       "    </tr>\n",
       "    <tr>\n",
       "      <th>3851</th>\n",
       "      <td>04:00:00</td>\n",
       "      <td>L</td>\n",
       "      <td>1</td>\n",
       "      <td>F</td>\n",
       "      <td>1</td>\n",
       "      <td>11.331</td>\n",
       "    </tr>\n",
       "    <tr>\n",
       "      <th>3853</th>\n",
       "      <td>04:00:00</td>\n",
       "      <td>N</td>\n",
       "      <td>1</td>\n",
       "      <td>G</td>\n",
       "      <td>1</td>\n",
       "      <td>3.618</td>\n",
       "    </tr>\n",
       "    <tr>\n",
       "      <th>3855</th>\n",
       "      <td>04:00:00</td>\n",
       "      <td>P</td>\n",
       "      <td>1</td>\n",
       "      <td>H</td>\n",
       "      <td>1</td>\n",
       "      <td>3.513</td>\n",
       "    </tr>\n",
       "    <tr>\n",
       "      <th>3857</th>\n",
       "      <td>04:00:00</td>\n",
       "      <td>B</td>\n",
       "      <td>2</td>\n",
       "      <td>A</td>\n",
       "      <td>1</td>\n",
       "      <td>9.473</td>\n",
       "    </tr>\n",
       "    <tr>\n",
       "      <th>3859</th>\n",
       "      <td>04:00:00</td>\n",
       "      <td>D</td>\n",
       "      <td>2</td>\n",
       "      <td>B</td>\n",
       "      <td>1</td>\n",
       "      <td>6.800</td>\n",
       "    </tr>\n",
       "    <tr>\n",
       "      <th>3861</th>\n",
       "      <td>04:00:00</td>\n",
       "      <td>F</td>\n",
       "      <td>2</td>\n",
       "      <td>C</td>\n",
       "      <td>1</td>\n",
       "      <td>3.520</td>\n",
       "    </tr>\n",
       "    <tr>\n",
       "      <th>3863</th>\n",
       "      <td>04:00:00</td>\n",
       "      <td>H</td>\n",
       "      <td>2</td>\n",
       "      <td>D</td>\n",
       "      <td>1</td>\n",
       "      <td>3.596</td>\n",
       "    </tr>\n",
       "    <tr>\n",
       "      <th>3865</th>\n",
       "      <td>04:00:00</td>\n",
       "      <td>J</td>\n",
       "      <td>2</td>\n",
       "      <td>E</td>\n",
       "      <td>1</td>\n",
       "      <td>14.039</td>\n",
       "    </tr>\n",
       "    <tr>\n",
       "      <th>3867</th>\n",
       "      <td>04:00:00</td>\n",
       "      <td>L</td>\n",
       "      <td>2</td>\n",
       "      <td>F</td>\n",
       "      <td>1</td>\n",
       "      <td>7.629</td>\n",
       "    </tr>\n",
       "    <tr>\n",
       "      <th>3869</th>\n",
       "      <td>04:00:00</td>\n",
       "      <td>N</td>\n",
       "      <td>2</td>\n",
       "      <td>G</td>\n",
       "      <td>1</td>\n",
       "      <td>3.876</td>\n",
       "    </tr>\n",
       "    <tr>\n",
       "      <th>3871</th>\n",
       "      <td>04:00:00</td>\n",
       "      <td>P</td>\n",
       "      <td>2</td>\n",
       "      <td>H</td>\n",
       "      <td>1</td>\n",
       "      <td>3.682</td>\n",
       "    </tr>\n",
       "  </tbody>\n",
       "</table>\n",
       "</div>"
      ],
      "text/plain": [
       "          time row_384 column_384 row_96 column_96  rfu_value\n",
       "3841  04:00:00       B          1      A         1     11.416\n",
       "3843  04:00:00       D          1      B         1      7.298\n",
       "3845  04:00:00       F          1      C         1      3.875\n",
       "3847  04:00:00       H          1      D         1      2.815\n",
       "3849  04:00:00       J          1      E         1     22.151\n",
       "3851  04:00:00       L          1      F         1     11.331\n",
       "3853  04:00:00       N          1      G         1      3.618\n",
       "3855  04:00:00       P          1      H         1      3.513\n",
       "3857  04:00:00       B          2      A         1      9.473\n",
       "3859  04:00:00       D          2      B         1      6.800\n",
       "3861  04:00:00       F          2      C         1      3.520\n",
       "3863  04:00:00       H          2      D         1      3.596\n",
       "3865  04:00:00       J          2      E         1     14.039\n",
       "3867  04:00:00       L          2      F         1      7.629\n",
       "3869  04:00:00       N          2      G         1      3.876\n",
       "3871  04:00:00       P          2      H         1      3.682"
      ]
     },
     "execution_count": 227,
     "metadata": {},
     "output_type": "execute_result"
    }
   ],
   "source": [
    "DETECTR_4hr"
   ]
  },
  {
   "cell_type": "code",
   "execution_count": 228,
   "metadata": {},
   "outputs": [],
   "source": [
    "#define the experimental time which target DNA and gDNA was added\n",
    "DETECTR_4hr['targetDNA_added'] = pd.Series([\"with_gRNA\",\"with_reporter\",\"with_gRNA\",\"with_reporter\",\"with_gRNA\",\"with_reporter\",\"with_gRNA\",\"with_reporter\",\"with_gRNA\",\"with_reporter\",\"with_gRNA\",\"with_reporter\",\"with_gRNA\",\"with_reporter\",\"with_gRNA\",\"with_reporter\",], index = DETECTR_4hr.index)"
   ]
  },
  {
   "cell_type": "code",
   "execution_count": 229,
   "metadata": {},
   "outputs": [],
   "source": [
    "#define the gRNA + target DNA used for this set\n",
    "DETECTR_4hr['gRNA'] = pd.Series([\"12E\",\"12E\",\"12E\",\"12E\",\"12E\",\"12E\",\"12E\",\"12E\",\"12F\",\"12F\",\"12F\",\"12F\",\"12F\",\"12F\",\"12F\",\"12F\"], index = DETECTR_4hr.index)"
   ]
  },
  {
   "cell_type": "code",
   "execution_count": 237,
   "metadata": {},
   "outputs": [],
   "source": [
    "#define whether gDNA was added\n",
    "DETECTR_4hr['gDNA'] = pd.Series([\"target_DNA\",\"target_DNA\",\"gDNA\",\"gDNA\",\"target_DNA+gDNA\",\"target_DNA+gDNA\",\"H20\",\"H20\",\"target_DNA\",\"target_DNA\",\"gDNA\",\"gDNA\",\"target_DNA+gDNA\",\"target_DNA+gDNA\",\"H20\",\"H20\"], index = DETECTR_4hr.index)"
   ]
  },
  {
   "cell_type": "code",
   "execution_count": 238,
   "metadata": {},
   "outputs": [],
   "source": [
    "DETECTR_4hr['well'] = (DETECTR_4hr['row_384'].map(str) + DETECTR_4hr['column_384'].map(str)).map(str)"
   ]
  },
  {
   "cell_type": "markdown",
   "metadata": {},
   "source": [
    "## Plot the data\n",
    "Create plots for each experiment set"
   ]
  },
  {
   "cell_type": "code",
   "execution_count": 239,
   "metadata": {},
   "outputs": [
    {
     "data": {
      "text/plain": [
       "Index(['time', 'row_384', 'column_384', 'row_96', 'column_96', 'rfu_value',\n",
       "       'targetDNA_added', 'gRNA', 'well', 'rfu_value_bkgrnd_sub', 'gDNA'],\n",
       "      dtype='object')"
      ]
     },
     "execution_count": 239,
     "metadata": {},
     "output_type": "execute_result"
    }
   ],
   "source": [
    "DETECTR_4hr.columns"
   ]
  },
  {
   "cell_type": "code",
   "execution_count": 240,
   "metadata": {},
   "outputs": [],
   "source": [
    "DETECTR_4hr['rfu_value'] = DETECTR_4hr['rfu_value'].map(float)"
   ]
  },
  {
   "cell_type": "code",
   "execution_count": 241,
   "metadata": {},
   "outputs": [
    {
     "data": {
      "text/plain": [
       "3.67225"
      ]
     },
     "execution_count": 241,
     "metadata": {},
     "output_type": "execute_result"
    }
   ],
   "source": [
    "background = statistics.mean(DETECTR_4hr.loc[(DETECTR_4hr[\"column_384\"].isin([1,2])) & (DETECTR_4hr[\"row_384\"].isin(['N','P']) )]['rfu_value'])\n",
    "background"
   ]
  },
  {
   "cell_type": "code",
   "execution_count": 242,
   "metadata": {},
   "outputs": [],
   "source": [
    "DETECTR_4hr['rfu_value_bkgrnd_sub'] = DETECTR_4hr['rfu_value'] - background"
   ]
  },
  {
   "cell_type": "code",
   "execution_count": 243,
   "metadata": {},
   "outputs": [],
   "source": [
    "DETECTR_4hr['sample'] = (DETECTR_4hr['gRNA'].map(str) + \"_\"+DETECTR_4hr['gDNA'].map(str)).map(str)"
   ]
  },
  {
   "cell_type": "code",
   "execution_count": 244,
   "metadata": {},
   "outputs": [
    {
     "data": {
      "image/png": "[encoded data removed]",
      "text/plain": [
       "<matplotlib.figure.Figure at 0x112756c50>"
      ]
     },
     "metadata": {
      "needs_background": "light"
     },
     "output_type": "display_data"
    }
   ],
   "source": [
    "\n",
    "DETECTR_4hr.pivot('sample', 'targetDNA_added','rfu_value_bkgrnd_sub').plot(kind = 'bar',)\n",
    "plt.title ('DETECTR_010 (Time = 4hr)')\n",
    "plt.ylabel('RFU_value - background')\n",
    "plt.rc('font', size=10)\n",
    "plt.rc('axes', labelsize=15)\n",
    "\n",
    "plt.savefig(\"DETECTR_010.pdf\", bbox_inches='tight')\n",
    "\n"
   ]
  },
  {
   "cell_type": "code",
   "execution_count": 245,
   "metadata": {},
   "outputs": [
    {
     "data": {
      "text/plain": [
       "<matplotlib.axes._subplots.AxesSubplot at 0x112965128>"
      ]
     },
     "execution_count": 245,
     "metadata": {},
     "output_type": "execute_result"
    },
    {
     "data": {
      "image/png": "[encoded data removed]",
      "text/plain": [
       "<matplotlib.figure.Figure at 0x1076abcf8>"
      ]
     },
     "metadata": {
      "needs_background": "light"
     },
     "output_type": "display_data"
    }
   ],
   "source": [
    "pd.crosstab([DETECTR_4hr['gDNA'],DETECTR_4hr['targetDNA_added']], DETECTR_4hr['gRNA'], values = DETECTR_4hr['rfu_value'], aggfunc = sum).plot.bar()"
   ]
  },
  {
   "cell_type": "code",
   "execution_count": 270,
   "metadata": {},
   "outputs": [
    {
     "data": {
      "application/vnd.holoviews_exec.v0+json": "",
      "text/html": [
       "<div class=\"hololayout row row-fluid\">\n",
       "  <div class=\"holoframe\" id=\"display_area74e442f6b80d4de0bb4741f5606bc2d2\">\n",
       "    <div id=\"_anim_img74e442f6b80d4de0bb4741f5606bc2d2\">\n",
       "      \n",
       "      <div id='4315' style='display: table; margin: 0 auto;'>\n",
       "\n",
       "\n",
       "\n",
       "\n",
       "\n",
       "  <div class=\"bk-root\" id=\"cf70271a-3d0d-40a1-a75c-7887b205b2e2\" data-root-id=\"4315\"></div>\n",
       "</div>\n",
       "      \n",
       "    </div>\n",
       "  </div>\n",
       "  <div class=\"holowidgets\" id=\"widget_area74e442f6b80d4de0bb4741f5606bc2d2\">\n",
       "    <form class=\"holoform well\" id=\"form74e442f6b80d4de0bb4741f5606bc2d2\">\n",
       "      \n",
       "      \n",
       "        <div class=\"form-group control-group holoformgroup\" style=''>\n",
       "          <label for=\"textInput74e442f6b80d4de0bb4741f5606bc2d2_gRNA\"><strong>gRNA:</strong></label>\n",
       "          <select class=\"holoselect form-control\" id=\"_anim_widget74e442f6b80d4de0bb4741f5606bc2d2_gRNA\" >\n",
       "          </select>\n",
       "        </div>\n",
       "        \n",
       "        \n",
       "        </form>\n",
       "    </div>\n",
       "</div>\n",
       "<script type=\"application/javascript\">/* Instantiate the BokehSelectionWidget class. */\n",
       "/* The IDs given should match those used in the template above. */\n",
       "var widget_ids = new Array(1);\n",
       "\n",
       "\n",
       "widget_ids[0] = \"_anim_widget74e442f6b80d4de0bb4741f5606bc2d2_gRNA\";\n",
       "\n",
       "\n",
       "function create_widget() {\n",
       "  var frame_data = {};\n",
       "  var dim_vals = [0.0];\n",
       "  var keyMap = {};\n",
       "  var notFound = \"<h2 style='vertical-align: middle>No frame at selected dimension value.<h2>\";\n",
       "\n",
       "  var anim = new HoloViews.BokehSelectionWidget(frame_data, \"74e442f6b80d4de0bb4741f5606bc2d2\", widget_ids,\n",
       "  keyMap, dim_vals, notFound, false, \"default\",\n",
       "  false, \"./json_figures/\", true, \"4315\");\n",
       "\n",
       "  HoloViews.index['4315'] = anim;\n",
       "}\n",
       "\n",
       "\n",
       "\n",
       "\n",
       "HoloViews.init_dropdown('74e442f6b80d4de0bb4741f5606bc2d2', '4315', 'gRNA', [0, 1], 0, {}, ['12E', '12F'], 'None', 0, true)\n",
       "\n",
       "\n",
       "\n",
       "\n",
       "create_widget();\n",
       "(function(root) {\n",
       "  function embed_document(root) {\n",
       "    \n",
       "  var docs_json = {\"d8931a22-1323-42cc-aa19-dac4aab8050e\":{\"roots\":{\"references\":[{\"attributes\":{\"below\":[{\"id\":\"4324\",\"type\":\"CategoricalAxis\"}],\"center\":[{\"id\":\"4327\",\"type\":\"Grid\"},{\"id\":\"4332\",\"type\":\"Grid\"}],\"left\":[{\"id\":\"4328\",\"type\":\"LinearAxis\"}],\"margin\":null,\"min_border_bottom\":10,\"min_border_left\":10,\"min_border_right\":10,\"min_border_top\":10,\"plot_height\":300,\"plot_width\":700,\"renderers\":[{\"id\":\"4352\",\"type\":\"GlyphRenderer\"}],\"sizing_mode\":\"fixed\",\"title\":{\"id\":\"4316\",\"type\":\"Title\"},\"toolbar\":{\"id\":\"4338\",\"type\":\"Toolbar\"},\"x_range\":{\"id\":\"4312\",\"type\":\"FactorRange\"},\"x_scale\":{\"id\":\"4320\",\"type\":\"CategoricalScale\"},\"y_range\":{\"id\":\"4313\",\"type\":\"Range1d\"},\"y_scale\":{\"id\":\"4322\",\"type\":\"LinearScale\"}},\"id\":\"4315\",\"subtype\":\"Figure\",\"type\":\"Plot\"},{\"attributes\":{\"overlay\":{\"id\":\"4363\",\"type\":\"BoxAnnotation\"}},\"id\":\"4336\",\"type\":\"BoxZoomTool\"},{\"attributes\":{},\"id\":\"4337\",\"type\":\"ResetTool\"},{\"attributes\":{\"factors\":[\"with_gRNA\",\"with_reporter\"],\"palette\":[\"green\",\"purple\"]},\"id\":\"4345\",\"type\":\"CategoricalColorMapper\"},{\"attributes\":{\"data_source\":{\"id\":\"4346\",\"type\":\"ColumnDataSource\"},\"glyph\":{\"id\":\"4349\",\"type\":\"VBar\"},\"hover_glyph\":null,\"muted_glyph\":{\"id\":\"4351\",\"type\":\"VBar\"},\"nonselection_glyph\":{\"id\":\"4350\",\"type\":\"VBar\"},\"selection_glyph\":null,\"view\":{\"id\":\"4353\",\"type\":\"CDSView\"}},\"id\":\"4352\",\"type\":\"GlyphRenderer\"},{\"attributes\":{\"callback\":null,\"factors\":[[\"H20\",\"with_gRNA\"],[\"H20\",\"with_reporter\"],[\"gDNA\",\"with_gRNA\"],[\"gDNA\",\"with_reporter\"],[\"target_DNA\",\"with_gRNA\"],[\"target_DNA\",\"with_reporter\"],[\"target_DNA+gDNA\",\"with_gRNA\"],[\"target_DNA+gDNA\",\"with_reporter\"]],\"tags\":[[[\"gDNA\",\"gDNA\",null],[\"targetDNA_added\",\"targetDNA_added\",null]]]},\"id\":\"4312\",\"type\":\"FactorRange\"},{\"attributes\":{},\"id\":\"4334\",\"type\":\"PanTool\"},{\"attributes\":{\"source\":{\"id\":\"4346\",\"type\":\"ColumnDataSource\"}},\"id\":\"4353\",\"type\":\"CDSView\"},{\"attributes\":{},\"id\":\"4335\",\"type\":\"WheelZoomTool\"},{\"attributes\":{\"callback\":null,\"end\":18.478749999999998,\"reset_end\":18.478749999999998,\"reset_start\":-0.8572500000000001,\"start\":-0.8572500000000001,\"tags\":[[[\"rfu_value_bkgrnd_sub\",\"rfu_value_bkgrnd_sub\",null]]]},\"id\":\"4313\",\"type\":\"Range1d\"},{\"attributes\":{\"active_drag\":\"auto\",\"active_inspect\":\"auto\",\"active_multi\":null,\"active_scroll\":\"auto\",\"active_tap\":\"auto\",\"tools\":[{\"id\":\"4314\",\"type\":\"HoverTool\"},{\"id\":\"4333\",\"type\":\"SaveTool\"},{\"id\":\"4334\",\"type\":\"PanTool\"},{\"id\":\"4335\",\"type\":\"WheelZoomTool\"},{\"id\":\"4336\",\"type\":\"BoxZoomTool\"},{\"id\":\"4337\",\"type\":\"ResetTool\"}]},\"id\":\"4338\",\"type\":\"Toolbar\"},{\"attributes\":{\"callback\":null,\"renderers\":[{\"id\":\"4352\",\"type\":\"GlyphRenderer\"}],\"tags\":[\"hv_created\"],\"tooltips\":[[\"gDNA\",\"@{gDNA}\"],[\"targetDNA_added\",\"@{targetDNA_added}\"],[\"rfu_value_bkgrnd_sub\",\"@{rfu_value_bkgrnd_sub}\"]]},\"id\":\"4314\",\"type\":\"HoverTool\"},{\"attributes\":{},\"id\":\"4333\",\"type\":\"SaveTool\"},{\"attributes\":{},\"id\":\"4347\",\"type\":\"Selection\"},{\"attributes\":{\"callback\":null,\"data\":{\"gDNA\":[\"target_DNA\",\"gDNA\",\"target_DNA+gDNA\",\"H20\",\"target_DNA\",\"gDNA\",\"target_DNA+gDNA\",\"H20\"],\"rfu_value_bkgrnd_sub\":{\"__ndarray__\":\"mJmZmZn5HkDAyqFFtvPJP8L1KFyPejJAALKd76fGq7+mxks3iQENQDzfT42Xbuu/wvUoXI+iHkAAqvHSTWLEvw==\",\"dtype\":\"float64\",\"shape\":[8]},\"targetDNA_added\":[\"with_gRNA\",\"with_gRNA\",\"with_gRNA\",\"with_gRNA\",\"with_reporter\",\"with_reporter\",\"with_reporter\",\"with_reporter\"],\"xoffsets\":[[\"target_DNA\",\"with_gRNA\"],[\"gDNA\",\"with_gRNA\"],[\"target_DNA+gDNA\",\"with_gRNA\"],[\"H20\",\"with_gRNA\"],[\"target_DNA\",\"with_reporter\"],[\"gDNA\",\"with_reporter\"],[\"target_DNA+gDNA\",\"with_reporter\"],[\"H20\",\"with_reporter\"]]},\"selected\":{\"id\":\"4347\",\"type\":\"Selection\"},\"selection_policy\":{\"id\":\"4364\",\"type\":\"UnionRenderers\"}},\"id\":\"4346\",\"type\":\"ColumnDataSource\"},{\"attributes\":{},\"id\":\"4364\",\"type\":\"UnionRenderers\"},{\"attributes\":{},\"id\":\"4329\",\"type\":\"BasicTicker\"},{\"attributes\":{},\"id\":\"4356\",\"type\":\"BasicTickFormatter\"},{\"attributes\":{\"dimension\":1,\"grid_line_color\":null,\"ticker\":{\"id\":\"4329\",\"type\":\"BasicTicker\"}},\"id\":\"4332\",\"type\":\"Grid\"},{\"attributes\":{\"fill_alpha\":{\"value\":0.1},\"fill_color\":{\"field\":\"targetDNA_added\",\"transform\":{\"id\":\"4345\",\"type\":\"CategoricalColorMapper\"}},\"line_alpha\":{\"value\":0.1},\"line_color\":{\"value\":\"black\"},\"top\":{\"field\":\"rfu_value_bkgrnd_sub\"},\"width\":{\"value\":0.8},\"x\":{\"field\":\"xoffsets\"}},\"id\":\"4350\",\"type\":\"VBar\"},{\"attributes\":{\"grid_line_color\":null,\"ticker\":{\"id\":\"4325\",\"type\":\"CategoricalTicker\"}},\"id\":\"4327\",\"type\":\"Grid\"},{\"attributes\":{\"bottom_units\":\"screen\",\"fill_alpha\":{\"value\":0.5},\"fill_color\":{\"value\":\"lightgrey\"},\"left_units\":\"screen\",\"level\":\"overlay\",\"line_alpha\":{\"value\":1.0},\"line_color\":{\"value\":\"black\"},\"line_dash\":[4,4],\"line_width\":{\"value\":2},\"render_mode\":\"css\",\"right_units\":\"screen\",\"top_units\":\"screen\"},\"id\":\"4363\",\"type\":\"BoxAnnotation\"},{\"attributes\":{\"axis_label\":\"rfu_value_bkgrnd_sub\",\"bounds\":\"auto\",\"formatter\":{\"id\":\"4356\",\"type\":\"BasicTickFormatter\"},\"major_label_orientation\":\"horizontal\",\"ticker\":{\"id\":\"4329\",\"type\":\"BasicTicker\"}},\"id\":\"4328\",\"type\":\"LinearAxis\"},{\"attributes\":{\"fill_alpha\":{\"value\":0.2},\"fill_color\":{\"field\":\"targetDNA_added\",\"transform\":{\"id\":\"4345\",\"type\":\"CategoricalColorMapper\"}},\"line_alpha\":{\"value\":0.2},\"line_color\":{\"value\":\"black\"},\"top\":{\"field\":\"rfu_value_bkgrnd_sub\"},\"width\":{\"value\":0.8},\"x\":{\"field\":\"xoffsets\"}},\"id\":\"4351\",\"type\":\"VBar\"},{\"attributes\":{\"text\":\"gRNA: 12E\",\"text_color\":{\"value\":\"black\"},\"text_font_size\":{\"value\":\"12pt\"}},\"id\":\"4316\",\"type\":\"Title\"},{\"attributes\":{\"fill_color\":{\"field\":\"targetDNA_added\",\"transform\":{\"id\":\"4345\",\"type\":\"CategoricalColorMapper\"}},\"top\":{\"field\":\"rfu_value_bkgrnd_sub\"},\"width\":{\"value\":0.8},\"x\":{\"field\":\"xoffsets\"}},\"id\":\"4349\",\"type\":\"VBar\"},{\"attributes\":{\"axis_label\":\"gDNA, targetDNA_added\",\"bounds\":\"auto\",\"formatter\":{\"id\":\"4354\",\"type\":\"CategoricalTickFormatter\"},\"major_label_orientation\":1.5707963267948966,\"ticker\":{\"id\":\"4325\",\"type\":\"CategoricalTicker\"}},\"id\":\"4324\",\"type\":\"CategoricalAxis\"},{\"attributes\":{},\"id\":\"4325\",\"type\":\"CategoricalTicker\"},{\"attributes\":{},\"id\":\"4322\",\"type\":\"LinearScale\"},{\"attributes\":{},\"id\":\"4320\",\"type\":\"CategoricalScale\"},{\"attributes\":{},\"id\":\"4354\",\"type\":\"CategoricalTickFormatter\"}],\"root_ids\":[\"4315\"]},\"title\":\"Bokeh Application\",\"version\":\"1.2.0\"}};\n",
       "  var render_items = [{\"docid\":\"d8931a22-1323-42cc-aa19-dac4aab8050e\",\"roots\":{\"4315\":\"cf70271a-3d0d-40a1-a75c-7887b205b2e2\"}}];\n",
       "  root.Bokeh.embed.embed_items_notebook(docs_json, render_items);\n",
       "\n",
       "  }\n",
       "  if (root.Bokeh !== undefined) {\n",
       "    embed_document(root);\n",
       "  } else {\n",
       "    var attempts = 0;\n",
       "    var timer = setInterval(function(root) {\n",
       "      if (root.Bokeh !== undefined) {\n",
       "        embed_document(root);\n",
       "        clearInterval(timer);\n",
       "      }\n",
       "      attempts++;\n",
       "      if (attempts > 100) {\n",
       "        console.log(\"Bokeh: ERROR: Unable to run BokehJS code because BokehJS library is missing\");\n",
       "        clearInterval(timer);\n",
       "      }\n",
       "    }, 10, root)\n",
       "  }\n",
       "})(window);</script>"
      ],
      "text/plain": [
       ":DynamicMap   [gRNA]\n",
       "   :Bars   [gDNA,targetDNA_added]   (rfu_value_bkgrnd_sub)"
      ]
     },
     "execution_count": 270,
     "metadata": {
      "application/vnd.holoviews_exec.v0+json": {
       "id": "4315"
      }
     },
     "output_type": "execute_result"
    }
   ],
   "source": [
    "DETECTR_4hr.hvplot(x = 'gDNA', y = 'rfu_value_bkgrnd_sub', kind = 'bar', by = 'targetDNA_added',groupby = 'gRNA', color = ['green', 'purple'],rot = 90, legend = True)"
   ]
  },
  {
   "cell_type": "code",
   "execution_count": 278,
   "metadata": {},
   "outputs": [
    {
     "data": {
      "application/vnd.holoviews_exec.v0+json": "",
      "text/html": [
       "<div id='4974' style='display: table; margin: 0 auto;'>\n",
       "\n",
       "\n",
       "\n",
       "\n",
       "\n",
       "  <div class=\"bk-root\" id=\"858910ce-ed1e-4819-8326-0bd0c7e9b44b\" data-root-id=\"4974\"></div>\n",
       "</div>\n",
       "<script type=\"application/javascript\">(function(root) {\n",
       "  function embed_document(root) {\n",
       "    \n",
       "  var docs_json = {\"3528f935-b1aa-4e6e-9bd4-674d7fb3a96d\":{\"roots\":{\"references\":[{\"attributes\":{\"below\":[{\"id\":\"4983\",\"type\":\"CategoricalAxis\"}],\"center\":[{\"id\":\"4986\",\"type\":\"Grid\"},{\"id\":\"4991\",\"type\":\"Grid\"}],\"left\":[{\"id\":\"4987\",\"type\":\"LinearAxis\"}],\"margin\":null,\"min_border_bottom\":10,\"min_border_left\":10,\"min_border_right\":10,\"min_border_top\":10,\"plot_height\":300,\"plot_width\":700,\"renderers\":[{\"id\":\"5011\",\"type\":\"GlyphRenderer\"}],\"sizing_mode\":\"fixed\",\"title\":{\"id\":\"4975\",\"type\":\"Title\"},\"toolbar\":{\"id\":\"4997\",\"type\":\"Toolbar\"},\"x_range\":{\"id\":\"4971\",\"type\":\"FactorRange\"},\"x_scale\":{\"id\":\"4979\",\"type\":\"CategoricalScale\"},\"y_range\":{\"id\":\"4972\",\"type\":\"Range1d\"},\"y_scale\":{\"id\":\"4981\",\"type\":\"LinearScale\"}},\"id\":\"4974\",\"subtype\":\"Figure\",\"type\":\"Plot\"},{\"attributes\":{\"fill_color\":{\"field\":\"targetDNA_added\",\"transform\":{\"id\":\"5004\",\"type\":\"CategoricalColorMapper\"}},\"top\":{\"field\":\"rfu_value_bkgrnd_sub\"},\"width\":{\"value\":0.8},\"x\":{\"field\":\"xoffsets\"}},\"id\":\"5008\",\"type\":\"VBar\"},{\"attributes\":{},\"id\":\"5006\",\"type\":\"Selection\"},{\"attributes\":{},\"id\":\"5015\",\"type\":\"BasicTickFormatter\"},{\"attributes\":{\"bottom_units\":\"screen\",\"fill_alpha\":{\"value\":0.5},\"fill_color\":{\"value\":\"lightgrey\"},\"left_units\":\"screen\",\"level\":\"overlay\",\"line_alpha\":{\"value\":1.0},\"line_color\":{\"value\":\"black\"},\"line_dash\":[4,4],\"line_width\":{\"value\":2},\"render_mode\":\"css\",\"right_units\":\"screen\",\"top_units\":\"screen\"},\"id\":\"5022\",\"type\":\"BoxAnnotation\"},{\"attributes\":{\"text\":\"\",\"text_color\":{\"value\":\"black\"},\"text_font_size\":{\"value\":\"12pt\"}},\"id\":\"4975\",\"type\":\"Title\"},{\"attributes\":{},\"id\":\"5023\",\"type\":\"UnionRenderers\"},{\"attributes\":{},\"id\":\"4979\",\"type\":\"CategoricalScale\"},{\"attributes\":{\"callback\":null,\"data\":{\"gDNA\":[\"target_DNA\",\"gDNA\",\"target_DNA+gDNA\",\"H20\",\"target_DNA\",\"gDNA\",\"target_DNA+gDNA\",\"H20\",\"target_DNA\",\"gDNA\",\"target_DNA+gDNA\",\"H20\",\"target_DNA\",\"gDNA\",\"target_DNA+gDNA\",\"H20\"],\"gRNA\":[\"12E\",\"12E\",\"12E\",\"12E\",\"12F\",\"12F\",\"12F\",\"12F\",\"12E\",\"12E\",\"12E\",\"12E\",\"12F\",\"12F\",\"12F\",\"12F\"],\"rfu_value_bkgrnd_sub\":{\"__ndarray__\":\"mJmZmZn5HkDAyqFFtvPJP8L1KFyPejJAALKd76fGq7+GFtnO9zMXQLByaJHtfMO/s53vp8a7JEAgrkfhehTKP6bGSzeJAQ1APN9PjZdu67/C9Shcj6IeQACq8dJNYsS/EoPAyqEFCUCA61G4HoWzv4CVQ4tspw9AAIcW2c73gz8=\",\"dtype\":\"float64\",\"shape\":[16]},\"targetDNA_added\":[\"with_gRNA\",\"with_gRNA\",\"with_gRNA\",\"with_gRNA\",\"with_gRNA\",\"with_gRNA\",\"with_gRNA\",\"with_gRNA\",\"with_reporter\",\"with_reporter\",\"with_reporter\",\"with_reporter\",\"with_reporter\",\"with_reporter\",\"with_reporter\",\"with_reporter\"],\"well\":[\"B1\",\"F1\",\"J1\",\"N1\",\"B2\",\"F2\",\"J2\",\"N2\",\"D1\",\"H1\",\"L1\",\"P1\",\"D2\",\"H2\",\"L2\",\"P2\"],\"xoffsets\":[[\"B1\",\"with_gRNA\"],[\"F1\",\"with_gRNA\"],[\"J1\",\"with_gRNA\"],[\"N1\",\"with_gRNA\"],[\"B2\",\"with_gRNA\"],[\"F2\",\"with_gRNA\"],[\"J2\",\"with_gRNA\"],[\"N2\",\"with_gRNA\"],[\"D1\",\"with_reporter\"],[\"H1\",\"with_reporter\"],[\"L1\",\"with_reporter\"],[\"P1\",\"with_reporter\"],[\"D2\",\"with_reporter\"],[\"H2\",\"with_reporter\"],[\"L2\",\"with_reporter\"],[\"P2\",\"with_reporter\"]]},\"selected\":{\"id\":\"5006\",\"type\":\"Selection\"},\"selection_policy\":{\"id\":\"5023\",\"type\":\"UnionRenderers\"}},\"id\":\"5005\",\"type\":\"ColumnDataSource\"},{\"attributes\":{},\"id\":\"4981\",\"type\":\"LinearScale\"},{\"attributes\":{},\"id\":\"5013\",\"type\":\"CategoricalTickFormatter\"},{\"attributes\":{\"axis_label\":\"well, targetDNA_added\",\"bounds\":\"auto\",\"formatter\":{\"id\":\"5013\",\"type\":\"CategoricalTickFormatter\"},\"major_label_orientation\":1.5707963267948966,\"ticker\":{\"id\":\"4984\",\"type\":\"CategoricalTicker\"}},\"id\":\"4983\",\"type\":\"CategoricalAxis\"},{\"attributes\":{},\"id\":\"4984\",\"type\":\"CategoricalTicker\"},{\"attributes\":{\"grid_line_color\":null,\"ticker\":{\"id\":\"4984\",\"type\":\"CategoricalTicker\"}},\"id\":\"4986\",\"type\":\"Grid\"},{\"attributes\":{\"source\":{\"id\":\"5005\",\"type\":\"ColumnDataSource\"}},\"id\":\"5012\",\"type\":\"CDSView\"},{\"attributes\":{},\"id\":\"4996\",\"type\":\"ResetTool\"},{\"attributes\":{\"axis_label\":\"rfu_value_bkgrnd_sub\",\"bounds\":\"auto\",\"formatter\":{\"id\":\"5015\",\"type\":\"BasicTickFormatter\"},\"major_label_orientation\":\"horizontal\",\"ticker\":{\"id\":\"4988\",\"type\":\"BasicTicker\"}},\"id\":\"4987\",\"type\":\"LinearAxis\"},{\"attributes\":{\"callback\":null,\"factors\":[[\"B1\",\"with_gRNA\"],[\"B1\",\"with_reporter\"],[\"B2\",\"with_gRNA\"],[\"B2\",\"with_reporter\"],[\"D1\",\"with_gRNA\"],[\"D1\",\"with_reporter\"],[\"D2\",\"with_gRNA\"],[\"D2\",\"with_reporter\"],[\"F1\",\"with_gRNA\"],[\"F1\",\"with_reporter\"],[\"F2\",\"with_gRNA\"],[\"F2\",\"with_reporter\"],[\"H1\",\"with_gRNA\"],[\"H1\",\"with_reporter\"],[\"H2\",\"with_gRNA\"],[\"H2\",\"with_reporter\"],[\"J1\",\"with_gRNA\"],[\"J1\",\"with_reporter\"],[\"J2\",\"with_gRNA\"],[\"J2\",\"with_reporter\"],[\"L1\",\"with_gRNA\"],[\"L1\",\"with_reporter\"],[\"L2\",\"with_gRNA\"],[\"L2\",\"with_reporter\"],[\"N1\",\"with_gRNA\"],[\"N1\",\"with_reporter\"],[\"N2\",\"with_gRNA\"],[\"N2\",\"with_reporter\"],[\"P1\",\"with_gRNA\"],[\"P1\",\"with_reporter\"],[\"P2\",\"with_gRNA\"],[\"P2\",\"with_reporter\"]],\"tags\":[[[\"well\",\"well\",null],[\"targetDNA_added\",\"targetDNA_added\",null]]]},\"id\":\"4971\",\"type\":\"FactorRange\"},{\"attributes\":{},\"id\":\"4994\",\"type\":\"WheelZoomTool\"},{\"attributes\":{\"callback\":null,\"end\":18.478749999999998,\"reset_end\":18.478749999999998,\"reset_start\":-0.8572500000000001,\"start\":-0.8572500000000001,\"tags\":[[[\"rfu_value_bkgrnd_sub\",\"rfu_value_bkgrnd_sub\",null]]]},\"id\":\"4972\",\"type\":\"Range1d\"},{\"attributes\":{\"overlay\":{\"id\":\"5022\",\"type\":\"BoxAnnotation\"}},\"id\":\"4995\",\"type\":\"BoxZoomTool\"},{\"attributes\":{},\"id\":\"4993\",\"type\":\"PanTool\"},{\"attributes\":{\"callback\":null,\"renderers\":[{\"id\":\"5011\",\"type\":\"GlyphRenderer\"}],\"tags\":[\"hv_created\"],\"tooltips\":[[\"well\",\"@{well}\"],[\"targetDNA_added\",\"@{targetDNA_added}\"],[\"rfu_value_bkgrnd_sub\",\"@{rfu_value_bkgrnd_sub}\"],[\"gRNA\",\"@{gRNA}\"],[\"gDNA\",\"@{gDNA}\"]]},\"id\":\"4973\",\"type\":\"HoverTool\"},{\"attributes\":{},\"id\":\"4988\",\"type\":\"BasicTicker\"},{\"attributes\":{\"factors\":[\"with_gRNA\",\"with_reporter\"],\"palette\":[\"#1f77b4\",\"#ff7f0e\"]},\"id\":\"5004\",\"type\":\"CategoricalColorMapper\"},{\"attributes\":{\"fill_alpha\":{\"value\":0.2},\"fill_color\":{\"field\":\"targetDNA_added\",\"transform\":{\"id\":\"5004\",\"type\":\"CategoricalColorMapper\"}},\"line_alpha\":{\"value\":0.2},\"line_color\":{\"value\":\"black\"},\"top\":{\"field\":\"rfu_value_bkgrnd_sub\"},\"width\":{\"value\":0.8},\"x\":{\"field\":\"xoffsets\"}},\"id\":\"5010\",\"type\":\"VBar\"},{\"attributes\":{},\"id\":\"4992\",\"type\":\"SaveTool\"},{\"attributes\":{\"data_source\":{\"id\":\"5005\",\"type\":\"ColumnDataSource\"},\"glyph\":{\"id\":\"5008\",\"type\":\"VBar\"},\"hover_glyph\":null,\"muted_glyph\":{\"id\":\"5010\",\"type\":\"VBar\"},\"nonselection_glyph\":{\"id\":\"5009\",\"type\":\"VBar\"},\"selection_glyph\":null,\"view\":{\"id\":\"5012\",\"type\":\"CDSView\"}},\"id\":\"5011\",\"type\":\"GlyphRenderer\"},{\"attributes\":{\"dimension\":1,\"grid_line_color\":null,\"ticker\":{\"id\":\"4988\",\"type\":\"BasicTicker\"}},\"id\":\"4991\",\"type\":\"Grid\"},{\"attributes\":{\"active_drag\":\"auto\",\"active_inspect\":\"auto\",\"active_multi\":null,\"active_scroll\":\"auto\",\"active_tap\":\"auto\",\"tools\":[{\"id\":\"4973\",\"type\":\"HoverTool\"},{\"id\":\"4992\",\"type\":\"SaveTool\"},{\"id\":\"4993\",\"type\":\"PanTool\"},{\"id\":\"4994\",\"type\":\"WheelZoomTool\"},{\"id\":\"4995\",\"type\":\"BoxZoomTool\"},{\"id\":\"4996\",\"type\":\"ResetTool\"}]},\"id\":\"4997\",\"type\":\"Toolbar\"},{\"attributes\":{\"fill_alpha\":{\"value\":0.1},\"fill_color\":{\"field\":\"targetDNA_added\",\"transform\":{\"id\":\"5004\",\"type\":\"CategoricalColorMapper\"}},\"line_alpha\":{\"value\":0.1},\"line_color\":{\"value\":\"black\"},\"top\":{\"field\":\"rfu_value_bkgrnd_sub\"},\"width\":{\"value\":0.8},\"x\":{\"field\":\"xoffsets\"}},\"id\":\"5009\",\"type\":\"VBar\"}],\"root_ids\":[\"4974\"]},\"title\":\"Bokeh Application\",\"version\":\"1.2.0\"}};\n",
       "  var render_items = [{\"docid\":\"3528f935-b1aa-4e6e-9bd4-674d7fb3a96d\",\"roots\":{\"4974\":\"858910ce-ed1e-4819-8326-0bd0c7e9b44b\"}}];\n",
       "  root.Bokeh.embed.embed_items_notebook(docs_json, render_items);\n",
       "\n",
       "  }\n",
       "  if (root.Bokeh !== undefined) {\n",
       "    embed_document(root);\n",
       "  } else {\n",
       "    var attempts = 0;\n",
       "    var timer = setInterval(function(root) {\n",
       "      if (root.Bokeh !== undefined) {\n",
       "        embed_document(root);\n",
       "        clearInterval(timer);\n",
       "      }\n",
       "      attempts++;\n",
       "      if (attempts > 100) {\n",
       "        console.log(\"Bokeh: ERROR: Unable to run BokehJS code because BokehJS library is missing\");\n",
       "        clearInterval(timer);\n",
       "      }\n",
       "    }, 10, root)\n",
       "  }\n",
       "})(window);</script>"
      ],
      "text/plain": [
       ":Bars   [well,targetDNA_added]   (rfu_value_bkgrnd_sub,gRNA,gDNA)"
      ]
     },
     "execution_count": 278,
     "metadata": {
      "application/vnd.holoviews_exec.v0+json": {
       "id": "4974"
      }
     },
     "output_type": "execute_result"
    }
   ],
   "source": [
    "DETECTR_4hr.hvplot(x = 'well', y = 'rfu_value_bkgrnd_sub', kind = 'bar', hover_cols = ['gRNA','gDNA'], by = 'targetDNA_added', rot = 90, legend = True)"
   ]
  },
  {
   "cell_type": "markdown",
   "metadata": {},
   "source": [
    "## Conclusions\n",
    "Reporter has a huge effect on the final RFU. I increased our final concentration to 125nM. \n",
    "\n",
    "gRNA also has an effect on final RFU but hard to evaluate with only 3X guides. Will repeat with higher gRNA concentrations.\n",
    "\n",
    "Target DNA is a limiting factor - we need a LOT of input DNA (1.6ng)\n",
    "\n",
    "Wondering if template from transcription is interfering with reaction to cleave reporter as the template is also ssDNA - try DNAse treating to see. Can also order dsDNA transcription template"
   ]
  }
 ],
 "metadata": {
  "kernelspec": {
   "display_name": "Python [default]",
   "language": "python",
   "name": "python3"
  },
  "language_info": {
   "codemirror_mode": {
    "name": "ipython",
    "version": 3
   },
   "file_extension": ".py",
   "mimetype": "text/x-python",
   "name": "python",
   "nbconvert_exporter": "python",
   "pygments_lexer": "ipython3",
   "version": "3.6.8"
  }
 },
 "nbformat": 4,
 "nbformat_minor": 2
}
