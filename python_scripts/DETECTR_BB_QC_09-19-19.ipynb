{
 "cells": [
  {
   "cell_type": "markdown",
   "metadata": {},
   "source": [
    "# DETECTR BB QC 09-19-19 Analysis\n",
    "This notebook is for formatting, analyzing and plotting the BB QC for BB made 09-19-19. \n",
    "\n",
    "## Objective\n",
    "Ensure activity of old BB matches new BB"
   ]
  },
  {
   "cell_type": "markdown",
   "metadata": {},
   "source": [
    "## Formatting to CSV file\n",
    "Take txt file from plate reader and turn into tidy data format"
   ]
  },
  {
   "cell_type": "code",
   "execution_count": 2,
   "metadata": {},
   "outputs": [],
   "source": [
    "#import needed libraries\n",
    "import pandas as pd\n",
    "import numpy as np\n",
    "import matplotlib.pyplot as plt\n",
    "import statistics\n",
    "\n",
    "import holoviews as hv\n",
    "import bokeh\n",
    "import hvplot.pandas"
   ]
  },
  {
   "cell_type": "code",
   "execution_count": 3,
   "metadata": {},
   "outputs": [],
   "source": [
    "#read in CSV file\n",
    "DETECTR_raw = pd.read_csv(\"../raw_txt_files/DETECTR_BB_QC_09-19-19.txt\", encoding='utf-16', sep=\"\\t\", delimiter=\"\\t\",index_col=None, skiprows= 3,header = None)"
   ]
  },
  {
   "cell_type": "code",
   "execution_count": 4,
   "metadata": {},
   "outputs": [
    {
     "data": {
      "text/html": [
       "<div>\n",
       "<style scoped>\n",
       "    .dataframe tbody tr th:only-of-type {\n",
       "        vertical-align: middle;\n",
       "    }\n",
       "\n",
       "    .dataframe tbody tr th {\n",
       "        vertical-align: top;\n",
       "    }\n",
       "\n",
       "    .dataframe thead th {\n",
       "        text-align: right;\n",
       "    }\n",
       "</style>\n",
       "<table border=\"1\" class=\"dataframe\">\n",
       "  <thead>\n",
       "    <tr style=\"text-align: right;\">\n",
       "      <th></th>\n",
       "      <th>0</th>\n",
       "      <th>1</th>\n",
       "      <th>2</th>\n",
       "      <th>3</th>\n",
       "      <th>4</th>\n",
       "      <th>5</th>\n",
       "      <th>6</th>\n",
       "      <th>7</th>\n",
       "      <th>8</th>\n",
       "      <th>9</th>\n",
       "      <th>...</th>\n",
       "      <th>18</th>\n",
       "      <th>19</th>\n",
       "      <th>20</th>\n",
       "      <th>21</th>\n",
       "      <th>22</th>\n",
       "      <th>23</th>\n",
       "      <th>24</th>\n",
       "      <th>25</th>\n",
       "      <th>26</th>\n",
       "      <th>27</th>\n",
       "    </tr>\n",
       "  </thead>\n",
       "  <tbody>\n",
       "    <tr>\n",
       "      <th>1164</th>\n",
       "      <td>NaN</td>\n",
       "      <td>NaN</td>\n",
       "      <td>NaN</td>\n",
       "      <td>15.578</td>\n",
       "      <td>NaN</td>\n",
       "      <td>NaN</td>\n",
       "      <td>NaN</td>\n",
       "      <td>NaN</td>\n",
       "      <td>NaN</td>\n",
       "      <td>NaN</td>\n",
       "      <td>...</td>\n",
       "      <td>NaN</td>\n",
       "      <td>NaN</td>\n",
       "      <td>NaN</td>\n",
       "      <td>NaN</td>\n",
       "      <td>NaN</td>\n",
       "      <td>NaN</td>\n",
       "      <td>NaN</td>\n",
       "      <td>NaN</td>\n",
       "      <td>NaN</td>\n",
       "      <td>NaN</td>\n",
       "    </tr>\n",
       "    <tr>\n",
       "      <th>1165</th>\n",
       "      <td>NaN</td>\n",
       "      <td>NaN</td>\n",
       "      <td>NaN</td>\n",
       "      <td>1.477</td>\n",
       "      <td>NaN</td>\n",
       "      <td>NaN</td>\n",
       "      <td>NaN</td>\n",
       "      <td>NaN</td>\n",
       "      <td>NaN</td>\n",
       "      <td>NaN</td>\n",
       "      <td>...</td>\n",
       "      <td>NaN</td>\n",
       "      <td>NaN</td>\n",
       "      <td>NaN</td>\n",
       "      <td>NaN</td>\n",
       "      <td>NaN</td>\n",
       "      <td>NaN</td>\n",
       "      <td>NaN</td>\n",
       "      <td>NaN</td>\n",
       "      <td>NaN</td>\n",
       "      <td>NaN</td>\n",
       "    </tr>\n",
       "    <tr>\n",
       "      <th>1166</th>\n",
       "      <td>NaN</td>\n",
       "      <td>NaN</td>\n",
       "      <td>NaN</td>\n",
       "      <td>16.073</td>\n",
       "      <td>NaN</td>\n",
       "      <td>NaN</td>\n",
       "      <td>NaN</td>\n",
       "      <td>NaN</td>\n",
       "      <td>NaN</td>\n",
       "      <td>NaN</td>\n",
       "      <td>...</td>\n",
       "      <td>NaN</td>\n",
       "      <td>NaN</td>\n",
       "      <td>NaN</td>\n",
       "      <td>NaN</td>\n",
       "      <td>NaN</td>\n",
       "      <td>NaN</td>\n",
       "      <td>NaN</td>\n",
       "      <td>NaN</td>\n",
       "      <td>NaN</td>\n",
       "      <td>NaN</td>\n",
       "    </tr>\n",
       "    <tr>\n",
       "      <th>1167</th>\n",
       "      <td>NaN</td>\n",
       "      <td>NaN</td>\n",
       "      <td>NaN</td>\n",
       "      <td>1.401</td>\n",
       "      <td>NaN</td>\n",
       "      <td>NaN</td>\n",
       "      <td>NaN</td>\n",
       "      <td>NaN</td>\n",
       "      <td>NaN</td>\n",
       "      <td>NaN</td>\n",
       "      <td>...</td>\n",
       "      <td>NaN</td>\n",
       "      <td>NaN</td>\n",
       "      <td>NaN</td>\n",
       "      <td>NaN</td>\n",
       "      <td>NaN</td>\n",
       "      <td>NaN</td>\n",
       "      <td>NaN</td>\n",
       "      <td>NaN</td>\n",
       "      <td>NaN</td>\n",
       "      <td>NaN</td>\n",
       "    </tr>\n",
       "    <tr>\n",
       "      <th>1168</th>\n",
       "      <td>~End</td>\n",
       "      <td>NaN</td>\n",
       "      <td>NaN</td>\n",
       "      <td>NaN</td>\n",
       "      <td>NaN</td>\n",
       "      <td>NaN</td>\n",
       "      <td>NaN</td>\n",
       "      <td>NaN</td>\n",
       "      <td>NaN</td>\n",
       "      <td>NaN</td>\n",
       "      <td>...</td>\n",
       "      <td>NaN</td>\n",
       "      <td>NaN</td>\n",
       "      <td>NaN</td>\n",
       "      <td>NaN</td>\n",
       "      <td>NaN</td>\n",
       "      <td>NaN</td>\n",
       "      <td>NaN</td>\n",
       "      <td>NaN</td>\n",
       "      <td>NaN</td>\n",
       "      <td>NaN</td>\n",
       "    </tr>\n",
       "    <tr>\n",
       "      <th>1169</th>\n",
       "      <td>Original Filename: DETECTR_BB_QC_09-19-19; Dat...</td>\n",
       "      <td>NaN</td>\n",
       "      <td>NaN</td>\n",
       "      <td>NaN</td>\n",
       "      <td>NaN</td>\n",
       "      <td>NaN</td>\n",
       "      <td>NaN</td>\n",
       "      <td>NaN</td>\n",
       "      <td>NaN</td>\n",
       "      <td>NaN</td>\n",
       "      <td>...</td>\n",
       "      <td>NaN</td>\n",
       "      <td>NaN</td>\n",
       "      <td>NaN</td>\n",
       "      <td>NaN</td>\n",
       "      <td>NaN</td>\n",
       "      <td>NaN</td>\n",
       "      <td>NaN</td>\n",
       "      <td>NaN</td>\n",
       "      <td>NaN</td>\n",
       "      <td>NaN</td>\n",
       "    </tr>\n",
       "    <tr>\n",
       "      <th>1170</th>\n",
       "      <td>Workflow:</td>\n",
       "      <td>NaN</td>\n",
       "      <td>NaN</td>\n",
       "      <td>NaN</td>\n",
       "      <td>NaN</td>\n",
       "      <td>NaN</td>\n",
       "      <td>NaN</td>\n",
       "      <td>NaN</td>\n",
       "      <td>NaN</td>\n",
       "      <td>NaN</td>\n",
       "      <td>...</td>\n",
       "      <td>NaN</td>\n",
       "      <td>NaN</td>\n",
       "      <td>NaN</td>\n",
       "      <td>NaN</td>\n",
       "      <td>NaN</td>\n",
       "      <td>NaN</td>\n",
       "      <td>NaN</td>\n",
       "      <td>NaN</td>\n",
       "      <td>NaN</td>\n",
       "      <td>NaN</td>\n",
       "    </tr>\n",
       "    <tr>\n",
       "      <th>1171</th>\n",
       "      <td>-Set Temperature: IsTemperatureControlOn=\"True...</td>\n",
       "      <td>NaN</td>\n",
       "      <td>NaN</td>\n",
       "      <td>NaN</td>\n",
       "      <td>NaN</td>\n",
       "      <td>NaN</td>\n",
       "      <td>NaN</td>\n",
       "      <td>NaN</td>\n",
       "      <td>NaN</td>\n",
       "      <td>NaN</td>\n",
       "      <td>...</td>\n",
       "      <td>NaN</td>\n",
       "      <td>NaN</td>\n",
       "      <td>NaN</td>\n",
       "      <td>NaN</td>\n",
       "      <td>NaN</td>\n",
       "      <td>NaN</td>\n",
       "      <td>NaN</td>\n",
       "      <td>NaN</td>\n",
       "      <td>NaN</td>\n",
       "      <td>NaN</td>\n",
       "    </tr>\n",
       "    <tr>\n",
       "      <th>1172</th>\n",
       "      <td>-Read: ExperimentNameToRead=\"Expt1\" SectionNam...</td>\n",
       "      <td>NaN</td>\n",
       "      <td>NaN</td>\n",
       "      <td>NaN</td>\n",
       "      <td>NaN</td>\n",
       "      <td>NaN</td>\n",
       "      <td>NaN</td>\n",
       "      <td>NaN</td>\n",
       "      <td>NaN</td>\n",
       "      <td>NaN</td>\n",
       "      <td>...</td>\n",
       "      <td>NaN</td>\n",
       "      <td>NaN</td>\n",
       "      <td>NaN</td>\n",
       "      <td>NaN</td>\n",
       "      <td>NaN</td>\n",
       "      <td>NaN</td>\n",
       "      <td>NaN</td>\n",
       "      <td>NaN</td>\n",
       "      <td>NaN</td>\n",
       "      <td>NaN</td>\n",
       "    </tr>\n",
       "    <tr>\n",
       "      <th>1173</th>\n",
       "      <td>-Set Temperature: IsTemperatureControlOn=\"True...</td>\n",
       "      <td>NaN</td>\n",
       "      <td>NaN</td>\n",
       "      <td>NaN</td>\n",
       "      <td>NaN</td>\n",
       "      <td>NaN</td>\n",
       "      <td>NaN</td>\n",
       "      <td>NaN</td>\n",
       "      <td>NaN</td>\n",
       "      <td>NaN</td>\n",
       "      <td>...</td>\n",
       "      <td>NaN</td>\n",
       "      <td>NaN</td>\n",
       "      <td>NaN</td>\n",
       "      <td>NaN</td>\n",
       "      <td>NaN</td>\n",
       "      <td>NaN</td>\n",
       "      <td>NaN</td>\n",
       "      <td>NaN</td>\n",
       "      <td>NaN</td>\n",
       "      <td>NaN</td>\n",
       "    </tr>\n",
       "  </tbody>\n",
       "</table>\n",
       "<p>10 rows × 28 columns</p>\n",
       "</div>"
      ],
      "text/plain": [
       "                                                     0   1   2       3   4   \\\n",
       "1164                                                NaN NaN NaN  15.578 NaN   \n",
       "1165                                                NaN NaN NaN   1.477 NaN   \n",
       "1166                                                NaN NaN NaN  16.073 NaN   \n",
       "1167                                                NaN NaN NaN   1.401 NaN   \n",
       "1168                                               ~End NaN NaN     NaN NaN   \n",
       "1169  Original Filename: DETECTR_BB_QC_09-19-19; Dat... NaN NaN     NaN NaN   \n",
       "1170                                          Workflow: NaN NaN     NaN NaN   \n",
       "1171  -Set Temperature: IsTemperatureControlOn=\"True... NaN NaN     NaN NaN   \n",
       "1172  -Read: ExperimentNameToRead=\"Expt1\" SectionNam... NaN NaN     NaN NaN   \n",
       "1173  -Set Temperature: IsTemperatureControlOn=\"True... NaN NaN     NaN NaN   \n",
       "\n",
       "      5   6   7   8   9   ...  18  19  20  21  22  23  24  25  26  27  \n",
       "1164 NaN NaN NaN NaN NaN  ... NaN NaN NaN NaN NaN NaN NaN NaN NaN NaN  \n",
       "1165 NaN NaN NaN NaN NaN  ... NaN NaN NaN NaN NaN NaN NaN NaN NaN NaN  \n",
       "1166 NaN NaN NaN NaN NaN  ... NaN NaN NaN NaN NaN NaN NaN NaN NaN NaN  \n",
       "1167 NaN NaN NaN NaN NaN  ... NaN NaN NaN NaN NaN NaN NaN NaN NaN NaN  \n",
       "1168 NaN NaN NaN NaN NaN  ... NaN NaN NaN NaN NaN NaN NaN NaN NaN NaN  \n",
       "1169 NaN NaN NaN NaN NaN  ... NaN NaN NaN NaN NaN NaN NaN NaN NaN NaN  \n",
       "1170 NaN NaN NaN NaN NaN  ... NaN NaN NaN NaN NaN NaN NaN NaN NaN NaN  \n",
       "1171 NaN NaN NaN NaN NaN  ... NaN NaN NaN NaN NaN NaN NaN NaN NaN NaN  \n",
       "1172 NaN NaN NaN NaN NaN  ... NaN NaN NaN NaN NaN NaN NaN NaN NaN NaN  \n",
       "1173 NaN NaN NaN NaN NaN  ... NaN NaN NaN NaN NaN NaN NaN NaN NaN NaN  \n",
       "\n",
       "[10 rows x 28 columns]"
      ]
     },
     "execution_count": 4,
     "metadata": {},
     "output_type": "execute_result"
    }
   ],
   "source": [
    "DETECTR_raw.tail(10)"
   ]
  },
  {
   "cell_type": "code",
   "execution_count": 5,
   "metadata": {},
   "outputs": [],
   "source": [
    "#drop unnecessary rows at the end of the csv\n",
    "DETECTR_raw = DETECTR_raw.drop(list(range(len(DETECTR_raw)-6, len(DETECTR_raw))), axis=0)"
   ]
  },
  {
   "cell_type": "code",
   "execution_count": 6,
   "metadata": {},
   "outputs": [],
   "source": [
    "#select only the first columns\n",
    "DETECTR_raw = DETECTR_raw.iloc[:,0:4]"
   ]
  },
  {
   "cell_type": "code",
   "execution_count": 7,
   "metadata": {},
   "outputs": [
    {
     "data": {
      "text/plain": [
       "73.0"
      ]
     },
     "execution_count": 7,
     "metadata": {},
     "output_type": "execute_result"
    }
   ],
   "source": [
    "#how many plate reads did we have?\n",
    "len(DETECTR_raw)/16"
   ]
  },
  {
   "cell_type": "code",
   "execution_count": 8,
   "metadata": {},
   "outputs": [],
   "source": [
    "#set a variable to identify the number of plate reads\n",
    "num_plate_reads = int(len(DETECTR_raw)/16)"
   ]
  },
  {
   "cell_type": "code",
   "execution_count": 9,
   "metadata": {},
   "outputs": [],
   "source": [
    "#create a dictionary mapping the row number to a letter for 384 and 96\n",
    "well_dict_384 = {1:\"A\",2:\"B\",3:\"C\",4:\"D\",5:\"E\",6:\"F\",7:\"G\",8:\"H\",9:\"I\",10:\"J\",11:\"K\",12:\"L\",13:\"M\",14:\"N\",15:\"O\",16:\"P\"}\n",
    "well_dict_96 = {1:\"A\",2:\"A\",3:\"B\",4:\"B\",5:\"C\",6:\"C\",7:\"D\",8:\"D\",9:\"E\",10:\"E\",11:\"F\",12:\"F\",13:\"G\",14:\"G\",15:\"H\",16:\"H\"}"
   ]
  },
  {
   "cell_type": "code",
   "execution_count": 10,
   "metadata": {},
   "outputs": [],
   "source": [
    "#initialize the cleaned data frame\n",
    "DETECTR_cleaned = pd.DataFrame(columns = ['time','row_384','column_384', 'rfu_value'])"
   ]
  },
  {
   "cell_type": "code",
   "execution_count": 11,
   "metadata": {},
   "outputs": [
    {
     "data": {
      "text/html": [
       "<div>\n",
       "<style scoped>\n",
       "    .dataframe tbody tr th:only-of-type {\n",
       "        vertical-align: middle;\n",
       "    }\n",
       "\n",
       "    .dataframe tbody tr th {\n",
       "        vertical-align: top;\n",
       "    }\n",
       "\n",
       "    .dataframe thead th {\n",
       "        text-align: right;\n",
       "    }\n",
       "</style>\n",
       "<table border=\"1\" class=\"dataframe\">\n",
       "  <thead>\n",
       "    <tr style=\"text-align: right;\">\n",
       "      <th></th>\n",
       "      <th>0</th>\n",
       "      <th>1</th>\n",
       "      <th>2</th>\n",
       "      <th>3</th>\n",
       "    </tr>\n",
       "  </thead>\n",
       "  <tbody>\n",
       "    <tr>\n",
       "      <th>0</th>\n",
       "      <td>00:00:00</td>\n",
       "      <td>36.9</td>\n",
       "      <td>NaN</td>\n",
       "      <td>2.932</td>\n",
       "    </tr>\n",
       "    <tr>\n",
       "      <th>1</th>\n",
       "      <td>NaN</td>\n",
       "      <td>NaN</td>\n",
       "      <td>NaN</td>\n",
       "      <td>1.393</td>\n",
       "    </tr>\n",
       "    <tr>\n",
       "      <th>2</th>\n",
       "      <td>NaN</td>\n",
       "      <td>NaN</td>\n",
       "      <td>NaN</td>\n",
       "      <td>2.891</td>\n",
       "    </tr>\n",
       "    <tr>\n",
       "      <th>3</th>\n",
       "      <td>NaN</td>\n",
       "      <td>NaN</td>\n",
       "      <td>NaN</td>\n",
       "      <td>1.597</td>\n",
       "    </tr>\n",
       "    <tr>\n",
       "      <th>4</th>\n",
       "      <td>NaN</td>\n",
       "      <td>NaN</td>\n",
       "      <td>NaN</td>\n",
       "      <td>2.813</td>\n",
       "    </tr>\n",
       "    <tr>\n",
       "      <th>5</th>\n",
       "      <td>NaN</td>\n",
       "      <td>NaN</td>\n",
       "      <td>NaN</td>\n",
       "      <td>1.731</td>\n",
       "    </tr>\n",
       "    <tr>\n",
       "      <th>6</th>\n",
       "      <td>NaN</td>\n",
       "      <td>NaN</td>\n",
       "      <td>NaN</td>\n",
       "      <td>3.258</td>\n",
       "    </tr>\n",
       "    <tr>\n",
       "      <th>7</th>\n",
       "      <td>NaN</td>\n",
       "      <td>NaN</td>\n",
       "      <td>NaN</td>\n",
       "      <td>1.745</td>\n",
       "    </tr>\n",
       "    <tr>\n",
       "      <th>8</th>\n",
       "      <td>NaN</td>\n",
       "      <td>NaN</td>\n",
       "      <td>NaN</td>\n",
       "      <td>5.146</td>\n",
       "    </tr>\n",
       "    <tr>\n",
       "      <th>9</th>\n",
       "      <td>NaN</td>\n",
       "      <td>NaN</td>\n",
       "      <td>NaN</td>\n",
       "      <td>1.891</td>\n",
       "    </tr>\n",
       "  </tbody>\n",
       "</table>\n",
       "</div>"
      ],
      "text/plain": [
       "          0     1   2      3\n",
       "0  00:00:00  36.9 NaN  2.932\n",
       "1       NaN   NaN NaN  1.393\n",
       "2       NaN   NaN NaN  2.891\n",
       "3       NaN   NaN NaN  1.597\n",
       "4       NaN   NaN NaN  2.813\n",
       "5       NaN   NaN NaN  1.731\n",
       "6       NaN   NaN NaN  3.258\n",
       "7       NaN   NaN NaN  1.745\n",
       "8       NaN   NaN NaN  5.146\n",
       "9       NaN   NaN NaN  1.891"
      ]
     },
     "execution_count": 11,
     "metadata": {},
     "output_type": "execute_result"
    }
   ],
   "source": [
    "DETECTR_raw.head(10)"
   ]
  },
  {
   "cell_type": "code",
   "execution_count": 12,
   "metadata": {},
   "outputs": [],
   "source": [
    "#iterate over each plate to create a dataframe with the correct time, the 384 and 96 position and the RFU_value\n",
    "for i in list(range(0,num_plate_reads)):\n",
    "    time = DETECTR_raw.iloc[i*16,0]\n",
    "    for j in list(range(3, 4,1)):\n",
    "        for k in list(range(i*16, i*16+16)):\n",
    "            rfu_value = DETECTR_raw.loc[k,j]\n",
    "            row_384 = well_dict_384[k%16+1]\n",
    "            column_384 = j-1\n",
    "            #row_96 = well_dict_96[k%16+1]\n",
    "            #column_96 = j // 2\n",
    "            DETECTR_cleaned.loc[len(DETECTR_cleaned)] = [time, row_384, column_384,rfu_value]"
   ]
  },
  {
   "cell_type": "code",
   "execution_count": 13,
   "metadata": {},
   "outputs": [
    {
     "data": {
      "text/html": [
       "<div>\n",
       "<style scoped>\n",
       "    .dataframe tbody tr th:only-of-type {\n",
       "        vertical-align: middle;\n",
       "    }\n",
       "\n",
       "    .dataframe tbody tr th {\n",
       "        vertical-align: top;\n",
       "    }\n",
       "\n",
       "    .dataframe thead th {\n",
       "        text-align: right;\n",
       "    }\n",
       "</style>\n",
       "<table border=\"1\" class=\"dataframe\">\n",
       "  <thead>\n",
       "    <tr style=\"text-align: right;\">\n",
       "      <th></th>\n",
       "      <th>time</th>\n",
       "      <th>row_384</th>\n",
       "      <th>column_384</th>\n",
       "      <th>rfu_value</th>\n",
       "    </tr>\n",
       "  </thead>\n",
       "  <tbody>\n",
       "    <tr>\n",
       "      <th>0</th>\n",
       "      <td>00:00:00</td>\n",
       "      <td>A</td>\n",
       "      <td>2</td>\n",
       "      <td>2.932</td>\n",
       "    </tr>\n",
       "    <tr>\n",
       "      <th>1</th>\n",
       "      <td>00:00:00</td>\n",
       "      <td>B</td>\n",
       "      <td>2</td>\n",
       "      <td>1.393</td>\n",
       "    </tr>\n",
       "    <tr>\n",
       "      <th>2</th>\n",
       "      <td>00:00:00</td>\n",
       "      <td>C</td>\n",
       "      <td>2</td>\n",
       "      <td>2.891</td>\n",
       "    </tr>\n",
       "    <tr>\n",
       "      <th>3</th>\n",
       "      <td>00:00:00</td>\n",
       "      <td>D</td>\n",
       "      <td>2</td>\n",
       "      <td>1.597</td>\n",
       "    </tr>\n",
       "    <tr>\n",
       "      <th>4</th>\n",
       "      <td>00:00:00</td>\n",
       "      <td>E</td>\n",
       "      <td>2</td>\n",
       "      <td>2.813</td>\n",
       "    </tr>\n",
       "    <tr>\n",
       "      <th>5</th>\n",
       "      <td>00:00:00</td>\n",
       "      <td>F</td>\n",
       "      <td>2</td>\n",
       "      <td>1.731</td>\n",
       "    </tr>\n",
       "    <tr>\n",
       "      <th>6</th>\n",
       "      <td>00:00:00</td>\n",
       "      <td>G</td>\n",
       "      <td>2</td>\n",
       "      <td>3.258</td>\n",
       "    </tr>\n",
       "    <tr>\n",
       "      <th>7</th>\n",
       "      <td>00:00:00</td>\n",
       "      <td>H</td>\n",
       "      <td>2</td>\n",
       "      <td>1.745</td>\n",
       "    </tr>\n",
       "    <tr>\n",
       "      <th>8</th>\n",
       "      <td>00:00:00</td>\n",
       "      <td>I</td>\n",
       "      <td>2</td>\n",
       "      <td>5.146</td>\n",
       "    </tr>\n",
       "    <tr>\n",
       "      <th>9</th>\n",
       "      <td>00:00:00</td>\n",
       "      <td>J</td>\n",
       "      <td>2</td>\n",
       "      <td>1.891</td>\n",
       "    </tr>\n",
       "  </tbody>\n",
       "</table>\n",
       "</div>"
      ],
      "text/plain": [
       "       time row_384 column_384  rfu_value\n",
       "0  00:00:00       A          2      2.932\n",
       "1  00:00:00       B          2      1.393\n",
       "2  00:00:00       C          2      2.891\n",
       "3  00:00:00       D          2      1.597\n",
       "4  00:00:00       E          2      2.813\n",
       "5  00:00:00       F          2      1.731\n",
       "6  00:00:00       G          2      3.258\n",
       "7  00:00:00       H          2      1.745\n",
       "8  00:00:00       I          2      5.146\n",
       "9  00:00:00       J          2      1.891"
      ]
     },
     "execution_count": 13,
     "metadata": {},
     "output_type": "execute_result"
    }
   ],
   "source": [
    "DETECTR_cleaned.head(10)"
   ]
  },
  {
   "cell_type": "code",
   "execution_count": 14,
   "metadata": {},
   "outputs": [
    {
     "data": {
      "text/plain": [
       "1168"
      ]
     },
     "execution_count": 14,
     "metadata": {},
     "output_type": "execute_result"
    }
   ],
   "source": [
    "#how many rows in our data frame now? should be 384*number of plates\n",
    "len(DETECTR_cleaned)"
   ]
  },
  {
   "cell_type": "code",
   "execution_count": 15,
   "metadata": {},
   "outputs": [],
   "source": [
    "DETECTR_cleaned=DETECTR_cleaned[DETECTR_cleaned[\"row_384\"].isin(['A','C','E','G','I','K','M','O'])]"
   ]
  },
  {
   "cell_type": "code",
   "execution_count": 17,
   "metadata": {},
   "outputs": [],
   "source": [
    "#write this file to a CSV\n",
    "DETECTR_cleaned.to_csv(\"../tidy_data/DETECTR_BB_QC_09-19-19.csv\")"
   ]
  },
  {
   "cell_type": "code",
   "execution_count": 18,
   "metadata": {},
   "outputs": [
    {
     "data": {
      "text/html": [
       "<div>\n",
       "<style scoped>\n",
       "    .dataframe tbody tr th:only-of-type {\n",
       "        vertical-align: middle;\n",
       "    }\n",
       "\n",
       "    .dataframe tbody tr th {\n",
       "        vertical-align: top;\n",
       "    }\n",
       "\n",
       "    .dataframe thead th {\n",
       "        text-align: right;\n",
       "    }\n",
       "</style>\n",
       "<table border=\"1\" class=\"dataframe\">\n",
       "  <thead>\n",
       "    <tr style=\"text-align: right;\">\n",
       "      <th></th>\n",
       "      <th>time</th>\n",
       "      <th>row_384</th>\n",
       "      <th>column_384</th>\n",
       "      <th>rfu_value</th>\n",
       "    </tr>\n",
       "  </thead>\n",
       "  <tbody>\n",
       "    <tr>\n",
       "      <th>0</th>\n",
       "      <td>00:00:00</td>\n",
       "      <td>A</td>\n",
       "      <td>2</td>\n",
       "      <td>2.932</td>\n",
       "    </tr>\n",
       "    <tr>\n",
       "      <th>16</th>\n",
       "      <td>00:10:00</td>\n",
       "      <td>A</td>\n",
       "      <td>2</td>\n",
       "      <td>3.390</td>\n",
       "    </tr>\n",
       "    <tr>\n",
       "      <th>32</th>\n",
       "      <td>00:20:00</td>\n",
       "      <td>A</td>\n",
       "      <td>2</td>\n",
       "      <td>4.236</td>\n",
       "    </tr>\n",
       "    <tr>\n",
       "      <th>48</th>\n",
       "      <td>00:30:00</td>\n",
       "      <td>A</td>\n",
       "      <td>2</td>\n",
       "      <td>5.021</td>\n",
       "    </tr>\n",
       "    <tr>\n",
       "      <th>64</th>\n",
       "      <td>00:40:00</td>\n",
       "      <td>A</td>\n",
       "      <td>2</td>\n",
       "      <td>6.343</td>\n",
       "    </tr>\n",
       "    <tr>\n",
       "      <th>80</th>\n",
       "      <td>00:50:00</td>\n",
       "      <td>A</td>\n",
       "      <td>2</td>\n",
       "      <td>7.942</td>\n",
       "    </tr>\n",
       "    <tr>\n",
       "      <th>96</th>\n",
       "      <td>01:00:00</td>\n",
       "      <td>A</td>\n",
       "      <td>2</td>\n",
       "      <td>9.468</td>\n",
       "    </tr>\n",
       "    <tr>\n",
       "      <th>112</th>\n",
       "      <td>01:10:00</td>\n",
       "      <td>A</td>\n",
       "      <td>2</td>\n",
       "      <td>11.090</td>\n",
       "    </tr>\n",
       "    <tr>\n",
       "      <th>128</th>\n",
       "      <td>01:20:00</td>\n",
       "      <td>A</td>\n",
       "      <td>2</td>\n",
       "      <td>13.542</td>\n",
       "    </tr>\n",
       "    <tr>\n",
       "      <th>144</th>\n",
       "      <td>01:30:00</td>\n",
       "      <td>A</td>\n",
       "      <td>2</td>\n",
       "      <td>15.716</td>\n",
       "    </tr>\n",
       "  </tbody>\n",
       "</table>\n",
       "</div>"
      ],
      "text/plain": [
       "         time row_384 column_384  rfu_value\n",
       "0    00:00:00       A          2      2.932\n",
       "16   00:10:00       A          2      3.390\n",
       "32   00:20:00       A          2      4.236\n",
       "48   00:30:00       A          2      5.021\n",
       "64   00:40:00       A          2      6.343\n",
       "80   00:50:00       A          2      7.942\n",
       "96   01:00:00       A          2      9.468\n",
       "112  01:10:00       A          2     11.090\n",
       "128  01:20:00       A          2     13.542\n",
       "144  01:30:00       A          2     15.716"
      ]
     },
     "execution_count": 18,
     "metadata": {},
     "output_type": "execute_result"
    }
   ],
   "source": [
    "DETECTR_cleaned[DETECTR_cleaned['row_384']=='A'].head(10)"
   ]
  },
  {
   "cell_type": "code",
   "execution_count": 19,
   "metadata": {},
   "outputs": [],
   "source": [
    "DETECTR_cleaned = pd.read_csv(\"../tidy_data/DETECTR_BB_QC_09-19-19.csv\")"
   ]
  },
  {
   "cell_type": "markdown",
   "metadata": {},
   "source": [
    "## Filter the data frame\n",
    "Select only wells we are interested in"
   ]
  },
  {
   "cell_type": "code",
   "execution_count": 55,
   "metadata": {},
   "outputs": [],
   "source": [
    "def filter_time(DETECTR_cleaned, time):\n",
    "    DETECTR = DETECTR_cleaned.loc[DETECTR_cleaned[\"time\"]==time]\n",
    "    DETECTR = DETECTR.assign(well=(DETECTR['row_384'] + DETECTR['column_384'].map(str)))\n",
    "    DETECTR_target = DETECTR.assign(target_DNA=['target_added','target_added','no_target','no_target']*2)\n",
    "    DETECTR_target = DETECTR_target.assign(BB=['06-12-19']*4+['09-19-19']*4)\n",
    "    DETECTR_target = DETECTR_target.assign(sample_set=(DETECTR_target['target_DNA'] + \"_\" + DETECTR_target['BB']))\n",
    "    DETECTR_target = DETECTR_target.assign(replicate=(['a','b']*4))\n",
    "    return DETECTR_target"
   ]
  },
  {
   "cell_type": "code",
   "execution_count": 73,
   "metadata": {},
   "outputs": [],
   "source": [
    "def kinetics(DETECTR_cleaned, num_plate_reads):\n",
    "    DETECTR = DETECTR_cleaned.assign(well=(DETECTR_cleaned['row_384'] + DETECTR_cleaned['column_384'].map(str)))\n",
    "    DETECTR_target = DETECTR.assign(BB=num_plate_reads*(['06-12-19']*4+['09-19-19']*4))\n",
    "    DETECTR_target = DETECTR_target.assign(target_DNA=num_plate_reads*(['target_added','target_added','no_target','no_target']*2))\n",
    "    return DETECTR_target"
   ]
  },
  {
   "cell_type": "code",
   "execution_count": 57,
   "metadata": {},
   "outputs": [],
   "source": [
    "#only select rows with the 2 hour time point \n",
    "DETECTR_2hr = filter_time(DETECTR_cleaned,\"02:00:00\")"
   ]
  },
  {
   "cell_type": "code",
   "execution_count": 58,
   "metadata": {},
   "outputs": [
    {
     "data": {
      "text/html": [
       "<div>\n",
       "<style scoped>\n",
       "    .dataframe tbody tr th:only-of-type {\n",
       "        vertical-align: middle;\n",
       "    }\n",
       "\n",
       "    .dataframe tbody tr th {\n",
       "        vertical-align: top;\n",
       "    }\n",
       "\n",
       "    .dataframe thead th {\n",
       "        text-align: right;\n",
       "    }\n",
       "</style>\n",
       "<table border=\"1\" class=\"dataframe\">\n",
       "  <thead>\n",
       "    <tr style=\"text-align: right;\">\n",
       "      <th></th>\n",
       "      <th>Unnamed: 0</th>\n",
       "      <th>time</th>\n",
       "      <th>row_384</th>\n",
       "      <th>column_384</th>\n",
       "      <th>rfu_value</th>\n",
       "      <th>well</th>\n",
       "      <th>target_DNA</th>\n",
       "      <th>BB</th>\n",
       "      <th>sample_set</th>\n",
       "      <th>replicate</th>\n",
       "    </tr>\n",
       "  </thead>\n",
       "  <tbody>\n",
       "    <tr>\n",
       "      <th>96</th>\n",
       "      <td>192</td>\n",
       "      <td>02:00:00</td>\n",
       "      <td>A</td>\n",
       "      <td>2</td>\n",
       "      <td>25.483</td>\n",
       "      <td>A2</td>\n",
       "      <td>target_added</td>\n",
       "      <td>06-12-19</td>\n",
       "      <td>target_added_06-12-19</td>\n",
       "      <td>a</td>\n",
       "    </tr>\n",
       "    <tr>\n",
       "      <th>97</th>\n",
       "      <td>194</td>\n",
       "      <td>02:00:00</td>\n",
       "      <td>C</td>\n",
       "      <td>2</td>\n",
       "      <td>28.135</td>\n",
       "      <td>C2</td>\n",
       "      <td>target_added</td>\n",
       "      <td>06-12-19</td>\n",
       "      <td>target_added_06-12-19</td>\n",
       "      <td>b</td>\n",
       "    </tr>\n",
       "    <tr>\n",
       "      <th>98</th>\n",
       "      <td>196</td>\n",
       "      <td>02:00:00</td>\n",
       "      <td>E</td>\n",
       "      <td>2</td>\n",
       "      <td>2.696</td>\n",
       "      <td>E2</td>\n",
       "      <td>no_target</td>\n",
       "      <td>06-12-19</td>\n",
       "      <td>no_target_06-12-19</td>\n",
       "      <td>a</td>\n",
       "    </tr>\n",
       "    <tr>\n",
       "      <th>99</th>\n",
       "      <td>198</td>\n",
       "      <td>02:00:00</td>\n",
       "      <td>G</td>\n",
       "      <td>2</td>\n",
       "      <td>3.167</td>\n",
       "      <td>G2</td>\n",
       "      <td>no_target</td>\n",
       "      <td>06-12-19</td>\n",
       "      <td>no_target_06-12-19</td>\n",
       "      <td>b</td>\n",
       "    </tr>\n",
       "    <tr>\n",
       "      <th>100</th>\n",
       "      <td>200</td>\n",
       "      <td>02:00:00</td>\n",
       "      <td>I</td>\n",
       "      <td>2</td>\n",
       "      <td>123.291</td>\n",
       "      <td>I2</td>\n",
       "      <td>target_added</td>\n",
       "      <td>09-19-19</td>\n",
       "      <td>target_added_09-19-19</td>\n",
       "      <td>a</td>\n",
       "    </tr>\n",
       "    <tr>\n",
       "      <th>101</th>\n",
       "      <td>202</td>\n",
       "      <td>02:00:00</td>\n",
       "      <td>K</td>\n",
       "      <td>2</td>\n",
       "      <td>123.075</td>\n",
       "      <td>K2</td>\n",
       "      <td>target_added</td>\n",
       "      <td>09-19-19</td>\n",
       "      <td>target_added_09-19-19</td>\n",
       "      <td>b</td>\n",
       "    </tr>\n",
       "    <tr>\n",
       "      <th>102</th>\n",
       "      <td>204</td>\n",
       "      <td>02:00:00</td>\n",
       "      <td>M</td>\n",
       "      <td>2</td>\n",
       "      <td>2.840</td>\n",
       "      <td>M2</td>\n",
       "      <td>no_target</td>\n",
       "      <td>09-19-19</td>\n",
       "      <td>no_target_09-19-19</td>\n",
       "      <td>a</td>\n",
       "    </tr>\n",
       "    <tr>\n",
       "      <th>103</th>\n",
       "      <td>206</td>\n",
       "      <td>02:00:00</td>\n",
       "      <td>O</td>\n",
       "      <td>2</td>\n",
       "      <td>3.025</td>\n",
       "      <td>O2</td>\n",
       "      <td>no_target</td>\n",
       "      <td>09-19-19</td>\n",
       "      <td>no_target_09-19-19</td>\n",
       "      <td>b</td>\n",
       "    </tr>\n",
       "  </tbody>\n",
       "</table>\n",
       "</div>"
      ],
      "text/plain": [
       "     Unnamed: 0      time row_384  column_384  rfu_value well    target_DNA  \\\n",
       "96          192  02:00:00       A           2     25.483   A2  target_added   \n",
       "97          194  02:00:00       C           2     28.135   C2  target_added   \n",
       "98          196  02:00:00       E           2      2.696   E2     no_target   \n",
       "99          198  02:00:00       G           2      3.167   G2     no_target   \n",
       "100         200  02:00:00       I           2    123.291   I2  target_added   \n",
       "101         202  02:00:00       K           2    123.075   K2  target_added   \n",
       "102         204  02:00:00       M           2      2.840   M2     no_target   \n",
       "103         206  02:00:00       O           2      3.025   O2     no_target   \n",
       "\n",
       "           BB             sample_set replicate  \n",
       "96   06-12-19  target_added_06-12-19         a  \n",
       "97   06-12-19  target_added_06-12-19         b  \n",
       "98   06-12-19     no_target_06-12-19         a  \n",
       "99   06-12-19     no_target_06-12-19         b  \n",
       "100  09-19-19  target_added_09-19-19         a  \n",
       "101  09-19-19  target_added_09-19-19         b  \n",
       "102  09-19-19     no_target_09-19-19         a  \n",
       "103  09-19-19     no_target_09-19-19         b  "
      ]
     },
     "execution_count": 58,
     "metadata": {},
     "output_type": "execute_result"
    }
   ],
   "source": [
    "DETECTR_2hr"
   ]
  },
  {
   "cell_type": "code",
   "execution_count": 60,
   "metadata": {},
   "outputs": [
    {
     "data": {
      "application/vnd.holoviews_exec.v0+json": "",
      "text/html": [
       "<div id='2273' style='display: table; margin: 0 auto;'>\n",
       "\n",
       "\n",
       "\n",
       "\n",
       "\n",
       "  <div class=\"bk-root\" id=\"81b00656-633e-4a9a-99b8-fac9626084cb\" data-root-id=\"2273\"></div>\n",
       "</div>\n",
       "<script type=\"application/javascript\">(function(root) {\n",
       "  function embed_document(root) {\n",
       "    \n",
       "  var docs_json = {\"92ed035b-219c-4de1-98be-f55794de231b\":{\"roots\":{\"references\":[{\"attributes\":{\"below\":[{\"id\":\"2282\",\"type\":\"CategoricalAxis\"}],\"center\":[{\"id\":\"2285\",\"type\":\"Grid\"},{\"id\":\"2290\",\"type\":\"Grid\"}],\"left\":[{\"id\":\"2286\",\"type\":\"LinearAxis\"}],\"margin\":null,\"min_border_bottom\":10,\"min_border_left\":10,\"min_border_right\":10,\"min_border_top\":10,\"plot_height\":300,\"plot_width\":700,\"renderers\":[{\"id\":\"2310\",\"type\":\"GlyphRenderer\"}],\"sizing_mode\":\"fixed\",\"title\":{\"id\":\"2274\",\"type\":\"Title\"},\"toolbar\":{\"id\":\"2296\",\"type\":\"Toolbar\"},\"x_range\":{\"id\":\"2270\",\"type\":\"FactorRange\"},\"x_scale\":{\"id\":\"2278\",\"type\":\"CategoricalScale\"},\"y_range\":{\"id\":\"2271\",\"type\":\"Range1d\"},\"y_scale\":{\"id\":\"2280\",\"type\":\"LinearScale\"}},\"id\":\"2273\",\"subtype\":\"Figure\",\"type\":\"Plot\"},{\"attributes\":{\"fill_alpha\":{\"value\":0.1},\"fill_color\":{\"field\":\"replicate\",\"transform\":{\"id\":\"2303\",\"type\":\"CategoricalColorMapper\"}},\"line_alpha\":{\"value\":0.1},\"line_color\":{\"value\":\"black\"},\"top\":{\"field\":\"rfu_value\"},\"width\":{\"value\":0.8},\"x\":{\"field\":\"xoffsets\"}},\"id\":\"2308\",\"type\":\"VBar\"},{\"attributes\":{},\"id\":\"2280\",\"type\":\"LinearScale\"},{\"attributes\":{\"callback\":null,\"data\":{\"replicate\":[\"a\",\"a\",\"a\",\"a\",\"b\",\"b\",\"b\",\"b\"],\"rfu_value\":{\"__ndarray__\":\"z/dT46V7OUDFILByaJEFQLTIdr6f0l5AuB6F61G4BkDD9ShcjyI8QLx0kxgEVglAzczMzMzEXkAzMzMzMzMIQA==\",\"dtype\":\"float64\",\"shape\":[8]},\"sample_set\":[\"target_added_06-12-19\",\"no_target_06-12-19\",\"target_added_09-19-19\",\"no_target_09-19-19\",\"target_added_06-12-19\",\"no_target_06-12-19\",\"target_added_09-19-19\",\"no_target_09-19-19\"],\"well\":[\"A2\",\"E2\",\"I2\",\"M2\",\"C2\",\"G2\",\"K2\",\"O2\"],\"xoffsets\":[[\"target_added_06-12-19\",\"a\"],[\"no_target_06-12-19\",\"a\"],[\"target_added_09-19-19\",\"a\"],[\"no_target_09-19-19\",\"a\"],[\"target_added_06-12-19\",\"b\"],[\"no_target_06-12-19\",\"b\"],[\"target_added_09-19-19\",\"b\"],[\"no_target_09-19-19\",\"b\"]]},\"selected\":{\"id\":\"2305\",\"type\":\"Selection\"},\"selection_policy\":{\"id\":\"2322\",\"type\":\"UnionRenderers\"}},\"id\":\"2304\",\"type\":\"ColumnDataSource\"},{\"attributes\":{\"factors\":[\"a\",\"b\"],\"palette\":[\"#1f77b4\",\"#ff7f0e\"]},\"id\":\"2303\",\"type\":\"CategoricalColorMapper\"},{\"attributes\":{},\"id\":\"2278\",\"type\":\"CategoricalScale\"},{\"attributes\":{\"data_source\":{\"id\":\"2304\",\"type\":\"ColumnDataSource\"},\"glyph\":{\"id\":\"2307\",\"type\":\"VBar\"},\"hover_glyph\":null,\"muted_glyph\":{\"id\":\"2309\",\"type\":\"VBar\"},\"nonselection_glyph\":{\"id\":\"2308\",\"type\":\"VBar\"},\"selection_glyph\":null,\"view\":{\"id\":\"2311\",\"type\":\"CDSView\"}},\"id\":\"2310\",\"type\":\"GlyphRenderer\"},{\"attributes\":{\"axis_label\":\"rfu_value\",\"bounds\":\"auto\",\"formatter\":{\"id\":\"2315\",\"type\":\"BasicTickFormatter\"},\"major_label_orientation\":\"horizontal\",\"ticker\":{\"id\":\"2287\",\"type\":\"BasicTicker\"}},\"id\":\"2286\",\"type\":\"LinearAxis\"},{\"attributes\":{\"source\":{\"id\":\"2304\",\"type\":\"ColumnDataSource\"}},\"id\":\"2311\",\"type\":\"CDSView\"},{\"attributes\":{},\"id\":\"2313\",\"type\":\"CategoricalTickFormatter\"},{\"attributes\":{},\"id\":\"2322\",\"type\":\"UnionRenderers\"},{\"attributes\":{\"text\":\"\",\"text_color\":{\"value\":\"black\"},\"text_font_size\":{\"value\":\"12pt\"}},\"id\":\"2274\",\"type\":\"Title\"},{\"attributes\":{\"grid_line_color\":null,\"ticker\":{\"id\":\"2283\",\"type\":\"CategoricalTicker\"}},\"id\":\"2285\",\"type\":\"Grid\"},{\"attributes\":{\"fill_color\":{\"field\":\"replicate\",\"transform\":{\"id\":\"2303\",\"type\":\"CategoricalColorMapper\"}},\"top\":{\"field\":\"rfu_value\"},\"width\":{\"value\":0.8},\"x\":{\"field\":\"xoffsets\"}},\"id\":\"2307\",\"type\":\"VBar\"},{\"attributes\":{},\"id\":\"2283\",\"type\":\"CategoricalTicker\"},{\"attributes\":{\"axis_label\":\"sample_set, replicate\",\"bounds\":\"auto\",\"formatter\":{\"id\":\"2313\",\"type\":\"CategoricalTickFormatter\"},\"major_label_orientation\":1.5707963267948966,\"ticker\":{\"id\":\"2283\",\"type\":\"CategoricalTicker\"}},\"id\":\"2282\",\"type\":\"CategoricalAxis\"},{\"attributes\":{},\"id\":\"2295\",\"type\":\"ResetTool\"},{\"attributes\":{},\"id\":\"2287\",\"type\":\"BasicTicker\"},{\"attributes\":{\"callback\":null,\"renderers\":[{\"id\":\"2310\",\"type\":\"GlyphRenderer\"}],\"tags\":[\"hv_created\"],\"tooltips\":[[\"sample_set\",\"@{sample_set}\"],[\"replicate\",\"@{replicate}\"],[\"rfu_value\",\"@{rfu_value}\"],[\"well\",\"@{well}\"]]},\"id\":\"2272\",\"type\":\"HoverTool\"},{\"attributes\":{\"fill_alpha\":{\"value\":0.2},\"fill_color\":{\"field\":\"replicate\",\"transform\":{\"id\":\"2303\",\"type\":\"CategoricalColorMapper\"}},\"line_alpha\":{\"value\":0.2},\"line_color\":{\"value\":\"black\"},\"top\":{\"field\":\"rfu_value\"},\"width\":{\"value\":0.8},\"x\":{\"field\":\"xoffsets\"}},\"id\":\"2309\",\"type\":\"VBar\"},{\"attributes\":{\"overlay\":{\"id\":\"2321\",\"type\":\"BoxAnnotation\"}},\"id\":\"2294\",\"type\":\"BoxZoomTool\"},{\"attributes\":{},\"id\":\"2293\",\"type\":\"WheelZoomTool\"},{\"attributes\":{},\"id\":\"2305\",\"type\":\"Selection\"},{\"attributes\":{\"active_drag\":\"auto\",\"active_inspect\":\"auto\",\"active_multi\":null,\"active_scroll\":\"auto\",\"active_tap\":\"auto\",\"tools\":[{\"id\":\"2272\",\"type\":\"HoverTool\"},{\"id\":\"2291\",\"type\":\"SaveTool\"},{\"id\":\"2292\",\"type\":\"PanTool\"},{\"id\":\"2293\",\"type\":\"WheelZoomTool\"},{\"id\":\"2294\",\"type\":\"BoxZoomTool\"},{\"id\":\"2295\",\"type\":\"ResetTool\"}]},\"id\":\"2296\",\"type\":\"Toolbar\"},{\"attributes\":{},\"id\":\"2292\",\"type\":\"PanTool\"},{\"attributes\":{\"callback\":null,\"end\":123.291,\"reset_end\":123.291,\"reset_start\":0,\"tags\":[[[\"rfu_value\",\"rfu_value\",null]]]},\"id\":\"2271\",\"type\":\"Range1d\"},{\"attributes\":{},\"id\":\"2291\",\"type\":\"SaveTool\"},{\"attributes\":{\"bottom_units\":\"screen\",\"fill_alpha\":{\"value\":0.5},\"fill_color\":{\"value\":\"lightgrey\"},\"left_units\":\"screen\",\"level\":\"overlay\",\"line_alpha\":{\"value\":1.0},\"line_color\":{\"value\":\"black\"},\"line_dash\":[4,4],\"line_width\":{\"value\":2},\"render_mode\":\"css\",\"right_units\":\"screen\",\"top_units\":\"screen\"},\"id\":\"2321\",\"type\":\"BoxAnnotation\"},{\"attributes\":{\"callback\":null,\"factors\":[[\"no_target_06-12-19\",\"a\"],[\"no_target_06-12-19\",\"b\"],[\"no_target_09-19-19\",\"a\"],[\"no_target_09-19-19\",\"b\"],[\"target_added_06-12-19\",\"a\"],[\"target_added_06-12-19\",\"b\"],[\"target_added_09-19-19\",\"a\"],[\"target_added_09-19-19\",\"b\"]],\"tags\":[[[\"sample_set\",\"sample_set\",null],[\"replicate\",\"replicate\",null]]]},\"id\":\"2270\",\"type\":\"FactorRange\"},{\"attributes\":{},\"id\":\"2315\",\"type\":\"BasicTickFormatter\"},{\"attributes\":{\"dimension\":1,\"grid_line_color\":null,\"ticker\":{\"id\":\"2287\",\"type\":\"BasicTicker\"}},\"id\":\"2290\",\"type\":\"Grid\"}],\"root_ids\":[\"2273\"]},\"title\":\"Bokeh Application\",\"version\":\"1.3.4\"}};\n",
       "  var render_items = [{\"docid\":\"92ed035b-219c-4de1-98be-f55794de231b\",\"roots\":{\"2273\":\"81b00656-633e-4a9a-99b8-fac9626084cb\"}}];\n",
       "  root.Bokeh.embed.embed_items_notebook(docs_json, render_items);\n",
       "\n",
       "  }\n",
       "  if (root.Bokeh !== undefined) {\n",
       "    embed_document(root);\n",
       "  } else {\n",
       "    var attempts = 0;\n",
       "    var timer = setInterval(function(root) {\n",
       "      if (root.Bokeh !== undefined) {\n",
       "        embed_document(root);\n",
       "        clearInterval(timer);\n",
       "      }\n",
       "      attempts++;\n",
       "      if (attempts > 100) {\n",
       "        console.log(\"Bokeh: ERROR: Unable to run BokehJS code because BokehJS library is missing\");\n",
       "        clearInterval(timer);\n",
       "      }\n",
       "    }, 10, root)\n",
       "  }\n",
       "})(window);</script>"
      ],
      "text/plain": [
       ":Bars   [sample_set,replicate]   (rfu_value,well)"
      ]
     },
     "execution_count": 60,
     "metadata": {
      "application/vnd.holoviews_exec.v0+json": {
       "id": "2273"
      }
     },
     "output_type": "execute_result"
    }
   ],
   "source": [
    "DETECTR_2hr.hvplot(x='sample_set', y='rfu_value', by='replicate',rot = 90, kind = 'bar',hover_cols = ['well'] )"
   ]
  },
  {
   "cell_type": "code",
   "execution_count": 62,
   "metadata": {},
   "outputs": [],
   "source": [
    "DETECTR_4hr = filter_time(DETECTR_cleaned,\"04:00:00\")"
   ]
  },
  {
   "cell_type": "code",
   "execution_count": 63,
   "metadata": {},
   "outputs": [
    {
     "data": {
      "application/vnd.holoviews_exec.v0+json": "",
      "text/html": [
       "<div id='2383' style='display: table; margin: 0 auto;'>\n",
       "\n",
       "\n",
       "\n",
       "\n",
       "\n",
       "  <div class=\"bk-root\" id=\"2b110433-1def-4ef3-9820-826cef7ff1a2\" data-root-id=\"2383\"></div>\n",
       "</div>\n",
       "<script type=\"application/javascript\">(function(root) {\n",
       "  function embed_document(root) {\n",
       "    \n",
       "  var docs_json = {\"480b9f2f-627d-49f0-9ab7-b034ad637cc3\":{\"roots\":{\"references\":[{\"attributes\":{\"below\":[{\"id\":\"2392\",\"type\":\"CategoricalAxis\"}],\"center\":[{\"id\":\"2395\",\"type\":\"Grid\"},{\"id\":\"2400\",\"type\":\"Grid\"}],\"left\":[{\"id\":\"2396\",\"type\":\"LinearAxis\"}],\"margin\":null,\"min_border_bottom\":10,\"min_border_left\":10,\"min_border_right\":10,\"min_border_top\":10,\"plot_height\":300,\"plot_width\":700,\"renderers\":[{\"id\":\"2420\",\"type\":\"GlyphRenderer\"}],\"sizing_mode\":\"fixed\",\"title\":{\"id\":\"2384\",\"type\":\"Title\"},\"toolbar\":{\"id\":\"2406\",\"type\":\"Toolbar\"},\"x_range\":{\"id\":\"2380\",\"type\":\"FactorRange\"},\"x_scale\":{\"id\":\"2388\",\"type\":\"CategoricalScale\"},\"y_range\":{\"id\":\"2381\",\"type\":\"Range1d\"},\"y_scale\":{\"id\":\"2390\",\"type\":\"LinearScale\"}},\"id\":\"2383\",\"subtype\":\"Figure\",\"type\":\"Plot\"},{\"attributes\":{\"callback\":null,\"renderers\":[{\"id\":\"2420\",\"type\":\"GlyphRenderer\"}],\"tags\":[\"hv_created\"],\"tooltips\":[[\"sample_set\",\"@{sample_set}\"],[\"replicate\",\"@{replicate}\"],[\"rfu_value\",\"@{rfu_value}\"],[\"well\",\"@{well}\"]]},\"id\":\"2382\",\"type\":\"HoverTool\"},{\"attributes\":{\"callback\":null,\"data\":{\"replicate\":[\"a\",\"a\",\"a\",\"a\",\"b\",\"b\",\"b\",\"b\"],\"rfu_value\":{\"__ndarray__\":\"I9v5fmq0VkB9PzVeukkKQBsv3SQGSWxAYOXQItt5EEA9CtejcH1ZQBSuR+F6FA9ANV66SQz+a0BxPQrXo3APQA==\",\"dtype\":\"float64\",\"shape\":[8]},\"sample_set\":[\"target_added_06-12-19\",\"no_target_06-12-19\",\"target_added_09-19-19\",\"no_target_09-19-19\",\"target_added_06-12-19\",\"no_target_06-12-19\",\"target_added_09-19-19\",\"no_target_09-19-19\"],\"well\":[\"A2\",\"E2\",\"I2\",\"M2\",\"C2\",\"G2\",\"K2\",\"O2\"],\"xoffsets\":[[\"target_added_06-12-19\",\"a\"],[\"no_target_06-12-19\",\"a\"],[\"target_added_09-19-19\",\"a\"],[\"no_target_09-19-19\",\"a\"],[\"target_added_06-12-19\",\"b\"],[\"no_target_06-12-19\",\"b\"],[\"target_added_09-19-19\",\"b\"],[\"no_target_09-19-19\",\"b\"]]},\"selected\":{\"id\":\"2415\",\"type\":\"Selection\"},\"selection_policy\":{\"id\":\"2432\",\"type\":\"UnionRenderers\"}},\"id\":\"2414\",\"type\":\"ColumnDataSource\"},{\"attributes\":{\"source\":{\"id\":\"2414\",\"type\":\"ColumnDataSource\"}},\"id\":\"2421\",\"type\":\"CDSView\"},{\"attributes\":{\"factors\":[\"a\",\"b\"],\"palette\":[\"#1f77b4\",\"#ff7f0e\"]},\"id\":\"2413\",\"type\":\"CategoricalColorMapper\"},{\"attributes\":{},\"id\":\"2405\",\"type\":\"ResetTool\"},{\"attributes\":{\"axis_label\":\"sample_set, replicate\",\"bounds\":\"auto\",\"formatter\":{\"id\":\"2423\",\"type\":\"CategoricalTickFormatter\"},\"major_label_orientation\":1.5707963267948966,\"ticker\":{\"id\":\"2393\",\"type\":\"CategoricalTicker\"}},\"id\":\"2392\",\"type\":\"CategoricalAxis\"},{\"attributes\":{},\"id\":\"2397\",\"type\":\"BasicTicker\"},{\"attributes\":{},\"id\":\"2393\",\"type\":\"CategoricalTicker\"},{\"attributes\":{},\"id\":\"2390\",\"type\":\"LinearScale\"},{\"attributes\":{\"axis_label\":\"rfu_value\",\"bounds\":\"auto\",\"formatter\":{\"id\":\"2425\",\"type\":\"BasicTickFormatter\"},\"major_label_orientation\":\"horizontal\",\"ticker\":{\"id\":\"2397\",\"type\":\"BasicTicker\"}},\"id\":\"2396\",\"type\":\"LinearAxis\"},{\"attributes\":{\"fill_color\":{\"field\":\"replicate\",\"transform\":{\"id\":\"2413\",\"type\":\"CategoricalColorMapper\"}},\"top\":{\"field\":\"rfu_value\"},\"width\":{\"value\":0.8},\"x\":{\"field\":\"xoffsets\"}},\"id\":\"2417\",\"type\":\"VBar\"},{\"attributes\":{},\"id\":\"2388\",\"type\":\"CategoricalScale\"},{\"attributes\":{\"callback\":null,\"end\":226.282,\"reset_end\":226.282,\"reset_start\":0,\"tags\":[[[\"rfu_value\",\"rfu_value\",null]]]},\"id\":\"2381\",\"type\":\"Range1d\"},{\"attributes\":{},\"id\":\"2425\",\"type\":\"BasicTickFormatter\"},{\"attributes\":{\"grid_line_color\":null,\"ticker\":{\"id\":\"2393\",\"type\":\"CategoricalTicker\"}},\"id\":\"2395\",\"type\":\"Grid\"},{\"attributes\":{\"dimension\":1,\"grid_line_color\":null,\"ticker\":{\"id\":\"2397\",\"type\":\"BasicTicker\"}},\"id\":\"2400\",\"type\":\"Grid\"},{\"attributes\":{\"overlay\":{\"id\":\"2431\",\"type\":\"BoxAnnotation\"}},\"id\":\"2404\",\"type\":\"BoxZoomTool\"},{\"attributes\":{\"bottom_units\":\"screen\",\"fill_alpha\":{\"value\":0.5},\"fill_color\":{\"value\":\"lightgrey\"},\"left_units\":\"screen\",\"level\":\"overlay\",\"line_alpha\":{\"value\":1.0},\"line_color\":{\"value\":\"black\"},\"line_dash\":[4,4],\"line_width\":{\"value\":2},\"render_mode\":\"css\",\"right_units\":\"screen\",\"top_units\":\"screen\"},\"id\":\"2431\",\"type\":\"BoxAnnotation\"},{\"attributes\":{\"fill_alpha\":{\"value\":0.2},\"fill_color\":{\"field\":\"replicate\",\"transform\":{\"id\":\"2413\",\"type\":\"CategoricalColorMapper\"}},\"line_alpha\":{\"value\":0.2},\"line_color\":{\"value\":\"black\"},\"top\":{\"field\":\"rfu_value\"},\"width\":{\"value\":0.8},\"x\":{\"field\":\"xoffsets\"}},\"id\":\"2419\",\"type\":\"VBar\"},{\"attributes\":{},\"id\":\"2415\",\"type\":\"Selection\"},{\"attributes\":{\"fill_alpha\":{\"value\":0.1},\"fill_color\":{\"field\":\"replicate\",\"transform\":{\"id\":\"2413\",\"type\":\"CategoricalColorMapper\"}},\"line_alpha\":{\"value\":0.1},\"line_color\":{\"value\":\"black\"},\"top\":{\"field\":\"rfu_value\"},\"width\":{\"value\":0.8},\"x\":{\"field\":\"xoffsets\"}},\"id\":\"2418\",\"type\":\"VBar\"},{\"attributes\":{},\"id\":\"2402\",\"type\":\"PanTool\"},{\"attributes\":{},\"id\":\"2423\",\"type\":\"CategoricalTickFormatter\"},{\"attributes\":{\"data_source\":{\"id\":\"2414\",\"type\":\"ColumnDataSource\"},\"glyph\":{\"id\":\"2417\",\"type\":\"VBar\"},\"hover_glyph\":null,\"muted_glyph\":{\"id\":\"2419\",\"type\":\"VBar\"},\"nonselection_glyph\":{\"id\":\"2418\",\"type\":\"VBar\"},\"selection_glyph\":null,\"view\":{\"id\":\"2421\",\"type\":\"CDSView\"}},\"id\":\"2420\",\"type\":\"GlyphRenderer\"},{\"attributes\":{\"callback\":null,\"factors\":[[\"no_target_06-12-19\",\"a\"],[\"no_target_06-12-19\",\"b\"],[\"no_target_09-19-19\",\"a\"],[\"no_target_09-19-19\",\"b\"],[\"target_added_06-12-19\",\"a\"],[\"target_added_06-12-19\",\"b\"],[\"target_added_09-19-19\",\"a\"],[\"target_added_09-19-19\",\"b\"]],\"tags\":[[[\"sample_set\",\"sample_set\",null],[\"replicate\",\"replicate\",null]]]},\"id\":\"2380\",\"type\":\"FactorRange\"},{\"attributes\":{\"text\":\"\",\"text_color\":{\"value\":\"black\"},\"text_font_size\":{\"value\":\"12pt\"}},\"id\":\"2384\",\"type\":\"Title\"},{\"attributes\":{},\"id\":\"2401\",\"type\":\"SaveTool\"},{\"attributes\":{},\"id\":\"2403\",\"type\":\"WheelZoomTool\"},{\"attributes\":{},\"id\":\"2432\",\"type\":\"UnionRenderers\"},{\"attributes\":{\"active_drag\":\"auto\",\"active_inspect\":\"auto\",\"active_multi\":null,\"active_scroll\":\"auto\",\"active_tap\":\"auto\",\"tools\":[{\"id\":\"2382\",\"type\":\"HoverTool\"},{\"id\":\"2401\",\"type\":\"SaveTool\"},{\"id\":\"2402\",\"type\":\"PanTool\"},{\"id\":\"2403\",\"type\":\"WheelZoomTool\"},{\"id\":\"2404\",\"type\":\"BoxZoomTool\"},{\"id\":\"2405\",\"type\":\"ResetTool\"}]},\"id\":\"2406\",\"type\":\"Toolbar\"}],\"root_ids\":[\"2383\"]},\"title\":\"Bokeh Application\",\"version\":\"1.3.4\"}};\n",
       "  var render_items = [{\"docid\":\"480b9f2f-627d-49f0-9ab7-b034ad637cc3\",\"roots\":{\"2383\":\"2b110433-1def-4ef3-9820-826cef7ff1a2\"}}];\n",
       "  root.Bokeh.embed.embed_items_notebook(docs_json, render_items);\n",
       "\n",
       "  }\n",
       "  if (root.Bokeh !== undefined) {\n",
       "    embed_document(root);\n",
       "  } else {\n",
       "    var attempts = 0;\n",
       "    var timer = setInterval(function(root) {\n",
       "      if (root.Bokeh !== undefined) {\n",
       "        embed_document(root);\n",
       "        clearInterval(timer);\n",
       "      }\n",
       "      attempts++;\n",
       "      if (attempts > 100) {\n",
       "        console.log(\"Bokeh: ERROR: Unable to run BokehJS code because BokehJS library is missing\");\n",
       "        clearInterval(timer);\n",
       "      }\n",
       "    }, 10, root)\n",
       "  }\n",
       "})(window);</script>"
      ],
      "text/plain": [
       ":Bars   [sample_set,replicate]   (rfu_value,well)"
      ]
     },
     "execution_count": 63,
     "metadata": {
      "application/vnd.holoviews_exec.v0+json": {
       "id": "2383"
      }
     },
     "output_type": "execute_result"
    }
   ],
   "source": [
    "DETECTR_4hr.hvplot(x='sample_set', y='rfu_value', by='replicate',rot = 90, kind = 'bar',hover_cols = ['well'] )"
   ]
  },
  {
   "cell_type": "code",
   "execution_count": 64,
   "metadata": {},
   "outputs": [],
   "source": [
    "DETECTR_30min = filter_time(DETECTR_cleaned,\"00:30:00\")"
   ]
  },
  {
   "cell_type": "code",
   "execution_count": 65,
   "metadata": {},
   "outputs": [
    {
     "data": {
      "application/vnd.holoviews_exec.v0+json": "",
      "text/html": [
       "<div id='2493' style='display: table; margin: 0 auto;'>\n",
       "\n",
       "\n",
       "\n",
       "\n",
       "\n",
       "  <div class=\"bk-root\" id=\"96947bf4-388f-452a-a80c-7a6eadb38301\" data-root-id=\"2493\"></div>\n",
       "</div>\n",
       "<script type=\"application/javascript\">(function(root) {\n",
       "  function embed_document(root) {\n",
       "    \n",
       "  var docs_json = {\"80d70c1d-20bf-44ae-a11f-40fd0e490cee\":{\"roots\":{\"references\":[{\"attributes\":{\"below\":[{\"id\":\"2502\",\"type\":\"CategoricalAxis\"}],\"center\":[{\"id\":\"2505\",\"type\":\"Grid\"},{\"id\":\"2510\",\"type\":\"Grid\"}],\"left\":[{\"id\":\"2506\",\"type\":\"LinearAxis\"}],\"margin\":null,\"min_border_bottom\":10,\"min_border_left\":10,\"min_border_right\":10,\"min_border_top\":10,\"plot_height\":300,\"plot_width\":700,\"renderers\":[{\"id\":\"2530\",\"type\":\"GlyphRenderer\"}],\"sizing_mode\":\"fixed\",\"title\":{\"id\":\"2494\",\"type\":\"Title\"},\"toolbar\":{\"id\":\"2516\",\"type\":\"Toolbar\"},\"x_range\":{\"id\":\"2490\",\"type\":\"FactorRange\"},\"x_scale\":{\"id\":\"2498\",\"type\":\"CategoricalScale\"},\"y_range\":{\"id\":\"2491\",\"type\":\"Range1d\"},\"y_scale\":{\"id\":\"2500\",\"type\":\"LinearScale\"}},\"id\":\"2493\",\"subtype\":\"Figure\",\"type\":\"Plot\"},{\"attributes\":{},\"id\":\"2512\",\"type\":\"PanTool\"},{\"attributes\":{\"fill_alpha\":{\"value\":0.2},\"fill_color\":{\"field\":\"replicate\",\"transform\":{\"id\":\"2523\",\"type\":\"CategoricalColorMapper\"}},\"line_alpha\":{\"value\":0.2},\"line_color\":{\"value\":\"black\"},\"top\":{\"field\":\"rfu_value\"},\"width\":{\"value\":0.8},\"x\":{\"field\":\"xoffsets\"}},\"id\":\"2529\",\"type\":\"VBar\"},{\"attributes\":{},\"id\":\"2503\",\"type\":\"CategoricalTicker\"},{\"attributes\":{\"data_source\":{\"id\":\"2524\",\"type\":\"ColumnDataSource\"},\"glyph\":{\"id\":\"2527\",\"type\":\"VBar\"},\"hover_glyph\":null,\"muted_glyph\":{\"id\":\"2529\",\"type\":\"VBar\"},\"nonselection_glyph\":{\"id\":\"2528\",\"type\":\"VBar\"},\"selection_glyph\":null,\"view\":{\"id\":\"2531\",\"type\":\"CDSView\"}},\"id\":\"2530\",\"type\":\"GlyphRenderer\"},{\"attributes\":{\"source\":{\"id\":\"2524\",\"type\":\"ColumnDataSource\"}},\"id\":\"2531\",\"type\":\"CDSView\"},{\"attributes\":{\"callback\":null,\"end\":20.517,\"reset_end\":20.517,\"reset_start\":0,\"tags\":[[[\"rfu_value\",\"rfu_value\",null]]]},\"id\":\"2491\",\"type\":\"Range1d\"},{\"attributes\":{\"grid_line_color\":null,\"ticker\":{\"id\":\"2503\",\"type\":\"CategoricalTicker\"}},\"id\":\"2505\",\"type\":\"Grid\"},{\"attributes\":{},\"id\":\"2513\",\"type\":\"WheelZoomTool\"},{\"attributes\":{\"active_drag\":\"auto\",\"active_inspect\":\"auto\",\"active_multi\":null,\"active_scroll\":\"auto\",\"active_tap\":\"auto\",\"tools\":[{\"id\":\"2492\",\"type\":\"HoverTool\"},{\"id\":\"2511\",\"type\":\"SaveTool\"},{\"id\":\"2512\",\"type\":\"PanTool\"},{\"id\":\"2513\",\"type\":\"WheelZoomTool\"},{\"id\":\"2514\",\"type\":\"BoxZoomTool\"},{\"id\":\"2515\",\"type\":\"ResetTool\"}]},\"id\":\"2516\",\"type\":\"Toolbar\"},{\"attributes\":{\"bottom_units\":\"screen\",\"fill_alpha\":{\"value\":0.5},\"fill_color\":{\"value\":\"lightgrey\"},\"left_units\":\"screen\",\"level\":\"overlay\",\"line_alpha\":{\"value\":1.0},\"line_color\":{\"value\":\"black\"},\"line_dash\":[4,4],\"line_width\":{\"value\":2},\"render_mode\":\"css\",\"right_units\":\"screen\",\"top_units\":\"screen\"},\"id\":\"2541\",\"type\":\"BoxAnnotation\"},{\"attributes\":{\"factors\":[\"a\",\"b\"],\"palette\":[\"#1f77b4\",\"#ff7f0e\"]},\"id\":\"2523\",\"type\":\"CategoricalColorMapper\"},{\"attributes\":{},\"id\":\"2500\",\"type\":\"LinearScale\"},{\"attributes\":{\"callback\":null,\"factors\":[[\"no_target_06-12-19\",\"a\"],[\"no_target_06-12-19\",\"b\"],[\"no_target_09-19-19\",\"a\"],[\"no_target_09-19-19\",\"b\"],[\"target_added_06-12-19\",\"a\"],[\"target_added_06-12-19\",\"b\"],[\"target_added_09-19-19\",\"a\"],[\"target_added_09-19-19\",\"b\"]],\"tags\":[[[\"sample_set\",\"sample_set\",null],[\"replicate\",\"replicate\",null]]]},\"id\":\"2490\",\"type\":\"FactorRange\"},{\"attributes\":{},\"id\":\"2498\",\"type\":\"CategoricalScale\"},{\"attributes\":{\"text\":\"\",\"text_color\":{\"value\":\"black\"},\"text_font_size\":{\"value\":\"12pt\"}},\"id\":\"2494\",\"type\":\"Title\"},{\"attributes\":{},\"id\":\"2535\",\"type\":\"BasicTickFormatter\"},{\"attributes\":{\"axis_label\":\"sample_set, replicate\",\"bounds\":\"auto\",\"formatter\":{\"id\":\"2533\",\"type\":\"CategoricalTickFormatter\"},\"major_label_orientation\":1.5707963267948966,\"ticker\":{\"id\":\"2503\",\"type\":\"CategoricalTicker\"}},\"id\":\"2502\",\"type\":\"CategoricalAxis\"},{\"attributes\":{},\"id\":\"2511\",\"type\":\"SaveTool\"},{\"attributes\":{\"callback\":null,\"data\":{\"replicate\":[\"a\",\"a\",\"a\",\"a\",\"b\",\"b\",\"b\",\"b\"],\"rfu_value\":{\"__ndarray__\":\"L90kBoEVFECHFtnO91MEQOkmMQisnDNAYxBYObTIBEAX2c73U+MUQJzEILByaAdAMQisHFqENED8qfHSTWIGQA==\",\"dtype\":\"float64\",\"shape\":[8]},\"sample_set\":[\"target_added_06-12-19\",\"no_target_06-12-19\",\"target_added_09-19-19\",\"no_target_09-19-19\",\"target_added_06-12-19\",\"no_target_06-12-19\",\"target_added_09-19-19\",\"no_target_09-19-19\"],\"well\":[\"A2\",\"E2\",\"I2\",\"M2\",\"C2\",\"G2\",\"K2\",\"O2\"],\"xoffsets\":[[\"target_added_06-12-19\",\"a\"],[\"no_target_06-12-19\",\"a\"],[\"target_added_09-19-19\",\"a\"],[\"no_target_09-19-19\",\"a\"],[\"target_added_06-12-19\",\"b\"],[\"no_target_06-12-19\",\"b\"],[\"target_added_09-19-19\",\"b\"],[\"no_target_09-19-19\",\"b\"]]},\"selected\":{\"id\":\"2525\",\"type\":\"Selection\"},\"selection_policy\":{\"id\":\"2542\",\"type\":\"UnionRenderers\"}},\"id\":\"2524\",\"type\":\"ColumnDataSource\"},{\"attributes\":{\"overlay\":{\"id\":\"2541\",\"type\":\"BoxAnnotation\"}},\"id\":\"2514\",\"type\":\"BoxZoomTool\"},{\"attributes\":{},\"id\":\"2533\",\"type\":\"CategoricalTickFormatter\"},{\"attributes\":{},\"id\":\"2542\",\"type\":\"UnionRenderers\"},{\"attributes\":{},\"id\":\"2525\",\"type\":\"Selection\"},{\"attributes\":{\"dimension\":1,\"grid_line_color\":null,\"ticker\":{\"id\":\"2507\",\"type\":\"BasicTicker\"}},\"id\":\"2510\",\"type\":\"Grid\"},{\"attributes\":{\"callback\":null,\"renderers\":[{\"id\":\"2530\",\"type\":\"GlyphRenderer\"}],\"tags\":[\"hv_created\"],\"tooltips\":[[\"sample_set\",\"@{sample_set}\"],[\"replicate\",\"@{replicate}\"],[\"rfu_value\",\"@{rfu_value}\"],[\"well\",\"@{well}\"]]},\"id\":\"2492\",\"type\":\"HoverTool\"},{\"attributes\":{},\"id\":\"2515\",\"type\":\"ResetTool\"},{\"attributes\":{},\"id\":\"2507\",\"type\":\"BasicTicker\"},{\"attributes\":{\"axis_label\":\"rfu_value\",\"bounds\":\"auto\",\"formatter\":{\"id\":\"2535\",\"type\":\"BasicTickFormatter\"},\"major_label_orientation\":\"horizontal\",\"ticker\":{\"id\":\"2507\",\"type\":\"BasicTicker\"}},\"id\":\"2506\",\"type\":\"LinearAxis\"},{\"attributes\":{\"fill_color\":{\"field\":\"replicate\",\"transform\":{\"id\":\"2523\",\"type\":\"CategoricalColorMapper\"}},\"top\":{\"field\":\"rfu_value\"},\"width\":{\"value\":0.8},\"x\":{\"field\":\"xoffsets\"}},\"id\":\"2527\",\"type\":\"VBar\"},{\"attributes\":{\"fill_alpha\":{\"value\":0.1},\"fill_color\":{\"field\":\"replicate\",\"transform\":{\"id\":\"2523\",\"type\":\"CategoricalColorMapper\"}},\"line_alpha\":{\"value\":0.1},\"line_color\":{\"value\":\"black\"},\"top\":{\"field\":\"rfu_value\"},\"width\":{\"value\":0.8},\"x\":{\"field\":\"xoffsets\"}},\"id\":\"2528\",\"type\":\"VBar\"}],\"root_ids\":[\"2493\"]},\"title\":\"Bokeh Application\",\"version\":\"1.3.4\"}};\n",
       "  var render_items = [{\"docid\":\"80d70c1d-20bf-44ae-a11f-40fd0e490cee\",\"roots\":{\"2493\":\"96947bf4-388f-452a-a80c-7a6eadb38301\"}}];\n",
       "  root.Bokeh.embed.embed_items_notebook(docs_json, render_items);\n",
       "\n",
       "  }\n",
       "  if (root.Bokeh !== undefined) {\n",
       "    embed_document(root);\n",
       "  } else {\n",
       "    var attempts = 0;\n",
       "    var timer = setInterval(function(root) {\n",
       "      if (root.Bokeh !== undefined) {\n",
       "        embed_document(root);\n",
       "        clearInterval(timer);\n",
       "      }\n",
       "      attempts++;\n",
       "      if (attempts > 100) {\n",
       "        console.log(\"Bokeh: ERROR: Unable to run BokehJS code because BokehJS library is missing\");\n",
       "        clearInterval(timer);\n",
       "      }\n",
       "    }, 10, root)\n",
       "  }\n",
       "})(window);</script>"
      ],
      "text/plain": [
       ":Bars   [sample_set,replicate]   (rfu_value,well)"
      ]
     },
     "execution_count": 65,
     "metadata": {
      "application/vnd.holoviews_exec.v0+json": {
       "id": "2493"
      }
     },
     "output_type": "execute_result"
    }
   ],
   "source": [
    "DETECTR_30min.hvplot(x='sample_set', y='rfu_value', by='replicate',rot = 90, kind = 'bar',hover_cols = ['well'] )"
   ]
  },
  {
   "cell_type": "code",
   "execution_count": 66,
   "metadata": {},
   "outputs": [],
   "source": [
    "DETECTR_1hr = filter_time(DETECTR_cleaned,\"01:00:00\")"
   ]
  },
  {
   "cell_type": "code",
   "execution_count": 67,
   "metadata": {},
   "outputs": [
    {
     "data": {
      "application/vnd.holoviews_exec.v0+json": "",
      "text/html": [
       "<div id='2603' style='display: table; margin: 0 auto;'>\n",
       "\n",
       "\n",
       "\n",
       "\n",
       "\n",
       "  <div class=\"bk-root\" id=\"3619bc6e-83e8-4578-91ad-994beb6a36bc\" data-root-id=\"2603\"></div>\n",
       "</div>\n",
       "<script type=\"application/javascript\">(function(root) {\n",
       "  function embed_document(root) {\n",
       "    \n",
       "  var docs_json = {\"8ae6737e-27eb-44f2-af83-5dda7ede2795\":{\"roots\":{\"references\":[{\"attributes\":{\"below\":[{\"id\":\"2612\",\"type\":\"CategoricalAxis\"}],\"center\":[{\"id\":\"2615\",\"type\":\"Grid\"},{\"id\":\"2620\",\"type\":\"Grid\"}],\"left\":[{\"id\":\"2616\",\"type\":\"LinearAxis\"}],\"margin\":null,\"min_border_bottom\":10,\"min_border_left\":10,\"min_border_right\":10,\"min_border_top\":10,\"plot_height\":300,\"plot_width\":700,\"renderers\":[{\"id\":\"2640\",\"type\":\"GlyphRenderer\"}],\"sizing_mode\":\"fixed\",\"title\":{\"id\":\"2604\",\"type\":\"Title\"},\"toolbar\":{\"id\":\"2626\",\"type\":\"Toolbar\"},\"x_range\":{\"id\":\"2600\",\"type\":\"FactorRange\"},\"x_scale\":{\"id\":\"2608\",\"type\":\"CategoricalScale\"},\"y_range\":{\"id\":\"2601\",\"type\":\"Range1d\"},\"y_scale\":{\"id\":\"2610\",\"type\":\"LinearScale\"}},\"id\":\"2603\",\"subtype\":\"Figure\",\"type\":\"Plot\"},{\"attributes\":{\"active_drag\":\"auto\",\"active_inspect\":\"auto\",\"active_multi\":null,\"active_scroll\":\"auto\",\"active_tap\":\"auto\",\"tools\":[{\"id\":\"2602\",\"type\":\"HoverTool\"},{\"id\":\"2621\",\"type\":\"SaveTool\"},{\"id\":\"2622\",\"type\":\"PanTool\"},{\"id\":\"2623\",\"type\":\"WheelZoomTool\"},{\"id\":\"2624\",\"type\":\"BoxZoomTool\"},{\"id\":\"2625\",\"type\":\"ResetTool\"}]},\"id\":\"2626\",\"type\":\"Toolbar\"},{\"attributes\":{\"callback\":null,\"renderers\":[{\"id\":\"2640\",\"type\":\"GlyphRenderer\"}],\"tags\":[\"hv_created\"],\"tooltips\":[[\"sample_set\",\"@{sample_set}\"],[\"replicate\",\"@{replicate}\"],[\"rfu_value\",\"@{rfu_value}\"],[\"well\",\"@{well}\"]]},\"id\":\"2602\",\"type\":\"HoverTool\"},{\"attributes\":{\"bottom_units\":\"screen\",\"fill_alpha\":{\"value\":0.5},\"fill_color\":{\"value\":\"lightgrey\"},\"left_units\":\"screen\",\"level\":\"overlay\",\"line_alpha\":{\"value\":1.0},\"line_color\":{\"value\":\"black\"},\"line_dash\":[4,4],\"line_width\":{\"value\":2},\"render_mode\":\"css\",\"right_units\":\"screen\",\"top_units\":\"screen\"},\"id\":\"2651\",\"type\":\"BoxAnnotation\"},{\"attributes\":{\"dimension\":1,\"grid_line_color\":null,\"ticker\":{\"id\":\"2617\",\"type\":\"BasicTicker\"}},\"id\":\"2620\",\"type\":\"Grid\"},{\"attributes\":{},\"id\":\"2610\",\"type\":\"LinearScale\"},{\"attributes\":{\"callback\":null,\"factors\":[[\"no_target_06-12-19\",\"a\"],[\"no_target_06-12-19\",\"b\"],[\"no_target_09-19-19\",\"a\"],[\"no_target_09-19-19\",\"b\"],[\"target_added_06-12-19\",\"a\"],[\"target_added_06-12-19\",\"b\"],[\"target_added_09-19-19\",\"a\"],[\"target_added_09-19-19\",\"b\"]],\"tags\":[[[\"sample_set\",\"sample_set\",null],[\"replicate\",\"replicate\",null]]]},\"id\":\"2600\",\"type\":\"FactorRange\"},{\"attributes\":{},\"id\":\"2625\",\"type\":\"ResetTool\"},{\"attributes\":{\"factors\":[\"a\",\"b\"],\"palette\":[\"#1f77b4\",\"#ff7f0e\"]},\"id\":\"2633\",\"type\":\"CategoricalColorMapper\"},{\"attributes\":{},\"id\":\"2617\",\"type\":\"BasicTicker\"},{\"attributes\":{},\"id\":\"2623\",\"type\":\"WheelZoomTool\"},{\"attributes\":{\"text\":\"\",\"text_color\":{\"value\":\"black\"},\"text_font_size\":{\"value\":\"12pt\"}},\"id\":\"2604\",\"type\":\"Title\"},{\"attributes\":{},\"id\":\"2645\",\"type\":\"BasicTickFormatter\"},{\"attributes\":{},\"id\":\"2608\",\"type\":\"CategoricalScale\"},{\"attributes\":{\"callback\":null,\"data\":{\"replicate\":[\"a\",\"a\",\"a\",\"a\",\"b\",\"b\",\"b\",\"b\"],\"rfu_value\":{\"__ndarray__\":\"Vg4tsp3vIkAv3SQGgZUDQOXQItv5LkdAsXJoke18BkC4HoXrUfgjQJ7vp8ZLNwlARIts5/uJR0BqvHSTGAQGQA==\",\"dtype\":\"float64\",\"shape\":[8]},\"sample_set\":[\"target_added_06-12-19\",\"no_target_06-12-19\",\"target_added_09-19-19\",\"no_target_09-19-19\",\"target_added_06-12-19\",\"no_target_06-12-19\",\"target_added_09-19-19\",\"no_target_09-19-19\"],\"well\":[\"A2\",\"E2\",\"I2\",\"M2\",\"C2\",\"G2\",\"K2\",\"O2\"],\"xoffsets\":[[\"target_added_06-12-19\",\"a\"],[\"no_target_06-12-19\",\"a\"],[\"target_added_09-19-19\",\"a\"],[\"no_target_09-19-19\",\"a\"],[\"target_added_06-12-19\",\"b\"],[\"no_target_06-12-19\",\"b\"],[\"target_added_09-19-19\",\"b\"],[\"no_target_09-19-19\",\"b\"]]},\"selected\":{\"id\":\"2635\",\"type\":\"Selection\"},\"selection_policy\":{\"id\":\"2652\",\"type\":\"UnionRenderers\"}},\"id\":\"2634\",\"type\":\"ColumnDataSource\"},{\"attributes\":{\"callback\":null,\"end\":47.078,\"reset_end\":47.078,\"reset_start\":0,\"tags\":[[[\"rfu_value\",\"rfu_value\",null]]]},\"id\":\"2601\",\"type\":\"Range1d\"},{\"attributes\":{\"overlay\":{\"id\":\"2651\",\"type\":\"BoxAnnotation\"}},\"id\":\"2624\",\"type\":\"BoxZoomTool\"},{\"attributes\":{},\"id\":\"2635\",\"type\":\"Selection\"},{\"attributes\":{},\"id\":\"2621\",\"type\":\"SaveTool\"},{\"attributes\":{},\"id\":\"2622\",\"type\":\"PanTool\"},{\"attributes\":{\"fill_color\":{\"field\":\"replicate\",\"transform\":{\"id\":\"2633\",\"type\":\"CategoricalColorMapper\"}},\"top\":{\"field\":\"rfu_value\"},\"width\":{\"value\":0.8},\"x\":{\"field\":\"xoffsets\"}},\"id\":\"2637\",\"type\":\"VBar\"},{\"attributes\":{\"grid_line_color\":null,\"ticker\":{\"id\":\"2613\",\"type\":\"CategoricalTicker\"}},\"id\":\"2615\",\"type\":\"Grid\"},{\"attributes\":{\"source\":{\"id\":\"2634\",\"type\":\"ColumnDataSource\"}},\"id\":\"2641\",\"type\":\"CDSView\"},{\"attributes\":{},\"id\":\"2652\",\"type\":\"UnionRenderers\"},{\"attributes\":{\"fill_alpha\":{\"value\":0.1},\"fill_color\":{\"field\":\"replicate\",\"transform\":{\"id\":\"2633\",\"type\":\"CategoricalColorMapper\"}},\"line_alpha\":{\"value\":0.1},\"line_color\":{\"value\":\"black\"},\"top\":{\"field\":\"rfu_value\"},\"width\":{\"value\":0.8},\"x\":{\"field\":\"xoffsets\"}},\"id\":\"2638\",\"type\":\"VBar\"},{\"attributes\":{},\"id\":\"2613\",\"type\":\"CategoricalTicker\"},{\"attributes\":{\"axis_label\":\"rfu_value\",\"bounds\":\"auto\",\"formatter\":{\"id\":\"2645\",\"type\":\"BasicTickFormatter\"},\"major_label_orientation\":\"horizontal\",\"ticker\":{\"id\":\"2617\",\"type\":\"BasicTicker\"}},\"id\":\"2616\",\"type\":\"LinearAxis\"},{\"attributes\":{\"fill_alpha\":{\"value\":0.2},\"fill_color\":{\"field\":\"replicate\",\"transform\":{\"id\":\"2633\",\"type\":\"CategoricalColorMapper\"}},\"line_alpha\":{\"value\":0.2},\"line_color\":{\"value\":\"black\"},\"top\":{\"field\":\"rfu_value\"},\"width\":{\"value\":0.8},\"x\":{\"field\":\"xoffsets\"}},\"id\":\"2639\",\"type\":\"VBar\"},{\"attributes\":{\"data_source\":{\"id\":\"2634\",\"type\":\"ColumnDataSource\"},\"glyph\":{\"id\":\"2637\",\"type\":\"VBar\"},\"hover_glyph\":null,\"muted_glyph\":{\"id\":\"2639\",\"type\":\"VBar\"},\"nonselection_glyph\":{\"id\":\"2638\",\"type\":\"VBar\"},\"selection_glyph\":null,\"view\":{\"id\":\"2641\",\"type\":\"CDSView\"}},\"id\":\"2640\",\"type\":\"GlyphRenderer\"},{\"attributes\":{},\"id\":\"2643\",\"type\":\"CategoricalTickFormatter\"},{\"attributes\":{\"axis_label\":\"sample_set, replicate\",\"bounds\":\"auto\",\"formatter\":{\"id\":\"2643\",\"type\":\"CategoricalTickFormatter\"},\"major_label_orientation\":1.5707963267948966,\"ticker\":{\"id\":\"2613\",\"type\":\"CategoricalTicker\"}},\"id\":\"2612\",\"type\":\"CategoricalAxis\"}],\"root_ids\":[\"2603\"]},\"title\":\"Bokeh Application\",\"version\":\"1.3.4\"}};\n",
       "  var render_items = [{\"docid\":\"8ae6737e-27eb-44f2-af83-5dda7ede2795\",\"roots\":{\"2603\":\"3619bc6e-83e8-4578-91ad-994beb6a36bc\"}}];\n",
       "  root.Bokeh.embed.embed_items_notebook(docs_json, render_items);\n",
       "\n",
       "  }\n",
       "  if (root.Bokeh !== undefined) {\n",
       "    embed_document(root);\n",
       "  } else {\n",
       "    var attempts = 0;\n",
       "    var timer = setInterval(function(root) {\n",
       "      if (root.Bokeh !== undefined) {\n",
       "        embed_document(root);\n",
       "        clearInterval(timer);\n",
       "      }\n",
       "      attempts++;\n",
       "      if (attempts > 100) {\n",
       "        console.log(\"Bokeh: ERROR: Unable to run BokehJS code because BokehJS library is missing\");\n",
       "        clearInterval(timer);\n",
       "      }\n",
       "    }, 10, root)\n",
       "  }\n",
       "})(window);</script>"
      ],
      "text/plain": [
       ":Bars   [sample_set,replicate]   (rfu_value,well)"
      ]
     },
     "execution_count": 67,
     "metadata": {
      "application/vnd.holoviews_exec.v0+json": {
       "id": "2603"
      }
     },
     "output_type": "execute_result"
    }
   ],
   "source": [
    "DETECTR_1hr.hvplot(x='sample_set', y='rfu_value', by='replicate',rot = 90, kind = 'bar',hover_cols = ['well'] )"
   ]
  },
  {
   "cell_type": "code",
   "execution_count": 75,
   "metadata": {},
   "outputs": [
    {
     "data": {
      "application/vnd.holoviews_exec.v0+json": "",
      "text/html": [
       "<div id='2960' style='display: table; margin: 0 auto;'>\n",
       "\n",
       "\n",
       "\n",
       "\n",
       "\n",
       "  <div class=\"bk-root\" id=\"e767ee36-5c86-46cb-8bda-1422182d8f57\" data-root-id=\"2960\"></div>\n",
       "</div>\n",
       "<script type=\"application/javascript\">(function(root) {\n",
       "  function embed_document(root) {\n",
       "    \n",
       "  var docs_json = {\"055bf694-0379-4b52-afc6-f6da58e52bd4\":{\"roots\":{\"references\":[{\"attributes\":{\"below\":[{\"id\":\"2969\",\"type\":\"CategoricalAxis\"}],\"center\":[{\"id\":\"2972\",\"type\":\"Grid\"},{\"id\":\"2977\",\"type\":\"Grid\"},{\"id\":\"3008\",\"type\":\"Legend\"}],\"left\":[{\"id\":\"2973\",\"type\":\"LinearAxis\"}],\"margin\":null,\"min_border_bottom\":10,\"min_border_left\":10,\"min_border_right\":10,\"min_border_top\":10,\"plot_height\":500,\"plot_width\":700,\"renderers\":[{\"id\":\"3000\",\"type\":\"GlyphRenderer\"},{\"id\":\"3016\",\"type\":\"GlyphRenderer\"}],\"right\":[{\"id\":\"3008\",\"type\":\"Legend\"}],\"sizing_mode\":\"fixed\",\"title\":{\"id\":\"2961\",\"type\":\"Title\"},\"toolbar\":{\"id\":\"2983\",\"type\":\"Toolbar\"},\"x_range\":{\"id\":\"2956\",\"type\":\"FactorRange\"},\"x_scale\":{\"id\":\"2965\",\"type\":\"CategoricalScale\"},\"y_range\":{\"id\":\"2957\",\"type\":\"Range1d\"},\"y_scale\":{\"id\":\"2967\",\"type\":\"LinearScale\"}},\"id\":\"2960\",\"subtype\":\"Figure\",\"type\":\"Plot\"},{\"attributes\":{},\"id\":\"2995\",\"type\":\"Selection\"},{\"attributes\":{\"active_drag\":\"auto\",\"active_inspect\":\"auto\",\"active_multi\":null,\"active_scroll\":\"auto\",\"active_tap\":\"auto\",\"tools\":[{\"id\":\"2958\",\"type\":\"HoverTool\"},{\"id\":\"2978\",\"type\":\"SaveTool\"},{\"id\":\"2979\",\"type\":\"PanTool\"},{\"id\":\"2980\",\"type\":\"WheelZoomTool\"},{\"id\":\"2981\",\"type\":\"BoxZoomTool\"},{\"id\":\"2982\",\"type\":\"ResetTool\"}]},\"id\":\"2983\",\"type\":\"Toolbar\"},{\"attributes\":{\"callback\":null,\"data\":{\"BB\":[\"06-12-19\",\"06-12-19\",\"06-12-19\",\"06-12-19\",\"06-12-19\",\"06-12-19\",\"06-12-19\",\"06-12-19\",\"06-12-19\",\"06-12-19\",\"06-12-19\",\"06-12-19\",\"06-12-19\",\"06-12-19\",\"06-12-19\",\"06-12-19\",\"06-12-19\",\"06-12-19\",\"06-12-19\",\"06-12-19\",\"06-12-19\",\"06-12-19\",\"06-12-19\",\"06-12-19\",\"06-12-19\",\"06-12-19\",\"06-12-19\",\"06-12-19\",\"06-12-19\",\"06-12-19\",\"06-12-19\",\"06-12-19\",\"06-12-19\",\"06-12-19\",\"06-12-19\",\"06-12-19\",\"06-12-19\",\"06-12-19\",\"06-12-19\",\"06-12-19\",\"06-12-19\",\"06-12-19\",\"06-12-19\",\"06-12-19\",\"06-12-19\",\"06-12-19\",\"06-12-19\",\"06-12-19\",\"06-12-19\",\"06-12-19\",\"06-12-19\",\"06-12-19\",\"06-12-19\",\"06-12-19\",\"06-12-19\",\"06-12-19\",\"06-12-19\",\"06-12-19\",\"06-12-19\",\"06-12-19\",\"06-12-19\",\"06-12-19\",\"06-12-19\",\"06-12-19\",\"06-12-19\",\"06-12-19\",\"06-12-19\",\"06-12-19\",\"06-12-19\",\"06-12-19\",\"06-12-19\",\"06-12-19\",\"06-12-19\",\"06-12-19\",\"06-12-19\",\"06-12-19\",\"06-12-19\",\"06-12-19\",\"06-12-19\",\"06-12-19\",\"06-12-19\",\"06-12-19\",\"06-12-19\",\"06-12-19\",\"06-12-19\",\"06-12-19\",\"06-12-19\",\"06-12-19\",\"06-12-19\",\"06-12-19\",\"06-12-19\",\"06-12-19\",\"06-12-19\",\"06-12-19\",\"06-12-19\",\"06-12-19\",\"06-12-19\",\"06-12-19\",\"06-12-19\",\"06-12-19\",\"06-12-19\",\"06-12-19\",\"06-12-19\",\"06-12-19\",\"06-12-19\",\"06-12-19\",\"06-12-19\",\"06-12-19\",\"06-12-19\",\"06-12-19\",\"06-12-19\",\"06-12-19\",\"06-12-19\",\"06-12-19\",\"06-12-19\",\"06-12-19\",\"06-12-19\",\"06-12-19\",\"06-12-19\",\"06-12-19\",\"06-12-19\",\"06-12-19\",\"06-12-19\",\"06-12-19\",\"06-12-19\",\"06-12-19\",\"06-12-19\",\"06-12-19\",\"06-12-19\",\"06-12-19\",\"06-12-19\",\"06-12-19\",\"06-12-19\",\"06-12-19\",\"06-12-19\",\"06-12-19\",\"06-12-19\",\"06-12-19\",\"06-12-19\",\"06-12-19\",\"06-12-19\",\"06-12-19\",\"06-12-19\",\"06-12-19\",\"06-12-19\",\"06-12-19\",\"06-12-19\",\"06-12-19\",\"06-12-19\",\"06-12-19\",\"06-12-19\",\"06-12-19\",\"06-12-19\",\"06-12-19\",\"06-12-19\",\"06-12-19\",\"06-12-19\",\"06-12-19\",\"06-12-19\",\"06-12-19\",\"06-12-19\",\"06-12-19\",\"06-12-19\",\"06-12-19\",\"06-12-19\",\"06-12-19\",\"06-12-19\",\"06-12-19\",\"06-12-19\",\"06-12-19\",\"06-12-19\",\"06-12-19\",\"06-12-19\",\"06-12-19\",\"06-12-19\",\"06-12-19\",\"06-12-19\",\"06-12-19\",\"06-12-19\",\"06-12-19\",\"06-12-19\",\"06-12-19\",\"06-12-19\",\"06-12-19\",\"06-12-19\",\"06-12-19\",\"06-12-19\",\"06-12-19\",\"06-12-19\",\"06-12-19\",\"06-12-19\",\"06-12-19\",\"06-12-19\",\"06-12-19\",\"06-12-19\",\"06-12-19\",\"06-12-19\",\"06-12-19\",\"06-12-19\",\"06-12-19\",\"06-12-19\",\"06-12-19\",\"06-12-19\",\"06-12-19\",\"06-12-19\",\"06-12-19\",\"06-12-19\",\"06-12-19\",\"06-12-19\",\"06-12-19\",\"06-12-19\",\"06-12-19\",\"06-12-19\",\"06-12-19\",\"06-12-19\",\"06-12-19\",\"06-12-19\",\"06-12-19\",\"06-12-19\",\"06-12-19\",\"06-12-19\",\"06-12-19\",\"06-12-19\",\"06-12-19\",\"06-12-19\",\"06-12-19\",\"06-12-19\",\"06-12-19\",\"06-12-19\",\"06-12-19\",\"06-12-19\",\"06-12-19\",\"06-12-19\",\"06-12-19\",\"06-12-19\",\"06-12-19\",\"06-12-19\",\"06-12-19\",\"06-12-19\",\"06-12-19\",\"06-12-19\",\"06-12-19\",\"06-12-19\",\"06-12-19\",\"06-12-19\",\"06-12-19\",\"06-12-19\",\"06-12-19\",\"06-12-19\",\"06-12-19\",\"06-12-19\",\"06-12-19\",\"06-12-19\",\"06-12-19\",\"06-12-19\",\"06-12-19\",\"06-12-19\",\"06-12-19\",\"06-12-19\",\"06-12-19\",\"06-12-19\",\"06-12-19\",\"06-12-19\",\"06-12-19\",\"06-12-19\",\"06-12-19\",\"06-12-19\",\"06-12-19\",\"06-12-19\",\"06-12-19\",\"06-12-19\",\"06-12-19\",\"06-12-19\",\"06-12-19\",\"06-12-19\",\"06-12-19\",\"06-12-19\",\"06-12-19\",\"06-12-19\",\"06-12-19\",\"06-12-19\",\"06-12-19\",\"06-12-19\",\"06-12-19\",\"06-12-19\",\"06-12-19\",\"06-12-19\",\"06-12-19\",\"06-12-19\",\"06-12-19\",\"06-12-19\",\"06-12-19\"],\"rfu_value\":{\"__ndarray__\":\"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\",\"dtype\":\"float64\",\"shape\":[292]},\"row_384\":[\"A\",\"C\",\"E\",\"G\",\"A\",\"C\",\"E\",\"G\",\"A\",\"C\",\"E\",\"G\",\"A\",\"C\",\"E\",\"G\",\"A\",\"C\",\"E\",\"G\",\"A\",\"C\",\"E\",\"G\",\"A\",\"C\",\"E\",\"G\",\"A\",\"C\",\"E\",\"G\",\"A\",\"C\",\"E\",\"G\",\"A\",\"C\",\"E\",\"G\",\"A\",\"C\",\"E\",\"G\",\"A\",\"C\",\"E\",\"G\",\"A\",\"C\",\"E\",\"G\",\"A\",\"C\",\"E\",\"G\",\"A\",\"C\",\"E\",\"G\",\"A\",\"C\",\"E\",\"G\",\"A\",\"C\",\"E\",\"G\",\"A\",\"C\",\"E\",\"G\",\"A\",\"C\",\"E\",\"G\",\"A\",\"C\",\"E\",\"G\",\"A\",\"C\",\"E\",\"G\",\"A\",\"C\",\"E\",\"G\",\"A\",\"C\",\"E\",\"G\",\"A\",\"C\",\"E\",\"G\",\"A\",\"C\",\"E\",\"G\",\"A\",\"C\",\"E\",\"G\",\"A\",\"C\",\"E\",\"G\",\"A\",\"C\",\"E\",\"G\",\"A\",\"C\",\"E\",\"G\",\"A\",\"C\",\"E\",\"G\",\"A\",\"C\",\"E\",\"G\",\"A\",\"C\",\"E\",\"G\",\"A\",\"C\",\"E\",\"G\",\"A\",\"C\",\"E\",\"G\",\"A\",\"C\",\"E\",\"G\",\"A\",\"C\",\"E\",\"G\",\"A\",\"C\",\"E\",\"G\",\"A\",\"C\",\"E\",\"G\",\"A\",\"C\",\"E\",\"G\",\"A\",\"C\",\"E\",\"G\",\"A\",\"C\",\"E\",\"G\",\"A\",\"C\",\"E\",\"G\",\"A\",\"C\",\"E\",\"G\",\"A\",\"C\",\"E\",\"G\",\"A\",\"C\",\"E\",\"G\",\"A\",\"C\",\"E\",\"G\",\"A\",\"C\",\"E\",\"G\",\"A\",\"C\",\"E\",\"G\",\"A\",\"C\",\"E\",\"G\",\"A\",\"C\",\"E\",\"G\",\"A\",\"C\",\"E\",\"G\",\"A\",\"C\",\"E\",\"G\",\"A\",\"C\",\"E\",\"G\",\"A\",\"C\",\"E\",\"G\",\"A\",\"C\",\"E\",\"G\",\"A\",\"C\",\"E\",\"G\",\"A\",\"C\",\"E\",\"G\",\"A\",\"C\",\"E\",\"G\",\"A\",\"C\",\"E\",\"G\",\"A\",\"C\",\"E\",\"G\",\"A\",\"C\",\"E\",\"G\",\"A\",\"C\",\"E\",\"G\",\"A\",\"C\",\"E\",\"G\",\"A\",\"C\",\"E\",\"G\",\"A\",\"C\",\"E\",\"G\",\"A\",\"C\",\"E\",\"G\",\"A\",\"C\",\"E\",\"G\",\"A\",\"C\",\"E\",\"G\",\"A\",\"C\",\"E\",\"G\",\"A\",\"C\",\"E\",\"G\",\"A\",\"C\",\"E\",\"G\",\"A\",\"C\",\"E\",\"G\",\"A\",\"C\",\"E\",\"G\"],\"time\":[\"00:00:00\",\"00:00:00\",\"00:00:00\",\"00:00:00\",\"00:10:00\",\"00:10:00\",\"00:10:00\",\"00:10:00\",\"00:20:00\",\"00:20:00\",\"00:20:00\",\"00:20:00\",\"00:30:00\",\"00:30:00\",\"00:30:00\",\"00:30:00\",\"00:40:00\",\"00:40:00\",\"00:40:00\",\"00:40:00\",\"00:50:00\",\"00:50:00\",\"00:50:00\",\"00:50:00\",\"01:00:00\",\"01:00:00\",\"01:00:00\",\"01:00:00\",\"01:10:00\",\"01:10:00\",\"01:10:00\",\"01:10:00\",\"01:20:00\",\"01:20:00\",\"01:20:00\",\"01:20:00\",\"01:30:00\",\"01:30:00\",\"01:30:00\",\"01:30:00\",\"01:40:00\",\"01:40:00\",\"01:40:00\",\"01:40:00\",\"01:50:00\",\"01:50:00\",\"01:50:00\",\"01:50:00\",\"02:00:00\",\"02:00:00\",\"02:00:00\",\"02:00:00\",\"02:10:00\",\"02:10:00\",\"02:10:00\",\"02:10:00\",\"02:20:00\",\"02:20:00\",\"02:20:00\",\"02:20:00\",\"02:30:00\",\"02:30:00\",\"02:30:00\",\"02:30:00\",\"02:40:00\",\"02:40:00\",\"02:40:00\",\"02:40:00\",\"02:50:00\",\"02:50:00\",\"02:50:00\",\"02:50:00\",\"03:00:00\",\"03:00:00\",\"03:00:00\",\"03:00:00\",\"03:10:00\",\"03:10:00\",\"03:10:00\",\"03:10:00\",\"03:20:00\",\"03:20:00\",\"03:20:00\",\"03:20:00\",\"03:30:00\",\"03:30:00\",\"03:30:00\",\"03:30:00\",\"03:40:00\",\"03:40:00\",\"03:40:00\",\"03:40:00\",\"03:50:00\",\"03:50:00\",\"03:50:00\",\"03:50:00\",\"04:00:00\",\"04:00:00\",\"04:00:00\",\"04:00:00\",\"04:10:00\",\"04:10:00\",\"04:10:00\",\"04:10:00\",\"04:20:00\",\"04:20:00\",\"04:20:00\",\"04:20:00\",\"04:30:00\",\"04:30:00\",\"04:30:00\",\"04:30:00\",\"04:40:00\",\"04:40:00\",\"04:40:00\",\"04:40:00\",\"04:50:00\",\"04:50:00\",\"04:50:00\",\"04:50:00\",\"05:00:00\",\"05:00:00\",\"05:00:00\",\"05:00:00\",\"05:10:00\",\"05:10:00\",\"05:10:00\",\"05:10:00\",\"05:20:00\",\"05:20:00\",\"05:20:00\",\"05:20:00\",\"05:30:00\",\"05:30:00\",\"05:30:00\",\"05:30:00\",\"05:40:00\",\"05:40:00\",\"05:40:00\",\"05:40:00\",\"05:50:00\",\"05:50:00\",\"05:50:00\",\"05:50:00\",\"06:00:00\",\"06:00:00\",\"06:00:00\",\"06:00:00\",\"06:10:00\",\"06:10:00\",\"06:10:00\",\"06:10:00\",\"06:20:00\",\"06:20:00\",\"06:20:00\",\"06:20:00\",\"06:30:00\",\"06:30:00\",\"06:30:00\",\"06:30:00\",\"06:40:00\",\"06:40:00\",\"06:40:00\",\"06:40:00\",\"06:50:00\",\"06:50:00\",\"06:50:00\",\"06:50:00\",\"07:00:00\",\"07:00:00\",\"07:00:00\",\"07:00:00\",\"07:10:00\",\"07:10:00\",\"07:10:00\",\"07:10:00\",\"07:20:00\",\"07:20:00\",\"07:20:00\",\"07:20:00\",\"07:30:00\",\"07:30:00\",\"07:30:00\",\"07:30:00\",\"07:40:00\",\"07:40:00\",\"07:40:00\",\"07:40:00\",\"07:50:00\",\"07:50:00\",\"07:50:00\",\"07:50:00\",\"08:00:00\",\"08:00:00\",\"08:00:00\",\"08:00:00\",\"08:10:00\",\"08:10:00\",\"08:10:00\",\"08:10:00\",\"08:20:00\",\"08:20:00\",\"08:20:00\",\"08:20:00\",\"08:30:00\",\"08:30:00\",\"08:30:00\",\"08:30:00\",\"08:40:00\",\"08:40:00\",\"08:40:00\",\"08:40:00\",\"08:50:00\",\"08:50:00\",\"08:50:00\",\"08:50:00\",\"09:00:00\",\"09:00:00\",\"09:00:00\",\"09:00:00\",\"09:10:00\",\"09:10:00\",\"09:10:00\",\"09:10:00\",\"09:20:00\",\"09:20:00\",\"09:20:00\",\"09:20:00\",\"09:30:00\",\"09:30:00\",\"09:30:00\",\"09:30:00\",\"09:40:00\",\"09:40:00\",\"09:40:00\",\"09:40:00\",\"09:50:00\",\"09:50:00\",\"09:50:00\",\"09:50:00\",\"10:00:00\",\"10:00:00\",\"10:00:00\",\"10:00:00\",\"10:10:00\",\"10:10:00\",\"10:10:00\",\"10:10:00\",\"10:20:00\",\"10:20:00\",\"10:20:00\",\"10:20:00\",\"10:30:00\",\"10:30:00\",\"10:30:00\",\"10:30:00\",\"10:40:00\",\"10:40:00\",\"10:40:00\",\"10:40:00\",\"10:50:00\",\"10:50:00\",\"10:50:00\",\"10:50:00\",\"11:00:00\",\"11:00:00\",\"11:00:00\",\"11:00:00\",\"11:10:00\",\"11:10:00\",\"11:10:00\",\"11:10:00\",\"11:20:00\",\"11:20:00\",\"11:20:00\",\"11:20:00\",\"11:30:00\",\"11:30:00\",\"11:30:00\",\"11:30:00\",\"11:40:00\",\"11:40:00\",\"11:40:00\",\"11:40:00\",\"11:50:00\",\"11:50:00\",\"11:50:00\",\"11:50:00\",\"12:00:00\",\"12:00:00\",\"12:00:00\",\"12:00:00\"]},\"selected\":{\"id\":\"2995\",\"type\":\"Selection\"},\"selection_policy\":{\"id\":\"3024\",\"type\":\"UnionRenderers\"}},\"id\":\"2994\",\"type\":\"ColumnDataSource\"},{\"attributes\":{\"click_policy\":\"mute\",\"items\":[{\"id\":\"3009\",\"type\":\"LegendItem\"},{\"id\":\"3026\",\"type\":\"LegendItem\"}],\"location\":[0,0]},\"id\":\"3008\",\"type\":\"Legend\"},{\"attributes\":{},\"id\":\"2978\",\"type\":\"SaveTool\"},{\"attributes\":{\"bottom_units\":\"screen\",\"fill_alpha\":{\"value\":0.5},\"fill_color\":{\"value\":\"lightgrey\"},\"left_units\":\"screen\",\"level\":\"overlay\",\"line_alpha\":{\"value\":1.0},\"line_color\":{\"value\":\"black\"},\"line_dash\":[4,4],\"line_width\":{\"value\":2},\"render_mode\":\"css\",\"right_units\":\"screen\",\"top_units\":\"screen\"},\"id\":\"3007\",\"type\":\"BoxAnnotation\"},{\"attributes\":{},\"id\":\"3011\",\"type\":\"Selection\"},{\"attributes\":{\"label\":{\"value\":\"09-19-19\"},\"renderers\":[{\"id\":\"3016\",\"type\":\"GlyphRenderer\"}]},\"id\":\"3026\",\"type\":\"LegendItem\"},{\"attributes\":{},\"id\":\"3024\",\"type\":\"UnionRenderers\"},{\"attributes\":{\"source\":{\"id\":\"2994\",\"type\":\"ColumnDataSource\"}},\"id\":\"3001\",\"type\":\"CDSView\"},{\"attributes\":{\"fill_color\":{\"value\":\"#1f77b4\"},\"line_color\":{\"value\":\"#1f77b4\"},\"size\":{\"units\":\"screen\",\"value\":5.477225575051661},\"x\":{\"field\":\"time\"},\"y\":{\"field\":\"rfu_value\"}},\"id\":\"2997\",\"type\":\"Scatter\"},{\"attributes\":{\"axis_label\":\"rfu_value\",\"bounds\":\"auto\",\"formatter\":{\"id\":\"2993\",\"type\":\"BasicTickFormatter\"},\"major_label_orientation\":\"horizontal\",\"ticker\":{\"id\":\"2974\",\"type\":\"BasicTicker\"}},\"id\":\"2973\",\"type\":\"LinearAxis\"},{\"attributes\":{\"source\":{\"id\":\"3010\",\"type\":\"ColumnDataSource\"}},\"id\":\"3017\",\"type\":\"CDSView\"},{\"attributes\":{\"data_source\":{\"id\":\"2994\",\"type\":\"ColumnDataSource\"},\"glyph\":{\"id\":\"2997\",\"type\":\"Scatter\"},\"hover_glyph\":null,\"muted_glyph\":{\"id\":\"2999\",\"type\":\"Scatter\"},\"nonselection_glyph\":{\"id\":\"2998\",\"type\":\"Scatter\"},\"selection_glyph\":null,\"view\":{\"id\":\"3001\",\"type\":\"CDSView\"}},\"id\":\"3000\",\"type\":\"GlyphRenderer\"},{\"attributes\":{},\"id\":\"2974\",\"type\":\"BasicTicker\"},{\"attributes\":{},\"id\":\"2991\",\"type\":\"CategoricalTickFormatter\"},{\"attributes\":{\"data_source\":{\"id\":\"3010\",\"type\":\"ColumnDataSource\"},\"glyph\":{\"id\":\"3013\",\"type\":\"Scatter\"},\"hover_glyph\":null,\"muted_glyph\":{\"id\":\"3015\",\"type\":\"Scatter\"},\"nonselection_glyph\":{\"id\":\"3014\",\"type\":\"Scatter\"},\"selection_glyph\":null,\"view\":{\"id\":\"3017\",\"type\":\"CDSView\"}},\"id\":\"3016\",\"type\":\"GlyphRenderer\"},{\"attributes\":{\"fill_alpha\":{\"value\":0.2},\"fill_color\":{\"value\":\"#1f77b4\"},\"line_alpha\":{\"value\":0.2},\"line_color\":{\"value\":\"#1f77b4\"},\"size\":{\"units\":\"screen\",\"value\":5.477225575051661},\"x\":{\"field\":\"time\"},\"y\":{\"field\":\"rfu_value\"}},\"id\":\"2999\",\"type\":\"Scatter\"},{\"attributes\":{\"dimension\":1,\"grid_line_color\":null,\"ticker\":{\"id\":\"2974\",\"type\":\"BasicTicker\"}},\"id\":\"2977\",\"type\":\"Grid\"},{\"attributes\":{\"callback\":null,\"factors\":[\"00:00:00\",\"00:10:00\",\"00:20:00\",\"00:30:00\",\"00:40:00\",\"00:50:00\",\"01:00:00\",\"01:10:00\",\"01:20:00\",\"01:30:00\",\"01:40:00\",\"01:50:00\",\"02:00:00\",\"02:10:00\",\"02:20:00\",\"02:30:00\",\"02:40:00\",\"02:50:00\",\"03:00:00\",\"03:10:00\",\"03:20:00\",\"03:30:00\",\"03:40:00\",\"03:50:00\",\"04:00:00\",\"04:10:00\",\"04:20:00\",\"04:30:00\",\"04:40:00\",\"04:50:00\",\"05:00:00\",\"05:10:00\",\"05:20:00\",\"05:30:00\",\"05:40:00\",\"05:50:00\",\"06:00:00\",\"06:10:00\",\"06:20:00\",\"06:30:00\",\"06:40:00\",\"06:50:00\",\"07:00:00\",\"07:10:00\",\"07:20:00\",\"07:30:00\",\"07:40:00\",\"07:50:00\",\"08:00:00\",\"08:10:00\",\"08:20:00\",\"08:30:00\",\"08:40:00\",\"08:50:00\",\"09:00:00\",\"09:10:00\",\"09:20:00\",\"09:30:00\",\"09:40:00\",\"09:50:00\",\"10:00:00\",\"10:10:00\",\"10:20:00\",\"10:30:00\",\"10:40:00\",\"10:50:00\",\"11:00:00\",\"11:10:00\",\"11:20:00\",\"11:30:00\",\"11:40:00\",\"11:50:00\",\"12:00:00\"],\"tags\":[[[\"time\",\"time\",null]]]},\"id\":\"2956\",\"type\":\"FactorRange\"},{\"attributes\":{\"fill_alpha\":{\"value\":0.2},\"fill_color\":{\"value\":\"#ff7f0e\"},\"line_alpha\":{\"value\":0.2},\"line_color\":{\"value\":\"#ff7f0e\"},\"size\":{\"units\":\"screen\",\"value\":5.477225575051661},\"x\":{\"field\":\"time\"},\"y\":{\"field\":\"rfu_value\"}},\"id\":\"3015\",\"type\":\"Scatter\"},{\"attributes\":{\"label\":{\"value\":\"06-12-19\"},\"renderers\":[{\"id\":\"3000\",\"type\":\"GlyphRenderer\"}]},\"id\":\"3009\",\"type\":\"LegendItem\"},{\"attributes\":{\"fill_alpha\":{\"value\":0.1},\"fill_color\":{\"value\":\"#ff7f0e\"},\"line_alpha\":{\"value\":0.1},\"line_color\":{\"value\":\"#ff7f0e\"},\"size\":{\"units\":\"screen\",\"value\":5.477225575051661},\"x\":{\"field\":\"time\"},\"y\":{\"field\":\"rfu_value\"}},\"id\":\"3014\",\"type\":\"Scatter\"},{\"attributes\":{\"fill_alpha\":{\"value\":0.1},\"fill_color\":{\"value\":\"#1f77b4\"},\"line_alpha\":{\"value\":0.1},\"line_color\":{\"value\":\"#1f77b4\"},\"size\":{\"units\":\"screen\",\"value\":5.477225575051661},\"x\":{\"field\":\"time\"},\"y\":{\"field\":\"rfu_value\"}},\"id\":\"2998\",\"type\":\"Scatter\"},{\"attributes\":{\"fill_color\":{\"value\":\"#ff7f0e\"},\"line_color\":{\"value\":\"#ff7f0e\"},\"size\":{\"units\":\"screen\",\"value\":5.477225575051661},\"x\":{\"field\":\"time\"},\"y\":{\"field\":\"rfu_value\"}},\"id\":\"3013\",\"type\":\"Scatter\"},{\"attributes\":{},\"id\":\"2965\",\"type\":\"CategoricalScale\"},{\"attributes\":{\"callback\":null,\"data\":{\"BB\":[\"09-19-19\",\"09-19-19\",\"09-19-19\",\"09-19-19\",\"09-19-19\",\"09-19-19\",\"09-19-19\",\"09-19-19\",\"09-19-19\",\"09-19-19\",\"09-19-19\",\"09-19-19\",\"09-19-19\",\"09-19-19\",\"09-19-19\",\"09-19-19\",\"09-19-19\",\"09-19-19\",\"09-19-19\",\"09-19-19\",\"09-19-19\",\"09-19-19\",\"09-19-19\",\"09-19-19\",\"09-19-19\",\"09-19-19\",\"09-19-19\",\"09-19-19\",\"09-19-19\",\"09-19-19\",\"09-19-19\",\"09-19-19\",\"09-19-19\",\"09-19-19\",\"09-19-19\",\"09-19-19\",\"09-19-19\",\"09-19-19\",\"09-19-19\",\"09-19-19\",\"09-19-19\",\"09-19-19\",\"09-19-19\",\"09-19-19\",\"09-19-19\",\"09-19-19\",\"09-19-19\",\"09-19-19\",\"09-19-19\",\"09-19-19\",\"09-19-19\",\"09-19-19\",\"09-19-19\",\"09-19-19\",\"09-19-19\",\"09-19-19\",\"09-19-19\",\"09-19-19\",\"09-19-19\",\"09-19-19\",\"09-19-19\",\"09-19-19\",\"09-19-19\",\"09-19-19\",\"09-19-19\",\"09-19-19\",\"09-19-19\",\"09-19-19\",\"09-19-19\",\"09-19-19\",\"09-19-19\",\"09-19-19\",\"09-19-19\",\"09-19-19\",\"09-19-19\",\"09-19-19\",\"09-19-19\",\"09-19-19\",\"09-19-19\",\"09-19-19\",\"09-19-19\",\"09-19-19\",\"09-19-19\",\"09-19-19\",\"09-19-19\",\"09-19-19\",\"09-19-19\",\"09-19-19\",\"09-19-19\",\"09-19-19\",\"09-19-19\",\"09-19-19\",\"09-19-19\",\"09-19-19\",\"09-19-19\",\"09-19-19\",\"09-19-19\",\"09-19-19\",\"09-19-19\",\"09-19-19\",\"09-19-19\",\"09-19-19\",\"09-19-19\",\"09-19-19\",\"09-19-19\",\"09-19-19\",\"09-19-19\",\"09-19-19\",\"09-19-19\",\"09-19-19\",\"09-19-19\",\"09-19-19\",\"09-19-19\",\"09-19-19\",\"09-19-19\",\"09-19-19\",\"09-19-19\",\"09-19-19\",\"09-19-19\",\"09-19-19\",\"09-19-19\",\"09-19-19\",\"09-19-19\",\"09-19-19\",\"09-19-19\",\"09-19-19\",\"09-19-19\",\"09-19-19\",\"09-19-19\",\"09-19-19\",\"09-19-19\",\"09-19-19\",\"09-19-19\",\"09-19-19\",\"09-19-19\",\"09-19-19\",\"09-19-19\",\"09-19-19\",\"09-19-19\",\"09-19-19\",\"09-19-19\",\"09-19-19\",\"09-19-19\",\"09-19-19\",\"09-19-19\",\"09-19-19\",\"09-19-19\",\"09-19-19\",\"09-19-19\",\"09-19-19\",\"09-19-19\",\"09-19-19\",\"09-19-19\",\"09-19-19\",\"09-19-19\",\"09-19-19\",\"09-19-19\",\"09-19-19\",\"09-19-19\",\"09-19-19\",\"09-19-19\",\"09-19-19\",\"09-19-19\",\"09-19-19\",\"09-19-19\",\"09-19-19\",\"09-19-19\",\"09-19-19\",\"09-19-19\",\"09-19-19\",\"09-19-19\",\"09-19-19\",\"09-19-19\",\"09-19-19\",\"09-19-19\",\"09-19-19\",\"09-19-19\",\"09-19-19\",\"09-19-19\",\"09-19-19\",\"09-19-19\",\"09-19-19\",\"09-19-19\",\"09-19-19\",\"09-19-19\",\"09-19-19\",\"09-19-19\",\"09-19-19\",\"09-19-19\",\"09-19-19\",\"09-19-19\",\"09-19-19\",\"09-19-19\",\"09-19-19\",\"09-19-19\",\"09-19-19\",\"09-19-19\",\"09-19-19\",\"09-19-19\",\"09-19-19\",\"09-19-19\",\"09-19-19\",\"09-19-19\",\"09-19-19\",\"09-19-19\",\"09-19-19\",\"09-19-19\",\"09-19-19\",\"09-19-19\",\"09-19-19\",\"09-19-19\",\"09-19-19\",\"09-19-19\",\"09-19-19\",\"09-19-19\",\"09-19-19\",\"09-19-19\",\"09-19-19\",\"09-19-19\",\"09-19-19\",\"09-19-19\",\"09-19-19\",\"09-19-19\",\"09-19-19\",\"09-19-19\",\"09-19-19\",\"09-19-19\",\"09-19-19\",\"09-19-19\",\"09-19-19\",\"09-19-19\",\"09-19-19\",\"09-19-19\",\"09-19-19\",\"09-19-19\",\"09-19-19\",\"09-19-19\",\"09-19-19\",\"09-19-19\",\"09-19-19\",\"09-19-19\",\"09-19-19\",\"09-19-19\",\"09-19-19\",\"09-19-19\",\"09-19-19\",\"09-19-19\",\"09-19-19\",\"09-19-19\",\"09-19-19\",\"09-19-19\",\"09-19-19\",\"09-19-19\",\"09-19-19\",\"09-19-19\",\"09-19-19\",\"09-19-19\",\"09-19-19\",\"09-19-19\",\"09-19-19\",\"09-19-19\",\"09-19-19\",\"09-19-19\",\"09-19-19\",\"09-19-19\",\"09-19-19\",\"09-19-19\",\"09-19-19\",\"09-19-19\",\"09-19-19\",\"09-19-19\",\"09-19-19\",\"09-19-19\",\"09-19-19\",\"09-19-19\",\"09-19-19\",\"09-19-19\",\"09-19-19\",\"09-19-19\",\"09-19-19\",\"09-19-19\",\"09-19-19\",\"09-19-19\",\"09-19-19\",\"09-19-19\",\"09-19-19\",\"09-19-19\",\"09-19-19\",\"09-19-19\",\"09-19-19\",\"09-19-19\",\"09-19-19\"],\"rfu_value\":{\"__ndarray__\":\"L90kBoGVFEDdJAaBlcMTQAaBlUOLbAVA001iEFg5B0CJQWDl0OIhQDEIrBxaZCJALIcW2c73BUBWDi2yne8FQFK4HoXrESxAXrpJDAJrLECuR+F6FK4FQBkEVg4tsgRA6SYxCKycM0AxCKwcWoQ0QGMQWDm0yARA/Knx0k1iBkDn+6nx0k07QClcj8L1aDtABFYOLbKdBUBU46WbxCAFQLTIdr6fGkJAEoPAyqF1QkBjEFg5tMgGQNNNYhBYOQVA5dAi2/kuR0BEi2zn+4lHQLFyaJHtfAZAarx0kxgEBkDXo3A9CpdMQDMzMzMzw0xAku18PzVeBUAfhetRuB4FQClcj8L1OFFAhetRuB59UUBI4XoUrkcGQLgehetRuAZAFK5H4XrcVEA730+Nl45UQJ7vp8ZLNwdAku18PzVeB0A3iUFg5ShYQBBYObTIFlhAbef7qfHSBkBt5/up8dIGQBBYObTInltAppvEILAiW0A730+Nl24HQC/dJAaBlQVAtMh2vp/SXkDNzMzMzMReQLgehetRuAZAMzMzMzMzCEAbL90kBm1hQHSTGARWGmFAMQisHFpkCUCWQ4ts5/sIQAisHFpkl2JAtMh2vp/eYkDdJAaBlUMIQFCNl24SgwdAarx0kxhQZECNl24Sg0RkQOkmMQisHAlAN4lBYOXQCEBYObTIdpJlQIXrUbgecWVAGQRWDi2yCUBjEFg5tMgIQJhuEoPAqmZAEFg5tMiOZkAbL90kBoEKQDvfT42XbglATmIQWDnEZ0BCYOXQIptnQHsUrkfheglA001iEFg5C0D2KFyPwnloQF66SQwCT2hAxSCwcmiRC0DJdr6fGi8MQFCNl24SZ2lAPQrXo3CBaUA1XrpJDAINQOxRuB6F6wxAEFg5tMgOakAj2/l+aghqQNNNYhBYOQ5A/tR46SYxDUDdJAaBle9qQD81XrpJLGtAO99PjZduDUCJQWDl0CIOQIlBYOXQlmtABFYOLbJxa0Db+X5qvHQPQC/dJAaBlQ5AGy/dJAZJbEA1XrpJDP5rQGDl0CLbeRBAcT0K16NwD0BiEFg5tJRsQFYOLbKds2xAzczMzMzMEED4U+Olm8QQQP7UeOkmQW1AoBov3SRebUBWDi2yne8RQMUgsHJokRFAO99PjZfObUCamZmZmcVtQFpkO99PjRJAL90kBoGVEkCyne+nxktuQLKd76fGW25AGy/dJAYBE0AnMQisHFoTQLgehetRQG5A2s73U+M9bkCsHFpkO98TQM/3U+OlGxNAmpmZmZnNbkBeukkMAjtvQG8Sg8DKIRRAAAAAAAAAFEAfhetRuEZvQDEIrBxajG9AJQaBlUOLFkAUrkfhepQVQIXrUbge3W9AHVpkO9/7b0BMN4lBYOUWQCyHFtnO9xZAK4cW2c5JcEDhehSuRyVwQL+fGi/dpBdAZBBYObRIF0BvEoPAymNwQDq0yHa+a3BAsp3vp8ZLGEBEi2zn+6kYQGiR7Xw/kXBADAIrhxaPcECgGi/dJIYZQLgehetROBlAaJHtfD+9cEDD9Shcj7BwQOXQItv5/hxAMzMzMzOzG0CBlUOLbPlwQGiR7Xw/x3BAPzVeukmMHUAxCKwcWmQdQAisHFpk/3BA9ihcj8LxcEBMN4lBYGUfQES28/3UeB9AI9v5fmogcUAX2c73Ux9xQPyp8dJN4iBAaJHtfD81IUDsUbgehQ1xQKabxCCwGnFAkxgEVg7tIkDn+6nx0s0iQBkEVg4tinFAXI/C9ShacUCJQWDl0OIjQC2yne+nxiRAYOXQItsvcUDTTWIQWPNwQB1aZDvfDyZAx0s3iUFgJkC8dJMYBP5wQKRwPQrX23BA8KfGSzfJJ0D2KFyPwnUoQPT91HjpCHFAppvEILAGcUC0yHa+nxoqQGQ730+N1ypAj8L1KFz/cED2KFyPwudwQMuhRbbzvSpA8KfGSzeJK0DFILByaAdxQHNoke187XBAsXJoke28K0A3iUFg5ZArQBODwMqh03BA46WbxCC8cECLbOf7qbErQEJg5dAimytATmIQWDnGcEAj2/l+apZwQOf7qfHSzStANV66SQxCK0CiRbbz/YpwQMdLN4lBiHBASOF6FK7HK0DpJjEIrNwrQDVeukkMmHBAf2q8dJOacEDn+6nx0k0rQN9PjZdukitAOrTIdr6NcEC6SQwCK3dwQGiR7Xw/tStAGQRWDi1yK0DTTWIQWKFwQJhuEoPAnnBA2/l+ary0K0AAAAAAAAAsQNV46SYxdHBAWmQ7309lcECyne+nxossQOXQItv5fitASOF6FK5ncECHFtnO92FwQFg5tMh2fitAf2q8dJMYLEDb+X5qvFJwQMuhRbbzY3BAqMZLN4nBK0BaZDvfT80rQDMzMzMzf3BAtMh2vp9mcEC+nxov3WQrQBkEVg4tMixAwcqhRbZ7cEB56SYxCHxwQH9qvHSTmCtALbKd76eGLEBoke18P4twQPT91HjpbnBA2/l+arx0LEA5tMh2vh8tQK5H4XoUYHBAAiuHFtlMcEDFILByaNErQMuhRbbzfS1AjZduEoNocEB3vp8aL1lwQMHKoUW2cy1A5/up8dJNLECR7Xw/NX5wQDVeukkMXnBA0SLb+X7qLECLbOf7qXEsQKrx0k1ieHBA/tR46SaHcEAtsp3vp0YsQIlBYOXQYi1AuB6F61FWcEAnMQisHFBwQARWDi2y3SxAVg4tsp1vLUAEVg4tsoVwQLx0kxgEeHBAFK5H4XpULUCTGARWDm0tQOj7qfHScXBAke18PzWCcEBWDi2yne8tQL6fGi/d5C1AwcqhRbZtcEA1XrpJDHBwQMuhRbbzfS1Abef7qfFSLkDD9Shcj3BwQFTjpZvEcHBAcT0K16MwLkAK16NwPYouQOF6FK5HU3BAXrpJDAJHcECe76fGSzcuQJqZmZmZmS5ADi2yne9xcEBcj8L1KE5wQAwCK4cW2S5ANV66SQxCLkBU46WbxIJwQDEIrBxaUnBAnu+nxkv3LkAxCKwcWuQvQM3MzMzMgHBAMQisHFpqcECsHFpkO58vQAisHFpkey9ABFYOLbJZcEDjpZvEIGBwQA4tsp3vJy9AppvEILASMEA=\",\"dtype\":\"float64\",\"shape\":[292]},\"row_384\":[\"I\",\"K\",\"M\",\"O\",\"I\",\"K\",\"M\",\"O\",\"I\",\"K\",\"M\",\"O\",\"I\",\"K\",\"M\",\"O\",\"I\",\"K\",\"M\",\"O\",\"I\",\"K\",\"M\",\"O\",\"I\",\"K\",\"M\",\"O\",\"I\",\"K\",\"M\",\"O\",\"I\",\"K\",\"M\",\"O\",\"I\",\"K\",\"M\",\"O\",\"I\",\"K\",\"M\",\"O\",\"I\",\"K\",\"M\",\"O\",\"I\",\"K\",\"M\",\"O\",\"I\",\"K\",\"M\",\"O\",\"I\",\"K\",\"M\",\"O\",\"I\",\"K\",\"M\",\"O\",\"I\",\"K\",\"M\",\"O\",\"I\",\"K\",\"M\",\"O\",\"I\",\"K\",\"M\",\"O\",\"I\",\"K\",\"M\",\"O\",\"I\",\"K\",\"M\",\"O\",\"I\",\"K\",\"M\",\"O\",\"I\",\"K\",\"M\",\"O\",\"I\",\"K\",\"M\",\"O\",\"I\",\"K\",\"M\",\"O\",\"I\",\"K\",\"M\",\"O\",\"I\",\"K\",\"M\",\"O\",\"I\",\"K\",\"M\",\"O\",\"I\",\"K\",\"M\",\"O\",\"I\",\"K\",\"M\",\"O\",\"I\",\"K\",\"M\",\"O\",\"I\",\"K\",\"M\",\"O\",\"I\",\"K\",\"M\",\"O\",\"I\",\"K\",\"M\",\"O\",\"I\",\"K\",\"M\",\"O\",\"I\",\"K\",\"M\",\"O\",\"I\",\"K\",\"M\",\"O\",\"I\",\"K\",\"M\",\"O\",\"I\",\"K\",\"M\",\"O\",\"I\",\"K\",\"M\",\"O\",\"I\",\"K\",\"M\",\"O\",\"I\",\"K\",\"M\",\"O\",\"I\",\"K\",\"M\",\"O\",\"I\",\"K\",\"M\",\"O\",\"I\",\"K\",\"M\",\"O\",\"I\",\"K\",\"M\",\"O\",\"I\",\"K\",\"M\",\"O\",\"I\",\"K\",\"M\",\"O\",\"I\",\"K\",\"M\",\"O\",\"I\",\"K\",\"M\",\"O\",\"I\",\"K\",\"M\",\"O\",\"I\",\"K\",\"M\",\"O\",\"I\",\"K\",\"M\",\"O\",\"I\",\"K\",\"M\",\"O\",\"I\",\"K\",\"M\",\"O\",\"I\",\"K\",\"M\",\"O\",\"I\",\"K\",\"M\",\"O\",\"I\",\"K\",\"M\",\"O\",\"I\",\"K\",\"M\",\"O\",\"I\",\"K\",\"M\",\"O\",\"I\",\"K\",\"M\",\"O\",\"I\",\"K\",\"M\",\"O\",\"I\",\"K\",\"M\",\"O\",\"I\",\"K\",\"M\",\"O\",\"I\",\"K\",\"M\",\"O\",\"I\",\"K\",\"M\",\"O\",\"I\",\"K\",\"M\",\"O\",\"I\",\"K\",\"M\",\"O\",\"I\",\"K\",\"M\",\"O\",\"I\",\"K\",\"M\",\"O\",\"I\",\"K\",\"M\",\"O\",\"I\",\"K\",\"M\",\"O\",\"I\",\"K\",\"M\",\"O\"],\"time\":[\"00:00:00\",\"00:00:00\",\"00:00:00\",\"00:00:00\",\"00:10:00\",\"00:10:00\",\"00:10:00\",\"00:10:00\",\"00:20:00\",\"00:20:00\",\"00:20:00\",\"00:20:00\",\"00:30:00\",\"00:30:00\",\"00:30:00\",\"00:30:00\",\"00:40:00\",\"00:40:00\",\"00:40:00\",\"00:40:00\",\"00:50:00\",\"00:50:00\",\"00:50:00\",\"00:50:00\",\"01:00:00\",\"01:00:00\",\"01:00:00\",\"01:00:00\",\"01:10:00\",\"01:10:00\",\"01:10:00\",\"01:10:00\",\"01:20:00\",\"01:20:00\",\"01:20:00\",\"01:20:00\",\"01:30:00\",\"01:30:00\",\"01:30:00\",\"01:30:00\",\"01:40:00\",\"01:40:00\",\"01:40:00\",\"01:40:00\",\"01:50:00\",\"01:50:00\",\"01:50:00\",\"01:50:00\",\"02:00:00\",\"02:00:00\",\"02:00:00\",\"02:00:00\",\"02:10:00\",\"02:10:00\",\"02:10:00\",\"02:10:00\",\"02:20:00\",\"02:20:00\",\"02:20:00\",\"02:20:00\",\"02:30:00\",\"02:30:00\",\"02:30:00\",\"02:30:00\",\"02:40:00\",\"02:40:00\",\"02:40:00\",\"02:40:00\",\"02:50:00\",\"02:50:00\",\"02:50:00\",\"02:50:00\",\"03:00:00\",\"03:00:00\",\"03:00:00\",\"03:00:00\",\"03:10:00\",\"03:10:00\",\"03:10:00\",\"03:10:00\",\"03:20:00\",\"03:20:00\",\"03:20:00\",\"03:20:00\",\"03:30:00\",\"03:30:00\",\"03:30:00\",\"03:30:00\",\"03:40:00\",\"03:40:00\",\"03:40:00\",\"03:40:00\",\"03:50:00\",\"03:50:00\",\"03:50:00\",\"03:50:00\",\"04:00:00\",\"04:00:00\",\"04:00:00\",\"04:00:00\",\"04:10:00\",\"04:10:00\",\"04:10:00\",\"04:10:00\",\"04:20:00\",\"04:20:00\",\"04:20:00\",\"04:20:00\",\"04:30:00\",\"04:30:00\",\"04:30:00\",\"04:30:00\",\"04:40:00\",\"04:40:00\",\"04:40:00\",\"04:40:00\",\"04:50:00\",\"04:50:00\",\"04:50:00\",\"04:50:00\",\"05:00:00\",\"05:00:00\",\"05:00:00\",\"05:00:00\",\"05:10:00\",\"05:10:00\",\"05:10:00\",\"05:10:00\",\"05:20:00\",\"05:20:00\",\"05:20:00\",\"05:20:00\",\"05:30:00\",\"05:30:00\",\"05:30:00\",\"05:30:00\",\"05:40:00\",\"05:40:00\",\"05:40:00\",\"05:40:00\",\"05:50:00\",\"05:50:00\",\"05:50:00\",\"05:50:00\",\"06:00:00\",\"06:00:00\",\"06:00:00\",\"06:00:00\",\"06:10:00\",\"06:10:00\",\"06:10:00\",\"06:10:00\",\"06:20:00\",\"06:20:00\",\"06:20:00\",\"06:20:00\",\"06:30:00\",\"06:30:00\",\"06:30:00\",\"06:30:00\",\"06:40:00\",\"06:40:00\",\"06:40:00\",\"06:40:00\",\"06:50:00\",\"06:50:00\",\"06:50:00\",\"06:50:00\",\"07:00:00\",\"07:00:00\",\"07:00:00\",\"07:00:00\",\"07:10:00\",\"07:10:00\",\"07:10:00\",\"07:10:00\",\"07:20:00\",\"07:20:00\",\"07:20:00\",\"07:20:00\",\"07:30:00\",\"07:30:00\",\"07:30:00\",\"07:30:00\",\"07:40:00\",\"07:40:00\",\"07:40:00\",\"07:40:00\",\"07:50:00\",\"07:50:00\",\"07:50:00\",\"07:50:00\",\"08:00:00\",\"08:00:00\",\"08:00:00\",\"08:00:00\",\"08:10:00\",\"08:10:00\",\"08:10:00\",\"08:10:00\",\"08:20:00\",\"08:20:00\",\"08:20:00\",\"08:20:00\",\"08:30:00\",\"08:30:00\",\"08:30:00\",\"08:30:00\",\"08:40:00\",\"08:40:00\",\"08:40:00\",\"08:40:00\",\"08:50:00\",\"08:50:00\",\"08:50:00\",\"08:50:00\",\"09:00:00\",\"09:00:00\",\"09:00:00\",\"09:00:00\",\"09:10:00\",\"09:10:00\",\"09:10:00\",\"09:10:00\",\"09:20:00\",\"09:20:00\",\"09:20:00\",\"09:20:00\",\"09:30:00\",\"09:30:00\",\"09:30:00\",\"09:30:00\",\"09:40:00\",\"09:40:00\",\"09:40:00\",\"09:40:00\",\"09:50:00\",\"09:50:00\",\"09:50:00\",\"09:50:00\",\"10:00:00\",\"10:00:00\",\"10:00:00\",\"10:00:00\",\"10:10:00\",\"10:10:00\",\"10:10:00\",\"10:10:00\",\"10:20:00\",\"10:20:00\",\"10:20:00\",\"10:20:00\",\"10:30:00\",\"10:30:00\",\"10:30:00\",\"10:30:00\",\"10:40:00\",\"10:40:00\",\"10:40:00\",\"10:40:00\",\"10:50:00\",\"10:50:00\",\"10:50:00\",\"10:50:00\",\"11:00:00\",\"11:00:00\",\"11:00:00\",\"11:00:00\",\"11:10:00\",\"11:10:00\",\"11:10:00\",\"11:10:00\",\"11:20:00\",\"11:20:00\",\"11:20:00\",\"11:20:00\",\"11:30:00\",\"11:30:00\",\"11:30:00\",\"11:30:00\",\"11:40:00\",\"11:40:00\",\"11:40:00\",\"11:40:00\",\"11:50:00\",\"11:50:00\",\"11:50:00\",\"11:50:00\",\"12:00:00\",\"12:00:00\",\"12:00:00\",\"12:00:00\"]},\"selected\":{\"id\":\"3011\",\"type\":\"Selection\"},\"selection_policy\":{\"id\":\"3035\",\"type\":\"UnionRenderers\"}},\"id\":\"3010\",\"type\":\"ColumnDataSource\"},{\"attributes\":{\"callback\":null,\"renderers\":[{\"id\":\"3000\",\"type\":\"GlyphRenderer\"},{\"id\":\"3016\",\"type\":\"GlyphRenderer\"}],\"tags\":[\"hv_created\"],\"tooltips\":[[\"BB\",\"@{BB}\"],[\"time\",\"@{time}\"],[\"rfu_value\",\"@{rfu_value}\"],[\"row_384\",\"@{row_384}\"]]},\"id\":\"2958\",\"type\":\"HoverTool\"},{\"attributes\":{\"text\":\"\",\"text_color\":{\"value\":\"black\"},\"text_font_size\":{\"value\":\"12pt\"}},\"id\":\"2961\",\"type\":\"Title\"},{\"attributes\":{\"callback\":null,\"end\":280.636,\"reset_end\":280.636,\"reset_start\":2.448,\"start\":2.448,\"tags\":[[[\"rfu_value\",\"rfu_value\",null]]]},\"id\":\"2957\",\"type\":\"Range1d\"},{\"attributes\":{},\"id\":\"2967\",\"type\":\"LinearScale\"},{\"attributes\":{\"overlay\":{\"id\":\"3007\",\"type\":\"BoxAnnotation\"}},\"id\":\"2981\",\"type\":\"BoxZoomTool\"},{\"attributes\":{},\"id\":\"2970\",\"type\":\"CategoricalTicker\"},{\"attributes\":{},\"id\":\"2993\",\"type\":\"BasicTickFormatter\"},{\"attributes\":{},\"id\":\"2982\",\"type\":\"ResetTool\"},{\"attributes\":{\"axis_label\":\"time\",\"bounds\":\"auto\",\"formatter\":{\"id\":\"2991\",\"type\":\"CategoricalTickFormatter\"},\"major_label_orientation\":1.5707963267948966,\"ticker\":{\"id\":\"2970\",\"type\":\"CategoricalTicker\"}},\"id\":\"2969\",\"type\":\"CategoricalAxis\"},{\"attributes\":{},\"id\":\"2980\",\"type\":\"WheelZoomTool\"},{\"attributes\":{\"grid_line_color\":null,\"ticker\":{\"id\":\"2970\",\"type\":\"CategoricalTicker\"}},\"id\":\"2972\",\"type\":\"Grid\"},{\"attributes\":{},\"id\":\"3035\",\"type\":\"UnionRenderers\"},{\"attributes\":{},\"id\":\"2979\",\"type\":\"PanTool\"}],\"root_ids\":[\"2960\"]},\"title\":\"Bokeh Application\",\"version\":\"1.3.4\"}};\n",
       "  var render_items = [{\"docid\":\"055bf694-0379-4b52-afc6-f6da58e52bd4\",\"roots\":{\"2960\":\"e767ee36-5c86-46cb-8bda-1422182d8f57\"}}];\n",
       "  root.Bokeh.embed.embed_items_notebook(docs_json, render_items);\n",
       "\n",
       "  }\n",
       "  if (root.Bokeh !== undefined) {\n",
       "    embed_document(root);\n",
       "  } else {\n",
       "    var attempts = 0;\n",
       "    var timer = setInterval(function(root) {\n",
       "      if (root.Bokeh !== undefined) {\n",
       "        embed_document(root);\n",
       "        clearInterval(timer);\n",
       "      }\n",
       "      attempts++;\n",
       "      if (attempts > 100) {\n",
       "        console.log(\"Bokeh: ERROR: Unable to run BokehJS code because BokehJS library is missing\");\n",
       "        clearInterval(timer);\n",
       "      }\n",
       "    }, 10, root)\n",
       "  }\n",
       "})(window);</script>"
      ],
      "text/plain": [
       ":NdOverlay   [BB]\n",
       "   :Scatter   [time]   (rfu_value,row_384)"
      ]
     },
     "execution_count": 75,
     "metadata": {
      "application/vnd.holoviews_exec.v0+json": {
       "id": "2960"
      }
     },
     "output_type": "execute_result"
    }
   ],
   "source": [
    "DETECTR_kinetics = kinetics(DETECTR_cleaned,num_plate_reads)\n",
    "DETECTR_kinetics['rfu_value'] = DETECTR_kinetics['rfu_value'].map(float)\n",
    "\n",
    "DETECTR_kinetics.hvplot.scatter(x='time',y='rfu_value', by = 'BB', hover_cols = ['row_384'],rot = 90,height=500)"
   ]
  },
  {
   "cell_type": "markdown",
   "metadata": {},
   "source": [
    "## Conclusions\n",
    "+ Value of final saturation increases with increasing gRNA concentration\n",
    "+ However, time of saturation does not increase\n",
    "+ Synthetic RNA does not seem to be vastly different from IVT reagents"
   ]
  },
  {
   "cell_type": "code",
   "execution_count": 76,
   "metadata": {},
   "outputs": [],
   "source": [
    "def max_value_and_time(DETECTR_kinetics):\n",
    "    max_rfu_and_time_list = [];\n",
    "    for well in DETECTR_kinetics['well'].unique():\n",
    "        DETECTR_well = DETECTR_kinetics[DETECTR_kinetics['well']==well]\n",
    "        max_rfu = DETECTR_well['rfu_value'].max()\n",
    "        max_rfu_and_time_dict = { 'well' : well,\n",
    "                                 'max_rfu' : max_rfu,\n",
    "                                 'time' : DETECTR_well[DETECTR_well['rfu_value']==max_rfu]['time'].values[0],\n",
    "                                'target_DNA' : DETECTR_well[DETECTR_well['rfu_value']==max_rfu]['target_DNA'].values[0],\n",
    "                                'row_384' : DETECTR_well[DETECTR_well['rfu_value']==max_rfu]['row_384'].values[0]\n",
    "\n",
    "                                }\n",
    "        max_rfu_and_time_list.append(max_rfu_and_time_dict)\n",
    "\n",
    "    return pd.DataFrame(max_rfu_and_time_list)\n"
   ]
  },
  {
   "cell_type": "code",
   "execution_count": 77,
   "metadata": {},
   "outputs": [],
   "source": [
    "DETECTR_max = max_value_and_time(DETECTR_kinetics)"
   ]
  },
  {
   "cell_type": "code",
   "execution_count": 78,
   "metadata": {},
   "outputs": [],
   "source": [
    "DETECTR_max=DETECTR_max.sort_values('time')"
   ]
  },
  {
   "cell_type": "code",
   "execution_count": 82,
   "metadata": {},
   "outputs": [
    {
     "data": {
      "application/vnd.holoviews_exec.v0+json": "",
      "text/html": [
       "<div id='3400' style='display: table; margin: 0 auto;'>\n",
       "\n",
       "\n",
       "\n",
       "\n",
       "\n",
       "  <div class=\"bk-root\" id=\"2ae7672e-4a3a-4938-8b85-9cfd5577e916\" data-root-id=\"3400\"></div>\n",
       "</div>\n",
       "<script type=\"application/javascript\">(function(root) {\n",
       "  function embed_document(root) {\n",
       "    \n",
       "  var docs_json = {\"2c6d72f6-d951-4f1f-9c87-91608ed8c20f\":{\"roots\":{\"references\":[{\"attributes\":{\"below\":[{\"id\":\"3409\",\"type\":\"CategoricalAxis\"}],\"center\":[{\"id\":\"3412\",\"type\":\"Grid\"},{\"id\":\"3417\",\"type\":\"Grid\"}],\"left\":[{\"id\":\"3413\",\"type\":\"LinearAxis\"}],\"margin\":null,\"min_border_bottom\":10,\"min_border_left\":10,\"min_border_right\":10,\"min_border_top\":10,\"plot_height\":300,\"plot_width\":700,\"renderers\":[{\"id\":\"3437\",\"type\":\"GlyphRenderer\"}],\"sizing_mode\":\"fixed\",\"title\":{\"id\":\"3401\",\"type\":\"Title\"},\"toolbar\":{\"id\":\"3423\",\"type\":\"Toolbar\"},\"x_range\":{\"id\":\"3397\",\"type\":\"FactorRange\"},\"x_scale\":{\"id\":\"3405\",\"type\":\"CategoricalScale\"},\"y_range\":{\"id\":\"3398\",\"type\":\"Range1d\"},\"y_scale\":{\"id\":\"3407\",\"type\":\"LinearScale\"}},\"id\":\"3400\",\"subtype\":\"Figure\",\"type\":\"Plot\"},{\"attributes\":{\"dimension\":1,\"grid_line_color\":null,\"ticker\":{\"id\":\"3414\",\"type\":\"BasicTicker\"}},\"id\":\"3417\",\"type\":\"Grid\"},{\"attributes\":{},\"id\":\"3414\",\"type\":\"BasicTicker\"},{\"attributes\":{\"callback\":null,\"data\":{\"max_rfu\":{\"__ndarray__\":\"3SQGgZUDZ0DjpZvEIOBnQBkEVg4tinFAXI/C9ShacUBxPQrXo/ApQJHtfD81vjJArBxaZDufL0Cmm8QgsBIwQA==\",\"dtype\":\"float64\",\"shape\":[8]},\"target_DNA\":[\"target_added\",\"target_added\",\"target_added\",\"target_added\",\"no_target\",\"no_target\",\"no_target\",\"no_target\"],\"time\":[\"06:50:00\",\"06:50:00\",\"06:50:00\",\"06:50:00\",\"11:40:00\",\"11:50:00\",\"11:50:00\",\"12:00:00\"],\"well\":[\"A2\",\"C2\",\"I2\",\"K2\",\"E2\",\"G2\",\"M2\",\"O2\"],\"xoffsets\":[[\"06:50:00\",\"A2\"],[\"06:50:00\",\"C2\"],[\"06:50:00\",\"I2\"],[\"06:50:00\",\"K2\"],[\"11:40:00\",\"E2\"],[\"11:50:00\",\"G2\"],[\"11:50:00\",\"M2\"],[\"12:00:00\",\"O2\"]]},\"selected\":{\"id\":\"3432\",\"type\":\"Selection\"},\"selection_policy\":{\"id\":\"3449\",\"type\":\"UnionRenderers\"}},\"id\":\"3431\",\"type\":\"ColumnDataSource\"},{\"attributes\":{\"factors\":[\"A2\",\"C2\",\"I2\",\"K2\",\"E2\",\"G2\",\"M2\",\"O2\"],\"palette\":[\"#1f77b4\",\"#ff7f0e\",\"#2ca02c\",\"#d62728\",\"#9467bd\",\"#8c564b\",\"#e377c2\",\"#7f7f7f\"]},\"id\":\"3430\",\"type\":\"CategoricalColorMapper\"},{\"attributes\":{},\"id\":\"3432\",\"type\":\"Selection\"},{\"attributes\":{\"grid_line_color\":null,\"ticker\":{\"id\":\"3410\",\"type\":\"CategoricalTicker\"}},\"id\":\"3412\",\"type\":\"Grid\"},{\"attributes\":{\"axis_label\":\"max_rfu\",\"bounds\":\"auto\",\"formatter\":{\"id\":\"3442\",\"type\":\"BasicTickFormatter\"},\"major_label_orientation\":\"horizontal\",\"ticker\":{\"id\":\"3414\",\"type\":\"BasicTicker\"}},\"id\":\"3413\",\"type\":\"LinearAxis\"},{\"attributes\":{\"bottom_units\":\"screen\",\"fill_alpha\":{\"value\":0.5},\"fill_color\":{\"value\":\"lightgrey\"},\"left_units\":\"screen\",\"level\":\"overlay\",\"line_alpha\":{\"value\":1.0},\"line_color\":{\"value\":\"black\"},\"line_dash\":[4,4],\"line_width\":{\"value\":2},\"render_mode\":\"css\",\"right_units\":\"screen\",\"top_units\":\"screen\"},\"id\":\"3448\",\"type\":\"BoxAnnotation\"},{\"attributes\":{},\"id\":\"3449\",\"type\":\"UnionRenderers\"},{\"attributes\":{\"fill_color\":{\"field\":\"well\",\"transform\":{\"id\":\"3430\",\"type\":\"CategoricalColorMapper\"}},\"top\":{\"field\":\"max_rfu\"},\"width\":{\"value\":0.8},\"x\":{\"field\":\"xoffsets\"}},\"id\":\"3434\",\"type\":\"VBar\"},{\"attributes\":{\"fill_alpha\":{\"value\":0.1},\"fill_color\":{\"field\":\"well\",\"transform\":{\"id\":\"3430\",\"type\":\"CategoricalColorMapper\"}},\"line_alpha\":{\"value\":0.1},\"line_color\":{\"value\":\"black\"},\"top\":{\"field\":\"max_rfu\"},\"width\":{\"value\":0.8},\"x\":{\"field\":\"xoffsets\"}},\"id\":\"3435\",\"type\":\"VBar\"},{\"attributes\":{\"callback\":null,\"factors\":[[\"06:50:00\",\"A2\"],[\"06:50:00\",\"C2\"],[\"06:50:00\",\"E2\"],[\"06:50:00\",\"G2\"],[\"06:50:00\",\"I2\"],[\"06:50:00\",\"K2\"],[\"06:50:00\",\"M2\"],[\"06:50:00\",\"O2\"],[\"11:40:00\",\"A2\"],[\"11:40:00\",\"C2\"],[\"11:40:00\",\"E2\"],[\"11:40:00\",\"G2\"],[\"11:40:00\",\"I2\"],[\"11:40:00\",\"K2\"],[\"11:40:00\",\"M2\"],[\"11:40:00\",\"O2\"],[\"11:50:00\",\"A2\"],[\"11:50:00\",\"C2\"],[\"11:50:00\",\"E2\"],[\"11:50:00\",\"G2\"],[\"11:50:00\",\"I2\"],[\"11:50:00\",\"K2\"],[\"11:50:00\",\"M2\"],[\"11:50:00\",\"O2\"],[\"12:00:00\",\"A2\"],[\"12:00:00\",\"C2\"],[\"12:00:00\",\"E2\"],[\"12:00:00\",\"G2\"],[\"12:00:00\",\"I2\"],[\"12:00:00\",\"K2\"],[\"12:00:00\",\"M2\"],[\"12:00:00\",\"O2\"]],\"tags\":[[[\"time\",\"time\",null],[\"well\",\"well\",null]]]},\"id\":\"3397\",\"type\":\"FactorRange\"},{\"attributes\":{\"fill_alpha\":{\"value\":0.2},\"fill_color\":{\"field\":\"well\",\"transform\":{\"id\":\"3430\",\"type\":\"CategoricalColorMapper\"}},\"line_alpha\":{\"value\":0.2},\"line_color\":{\"value\":\"black\"},\"top\":{\"field\":\"max_rfu\"},\"width\":{\"value\":0.8},\"x\":{\"field\":\"xoffsets\"}},\"id\":\"3436\",\"type\":\"VBar\"},{\"attributes\":{},\"id\":\"3410\",\"type\":\"CategoricalTicker\"},{\"attributes\":{\"data_source\":{\"id\":\"3431\",\"type\":\"ColumnDataSource\"},\"glyph\":{\"id\":\"3434\",\"type\":\"VBar\"},\"hover_glyph\":null,\"muted_glyph\":{\"id\":\"3436\",\"type\":\"VBar\"},\"nonselection_glyph\":{\"id\":\"3435\",\"type\":\"VBar\"},\"selection_glyph\":null,\"view\":{\"id\":\"3438\",\"type\":\"CDSView\"}},\"id\":\"3437\",\"type\":\"GlyphRenderer\"},{\"attributes\":{\"active_drag\":\"auto\",\"active_inspect\":\"auto\",\"active_multi\":null,\"active_scroll\":\"auto\",\"active_tap\":\"auto\",\"tools\":[{\"id\":\"3399\",\"type\":\"HoverTool\"},{\"id\":\"3418\",\"type\":\"SaveTool\"},{\"id\":\"3419\",\"type\":\"PanTool\"},{\"id\":\"3420\",\"type\":\"WheelZoomTool\"},{\"id\":\"3421\",\"type\":\"BoxZoomTool\"},{\"id\":\"3422\",\"type\":\"ResetTool\"}]},\"id\":\"3423\",\"type\":\"Toolbar\"},{\"attributes\":{\"axis_label\":\"time, well\",\"bounds\":\"auto\",\"formatter\":{\"id\":\"3440\",\"type\":\"CategoricalTickFormatter\"},\"major_label_orientation\":1.5707963267948966,\"ticker\":{\"id\":\"3410\",\"type\":\"CategoricalTicker\"}},\"id\":\"3409\",\"type\":\"CategoricalAxis\"},{\"attributes\":{},\"id\":\"3418\",\"type\":\"SaveTool\"},{\"attributes\":{\"source\":{\"id\":\"3431\",\"type\":\"ColumnDataSource\"}},\"id\":\"3438\",\"type\":\"CDSView\"},{\"attributes\":{},\"id\":\"3419\",\"type\":\"PanTool\"},{\"attributes\":{\"callback\":null,\"end\":280.636,\"reset_end\":280.636,\"reset_start\":0,\"tags\":[[[\"max_rfu\",\"max_rfu\",null]]]},\"id\":\"3398\",\"type\":\"Range1d\"},{\"attributes\":{},\"id\":\"3420\",\"type\":\"WheelZoomTool\"},{\"attributes\":{},\"id\":\"3407\",\"type\":\"LinearScale\"},{\"attributes\":{\"overlay\":{\"id\":\"3448\",\"type\":\"BoxAnnotation\"}},\"id\":\"3421\",\"type\":\"BoxZoomTool\"},{\"attributes\":{},\"id\":\"3405\",\"type\":\"CategoricalScale\"},{\"attributes\":{},\"id\":\"3422\",\"type\":\"ResetTool\"},{\"attributes\":{},\"id\":\"3440\",\"type\":\"CategoricalTickFormatter\"},{\"attributes\":{\"text\":\"\",\"text_color\":{\"value\":\"black\"},\"text_font_size\":{\"value\":\"12pt\"}},\"id\":\"3401\",\"type\":\"Title\"},{\"attributes\":{},\"id\":\"3442\",\"type\":\"BasicTickFormatter\"},{\"attributes\":{\"callback\":null,\"renderers\":[{\"id\":\"3437\",\"type\":\"GlyphRenderer\"}],\"tags\":[\"hv_created\"],\"tooltips\":[[\"time\",\"@{time}\"],[\"well\",\"@{well}\"],[\"max_rfu\",\"@{max_rfu}\"],[\"target_DNA\",\"@{target_DNA}\"]]},\"id\":\"3399\",\"type\":\"HoverTool\"}],\"root_ids\":[\"3400\"]},\"title\":\"Bokeh Application\",\"version\":\"1.3.4\"}};\n",
       "  var render_items = [{\"docid\":\"2c6d72f6-d951-4f1f-9c87-91608ed8c20f\",\"roots\":{\"3400\":\"2ae7672e-4a3a-4938-8b85-9cfd5577e916\"}}];\n",
       "  root.Bokeh.embed.embed_items_notebook(docs_json, render_items);\n",
       "\n",
       "  }\n",
       "  if (root.Bokeh !== undefined) {\n",
       "    embed_document(root);\n",
       "  } else {\n",
       "    var attempts = 0;\n",
       "    var timer = setInterval(function(root) {\n",
       "      if (root.Bokeh !== undefined) {\n",
       "        embed_document(root);\n",
       "        clearInterval(timer);\n",
       "      }\n",
       "      attempts++;\n",
       "      if (attempts > 100) {\n",
       "        console.log(\"Bokeh: ERROR: Unable to run BokehJS code because BokehJS library is missing\");\n",
       "        clearInterval(timer);\n",
       "      }\n",
       "    }, 10, root)\n",
       "  }\n",
       "})(window);</script>"
      ],
      "text/plain": [
       ":Bars   [time,well]   (max_rfu,target_DNA)"
      ]
     },
     "execution_count": 82,
     "metadata": {
      "application/vnd.holoviews_exec.v0+json": {
       "id": "3400"
      }
     },
     "output_type": "execute_result"
    }
   ],
   "source": [
    "DETECTR_max.hvplot.bar(x = 'time',y ='max_rfu',by = 'well', hover_cols = ['target_DNA'],rot = 90)"
   ]
  },
  {
   "cell_type": "markdown",
   "metadata": {},
   "source": [
    "# Signal to Noise\n",
    "Calculate the signal of each sample divided by the background"
   ]
  },
  {
   "cell_type": "code",
   "execution_count": 84,
   "metadata": {},
   "outputs": [],
   "source": [
    "oldBBbackground = statistics.mean(list(DETECTR_2hr.loc[DETECTR_2hr['row_384'].isin(['E','G'])]['rfu_value'].map(float)))"
   ]
  },
  {
   "cell_type": "code",
   "execution_count": 85,
   "metadata": {},
   "outputs": [],
   "source": [
    "newBBbackground = statistics.mean(list(DETECTR_2hr.loc[DETECTR_2hr['row_384'].isin(['M','O'])]['rfu_value'].map(float)))"
   ]
  },
  {
   "cell_type": "code",
   "execution_count": 90,
   "metadata": {},
   "outputs": [],
   "source": [
    "DETECTR_2hr=DETECTR_2hr.assign(signal_to_noise=DETECTR_2hr['rfu_value']/newBBbackground)"
   ]
  },
  {
   "cell_type": "code",
   "execution_count": 93,
   "metadata": {},
   "outputs": [
    {
     "data": {
      "application/vnd.holoviews_exec.v0+json": "",
      "text/html": [
       "<div id='3841' style='display: table; margin: 0 auto;'>\n",
       "\n",
       "\n",
       "\n",
       "\n",
       "\n",
       "  <div class=\"bk-root\" id=\"1744ce5d-3c6d-4849-a460-1d655fa490e6\" data-root-id=\"3841\"></div>\n",
       "</div>\n",
       "<script type=\"application/javascript\">(function(root) {\n",
       "  function embed_document(root) {\n",
       "    \n",
       "  var docs_json = {\"91e1316a-0b06-4896-831a-72e34df66b47\":{\"roots\":{\"references\":[{\"attributes\":{\"below\":[{\"id\":\"3850\",\"type\":\"CategoricalAxis\"}],\"center\":[{\"id\":\"3853\",\"type\":\"Grid\"},{\"id\":\"3858\",\"type\":\"Grid\"}],\"left\":[{\"id\":\"3854\",\"type\":\"LinearAxis\"}],\"margin\":null,\"min_border_bottom\":10,\"min_border_left\":10,\"min_border_right\":10,\"min_border_top\":10,\"plot_height\":300,\"plot_width\":700,\"renderers\":[{\"id\":\"3878\",\"type\":\"GlyphRenderer\"}],\"sizing_mode\":\"fixed\",\"title\":{\"id\":\"3842\",\"type\":\"Title\"},\"toolbar\":{\"id\":\"3864\",\"type\":\"Toolbar\"},\"x_range\":{\"id\":\"3838\",\"type\":\"FactorRange\"},\"x_scale\":{\"id\":\"3846\",\"type\":\"CategoricalScale\"},\"y_range\":{\"id\":\"3839\",\"type\":\"Range1d\"},\"y_scale\":{\"id\":\"3848\",\"type\":\"LinearScale\"}},\"id\":\"3841\",\"subtype\":\"Figure\",\"type\":\"Plot\"},{\"attributes\":{\"overlay\":{\"id\":\"3889\",\"type\":\"BoxAnnotation\"}},\"id\":\"3862\",\"type\":\"BoxZoomTool\"},{\"attributes\":{},\"id\":\"3846\",\"type\":\"CategoricalScale\"},{\"attributes\":{\"callback\":null,\"factors\":[[\"A2\",\"no_target\"],[\"A2\",\"target_added\"],[\"C2\",\"no_target\"],[\"C2\",\"target_added\"],[\"E2\",\"no_target\"],[\"E2\",\"target_added\"],[\"G2\",\"no_target\"],[\"G2\",\"target_added\"],[\"I2\",\"no_target\"],[\"I2\",\"target_added\"],[\"K2\",\"no_target\"],[\"K2\",\"target_added\"],[\"M2\",\"no_target\"],[\"M2\",\"target_added\"],[\"O2\",\"no_target\"],[\"O2\",\"target_added\"]],\"tags\":[[[\"well\",\"well\",null],[\"target_DNA\",\"target_DNA\",null]]]},\"id\":\"3838\",\"type\":\"FactorRange\"},{\"attributes\":{},\"id\":\"3881\",\"type\":\"CategoricalTickFormatter\"},{\"attributes\":{\"callback\":null,\"end\":42.04296675191816,\"reset_end\":42.04296675191816,\"reset_start\":0,\"tags\":[[[\"signal_to_noise\",\"signal_to_noise\",null]]]},\"id\":\"3839\",\"type\":\"Range1d\"},{\"attributes\":{},\"id\":\"3860\",\"type\":\"PanTool\"},{\"attributes\":{\"active_drag\":\"auto\",\"active_inspect\":\"auto\",\"active_multi\":null,\"active_scroll\":\"auto\",\"active_tap\":\"auto\",\"tools\":[{\"id\":\"3840\",\"type\":\"HoverTool\"},{\"id\":\"3859\",\"type\":\"SaveTool\"},{\"id\":\"3860\",\"type\":\"PanTool\"},{\"id\":\"3861\",\"type\":\"WheelZoomTool\"},{\"id\":\"3862\",\"type\":\"BoxZoomTool\"},{\"id\":\"3863\",\"type\":\"ResetTool\"}]},\"id\":\"3864\",\"type\":\"Toolbar\"},{\"attributes\":{},\"id\":\"3883\",\"type\":\"BasicTickFormatter\"},{\"attributes\":{\"callback\":null,\"renderers\":[{\"id\":\"3878\",\"type\":\"GlyphRenderer\"}],\"tags\":[\"hv_created\"],\"tooltips\":[[\"well\",\"@{well}\"],[\"target_DNA\",\"@{target_DNA}\"],[\"signal_to_noise\",\"@{signal_to_noise}\"]]},\"id\":\"3840\",\"type\":\"HoverTool\"},{\"attributes\":{},\"id\":\"3859\",\"type\":\"SaveTool\"},{\"attributes\":{\"text\":\"\",\"text_color\":{\"value\":\"black\"},\"text_font_size\":{\"value\":\"12pt\"}},\"id\":\"3842\",\"type\":\"Title\"},{\"attributes\":{\"callback\":null,\"data\":{\"signal_to_noise\":{\"__ndarray__\":\"VmwerzRhIUBz7cBcOzAjQOQmPe9/BUVAgnYdVRL8REDm8EkSVWvtP9i2q1KKR/E/pFbnbJn97j+tVIxJM4HwPw==\",\"dtype\":\"float64\",\"shape\":[8]},\"target_DNA\":[\"target_added\",\"target_added\",\"target_added\",\"target_added\",\"no_target\",\"no_target\",\"no_target\",\"no_target\"],\"well\":[\"A2\",\"C2\",\"I2\",\"K2\",\"E2\",\"G2\",\"M2\",\"O2\"],\"xoffsets\":[[\"A2\",\"target_added\"],[\"C2\",\"target_added\"],[\"I2\",\"target_added\"],[\"K2\",\"target_added\"],[\"E2\",\"no_target\"],[\"G2\",\"no_target\"],[\"M2\",\"no_target\"],[\"O2\",\"no_target\"]]},\"selected\":{\"id\":\"3873\",\"type\":\"Selection\"},\"selection_policy\":{\"id\":\"3890\",\"type\":\"UnionRenderers\"}},\"id\":\"3872\",\"type\":\"ColumnDataSource\"},{\"attributes\":{\"axis_label\":\"well, target_DNA\",\"bounds\":\"auto\",\"formatter\":{\"id\":\"3881\",\"type\":\"CategoricalTickFormatter\"},\"major_label_orientation\":1.5707963267948966,\"ticker\":{\"id\":\"3851\",\"type\":\"CategoricalTicker\"}},\"id\":\"3850\",\"type\":\"CategoricalAxis\"},{\"attributes\":{},\"id\":\"3848\",\"type\":\"LinearScale\"},{\"attributes\":{},\"id\":\"3861\",\"type\":\"WheelZoomTool\"},{\"attributes\":{\"factors\":[\"target_added\",\"no_target\"],\"palette\":[\"#1f77b4\",\"#ff7f0e\"]},\"id\":\"3871\",\"type\":\"CategoricalColorMapper\"},{\"attributes\":{},\"id\":\"3873\",\"type\":\"Selection\"},{\"attributes\":{\"fill_color\":{\"field\":\"target_DNA\",\"transform\":{\"id\":\"3871\",\"type\":\"CategoricalColorMapper\"}},\"top\":{\"field\":\"signal_to_noise\"},\"width\":{\"value\":0.8},\"x\":{\"field\":\"xoffsets\"}},\"id\":\"3875\",\"type\":\"VBar\"},{\"attributes\":{\"fill_alpha\":{\"value\":0.1},\"fill_color\":{\"field\":\"target_DNA\",\"transform\":{\"id\":\"3871\",\"type\":\"CategoricalColorMapper\"}},\"line_alpha\":{\"value\":0.1},\"line_color\":{\"value\":\"black\"},\"top\":{\"field\":\"signal_to_noise\"},\"width\":{\"value\":0.8},\"x\":{\"field\":\"xoffsets\"}},\"id\":\"3876\",\"type\":\"VBar\"},{\"attributes\":{},\"id\":\"3851\",\"type\":\"CategoricalTicker\"},{\"attributes\":{\"axis_label\":\"signal_to_noise\",\"bounds\":\"auto\",\"formatter\":{\"id\":\"3883\",\"type\":\"BasicTickFormatter\"},\"major_label_orientation\":\"horizontal\",\"ticker\":{\"id\":\"3855\",\"type\":\"BasicTicker\"}},\"id\":\"3854\",\"type\":\"LinearAxis\"},{\"attributes\":{\"fill_alpha\":{\"value\":0.2},\"fill_color\":{\"field\":\"target_DNA\",\"transform\":{\"id\":\"3871\",\"type\":\"CategoricalColorMapper\"}},\"line_alpha\":{\"value\":0.2},\"line_color\":{\"value\":\"black\"},\"top\":{\"field\":\"signal_to_noise\"},\"width\":{\"value\":0.8},\"x\":{\"field\":\"xoffsets\"}},\"id\":\"3877\",\"type\":\"VBar\"},{\"attributes\":{},\"id\":\"3863\",\"type\":\"ResetTool\"},{\"attributes\":{\"data_source\":{\"id\":\"3872\",\"type\":\"ColumnDataSource\"},\"glyph\":{\"id\":\"3875\",\"type\":\"VBar\"},\"hover_glyph\":null,\"muted_glyph\":{\"id\":\"3877\",\"type\":\"VBar\"},\"nonselection_glyph\":{\"id\":\"3876\",\"type\":\"VBar\"},\"selection_glyph\":null,\"view\":{\"id\":\"3879\",\"type\":\"CDSView\"}},\"id\":\"3878\",\"type\":\"GlyphRenderer\"},{\"attributes\":{\"dimension\":1,\"grid_line_color\":null,\"ticker\":{\"id\":\"3855\",\"type\":\"BasicTicker\"}},\"id\":\"3858\",\"type\":\"Grid\"},{\"attributes\":{},\"id\":\"3890\",\"type\":\"UnionRenderers\"},{\"attributes\":{\"grid_line_color\":null,\"ticker\":{\"id\":\"3851\",\"type\":\"CategoricalTicker\"}},\"id\":\"3853\",\"type\":\"Grid\"},{\"attributes\":{\"source\":{\"id\":\"3872\",\"type\":\"ColumnDataSource\"}},\"id\":\"3879\",\"type\":\"CDSView\"},{\"attributes\":{},\"id\":\"3855\",\"type\":\"BasicTicker\"},{\"attributes\":{\"bottom_units\":\"screen\",\"fill_alpha\":{\"value\":0.5},\"fill_color\":{\"value\":\"lightgrey\"},\"left_units\":\"screen\",\"level\":\"overlay\",\"line_alpha\":{\"value\":1.0},\"line_color\":{\"value\":\"black\"},\"line_dash\":[4,4],\"line_width\":{\"value\":2},\"render_mode\":\"css\",\"right_units\":\"screen\",\"top_units\":\"screen\"},\"id\":\"3889\",\"type\":\"BoxAnnotation\"}],\"root_ids\":[\"3841\"]},\"title\":\"Bokeh Application\",\"version\":\"1.3.4\"}};\n",
       "  var render_items = [{\"docid\":\"91e1316a-0b06-4896-831a-72e34df66b47\",\"roots\":{\"3841\":\"1744ce5d-3c6d-4849-a460-1d655fa490e6\"}}];\n",
       "  root.Bokeh.embed.embed_items_notebook(docs_json, render_items);\n",
       "\n",
       "  }\n",
       "  if (root.Bokeh !== undefined) {\n",
       "    embed_document(root);\n",
       "  } else {\n",
       "    var attempts = 0;\n",
       "    var timer = setInterval(function(root) {\n",
       "      if (root.Bokeh !== undefined) {\n",
       "        embed_document(root);\n",
       "        clearInterval(timer);\n",
       "      }\n",
       "      attempts++;\n",
       "      if (attempts > 100) {\n",
       "        console.log(\"Bokeh: ERROR: Unable to run BokehJS code because BokehJS library is missing\");\n",
       "        clearInterval(timer);\n",
       "      }\n",
       "    }, 10, root)\n",
       "  }\n",
       "})(window);</script>"
      ],
      "text/plain": [
       ":Bars   [well,target_DNA]   (signal_to_noise)"
      ]
     },
     "execution_count": 93,
     "metadata": {
      "application/vnd.holoviews_exec.v0+json": {
       "id": "3841"
      }
     },
     "output_type": "execute_result"
    }
   ],
   "source": [
    "DETECTR_2hr.hvplot(x='well',y='signal_to_noise',by='target_DNA', kind = 'bar', rot = 90)"
   ]
  },
  {
   "cell_type": "code",
   "execution_count": 94,
   "metadata": {},
   "outputs": [],
   "source": [
    "DETECTR_30min=DETECTR_30min.assign(signal_to_noise=DETECTR_30min['rfu_value']/newBBbackground)"
   ]
  },
  {
   "cell_type": "code",
   "execution_count": 95,
   "metadata": {},
   "outputs": [
    {
     "data": {
      "application/vnd.holoviews_exec.v0+json": "",
      "text/html": [
       "<div id='3951' style='display: table; margin: 0 auto;'>\n",
       "\n",
       "\n",
       "\n",
       "\n",
       "\n",
       "  <div class=\"bk-root\" id=\"f6c0f53f-012e-436f-87b3-c4700a1a9b5e\" data-root-id=\"3951\"></div>\n",
       "</div>\n",
       "<script type=\"application/javascript\">(function(root) {\n",
       "  function embed_document(root) {\n",
       "    \n",
       "  var docs_json = {\"8bbb85e2-e88a-490a-8626-b51d206ad929\":{\"roots\":{\"references\":[{\"attributes\":{\"below\":[{\"id\":\"3960\",\"type\":\"CategoricalAxis\"}],\"center\":[{\"id\":\"3963\",\"type\":\"Grid\"},{\"id\":\"3968\",\"type\":\"Grid\"}],\"left\":[{\"id\":\"3964\",\"type\":\"LinearAxis\"}],\"margin\":null,\"min_border_bottom\":10,\"min_border_left\":10,\"min_border_right\":10,\"min_border_top\":10,\"plot_height\":300,\"plot_width\":700,\"renderers\":[{\"id\":\"3988\",\"type\":\"GlyphRenderer\"}],\"sizing_mode\":\"fixed\",\"title\":{\"id\":\"3952\",\"type\":\"Title\"},\"toolbar\":{\"id\":\"3974\",\"type\":\"Toolbar\"},\"x_range\":{\"id\":\"3948\",\"type\":\"FactorRange\"},\"x_scale\":{\"id\":\"3956\",\"type\":\"CategoricalScale\"},\"y_range\":{\"id\":\"3949\",\"type\":\"Range1d\"},\"y_scale\":{\"id\":\"3958\",\"type\":\"LinearScale\"}},\"id\":\"3951\",\"subtype\":\"Figure\",\"type\":\"Plot\"},{\"attributes\":{\"fill_color\":{\"field\":\"target_DNA\",\"transform\":{\"id\":\"3981\",\"type\":\"CategoricalColorMapper\"}},\"top\":{\"field\":\"signal_to_noise\"},\"width\":{\"value\":0.8},\"x\":{\"field\":\"xoffsets\"}},\"id\":\"3985\",\"type\":\"VBar\"},{\"attributes\":{\"grid_line_color\":null,\"ticker\":{\"id\":\"3961\",\"type\":\"CategoricalTicker\"}},\"id\":\"3963\",\"type\":\"Grid\"},{\"attributes\":{\"axis_label\":\"signal_to_noise\",\"bounds\":\"auto\",\"formatter\":{\"id\":\"3993\",\"type\":\"BasicTickFormatter\"},\"major_label_orientation\":\"horizontal\",\"ticker\":{\"id\":\"3965\",\"type\":\"BasicTicker\"}},\"id\":\"3964\",\"type\":\"LinearAxis\"},{\"attributes\":{\"callback\":null,\"data\":{\"signal_to_noise\":{\"__ndarray__\":\"1PUAWiJl+z/XJJQO4n38PyRcGQNRwBpAEuaBYFX8G0BhE6QpVrrrP2hzzJTX7e8/qAstOJFZ7D/3GCR9RYjuPw==\",\"dtype\":\"float64\",\"shape\":[8]},\"target_DNA\":[\"target_added\",\"target_added\",\"target_added\",\"target_added\",\"no_target\",\"no_target\",\"no_target\",\"no_target\"],\"well\":[\"A2\",\"C2\",\"I2\",\"K2\",\"E2\",\"G2\",\"M2\",\"O2\"],\"xoffsets\":[[\"A2\",\"target_added\"],[\"C2\",\"target_added\"],[\"I2\",\"target_added\"],[\"K2\",\"target_added\"],[\"E2\",\"no_target\"],[\"G2\",\"no_target\"],[\"M2\",\"no_target\"],[\"O2\",\"no_target\"]]},\"selected\":{\"id\":\"3983\",\"type\":\"Selection\"},\"selection_policy\":{\"id\":\"4000\",\"type\":\"UnionRenderers\"}},\"id\":\"3982\",\"type\":\"ColumnDataSource\"},{\"attributes\":{\"fill_alpha\":{\"value\":0.1},\"fill_color\":{\"field\":\"target_DNA\",\"transform\":{\"id\":\"3981\",\"type\":\"CategoricalColorMapper\"}},\"line_alpha\":{\"value\":0.1},\"line_color\":{\"value\":\"black\"},\"top\":{\"field\":\"signal_to_noise\"},\"width\":{\"value\":0.8},\"x\":{\"field\":\"xoffsets\"}},\"id\":\"3986\",\"type\":\"VBar\"},{\"attributes\":{},\"id\":\"3965\",\"type\":\"BasicTicker\"},{\"attributes\":{\"callback\":null,\"end\":6.996419437340153,\"reset_end\":6.996419437340153,\"reset_start\":0,\"tags\":[[[\"signal_to_noise\",\"signal_to_noise\",null]]]},\"id\":\"3949\",\"type\":\"Range1d\"},{\"attributes\":{\"fill_alpha\":{\"value\":0.2},\"fill_color\":{\"field\":\"target_DNA\",\"transform\":{\"id\":\"3981\",\"type\":\"CategoricalColorMapper\"}},\"line_alpha\":{\"value\":0.2},\"line_color\":{\"value\":\"black\"},\"top\":{\"field\":\"signal_to_noise\"},\"width\":{\"value\":0.8},\"x\":{\"field\":\"xoffsets\"}},\"id\":\"3987\",\"type\":\"VBar\"},{\"attributes\":{\"callback\":null,\"factors\":[[\"A2\",\"no_target\"],[\"A2\",\"target_added\"],[\"C2\",\"no_target\"],[\"C2\",\"target_added\"],[\"E2\",\"no_target\"],[\"E2\",\"target_added\"],[\"G2\",\"no_target\"],[\"G2\",\"target_added\"],[\"I2\",\"no_target\"],[\"I2\",\"target_added\"],[\"K2\",\"no_target\"],[\"K2\",\"target_added\"],[\"M2\",\"no_target\"],[\"M2\",\"target_added\"],[\"O2\",\"no_target\"],[\"O2\",\"target_added\"]],\"tags\":[[[\"well\",\"well\",null],[\"target_DNA\",\"target_DNA\",null]]]},\"id\":\"3948\",\"type\":\"FactorRange\"},{\"attributes\":{\"dimension\":1,\"grid_line_color\":null,\"ticker\":{\"id\":\"3965\",\"type\":\"BasicTicker\"}},\"id\":\"3968\",\"type\":\"Grid\"},{\"attributes\":{\"data_source\":{\"id\":\"3982\",\"type\":\"ColumnDataSource\"},\"glyph\":{\"id\":\"3985\",\"type\":\"VBar\"},\"hover_glyph\":null,\"muted_glyph\":{\"id\":\"3987\",\"type\":\"VBar\"},\"nonselection_glyph\":{\"id\":\"3986\",\"type\":\"VBar\"},\"selection_glyph\":null,\"view\":{\"id\":\"3989\",\"type\":\"CDSView\"}},\"id\":\"3988\",\"type\":\"GlyphRenderer\"},{\"attributes\":{\"callback\":null,\"renderers\":[{\"id\":\"3988\",\"type\":\"GlyphRenderer\"}],\"tags\":[\"hv_created\"],\"tooltips\":[[\"well\",\"@{well}\"],[\"target_DNA\",\"@{target_DNA}\"],[\"signal_to_noise\",\"@{signal_to_noise}\"]]},\"id\":\"3950\",\"type\":\"HoverTool\"},{\"attributes\":{\"source\":{\"id\":\"3982\",\"type\":\"ColumnDataSource\"}},\"id\":\"3989\",\"type\":\"CDSView\"},{\"attributes\":{},\"id\":\"3993\",\"type\":\"BasicTickFormatter\"},{\"attributes\":{},\"id\":\"3969\",\"type\":\"SaveTool\"},{\"attributes\":{},\"id\":\"3970\",\"type\":\"PanTool\"},{\"attributes\":{},\"id\":\"3991\",\"type\":\"CategoricalTickFormatter\"},{\"attributes\":{\"factors\":[\"target_added\",\"no_target\"],\"palette\":[\"#1f77b4\",\"#ff7f0e\"]},\"id\":\"3981\",\"type\":\"CategoricalColorMapper\"},{\"attributes\":{},\"id\":\"3971\",\"type\":\"WheelZoomTool\"},{\"attributes\":{\"overlay\":{\"id\":\"3999\",\"type\":\"BoxAnnotation\"}},\"id\":\"3972\",\"type\":\"BoxZoomTool\"},{\"attributes\":{},\"id\":\"3973\",\"type\":\"ResetTool\"},{\"attributes\":{\"active_drag\":\"auto\",\"active_inspect\":\"auto\",\"active_multi\":null,\"active_scroll\":\"auto\",\"active_tap\":\"auto\",\"tools\":[{\"id\":\"3950\",\"type\":\"HoverTool\"},{\"id\":\"3969\",\"type\":\"SaveTool\"},{\"id\":\"3970\",\"type\":\"PanTool\"},{\"id\":\"3971\",\"type\":\"WheelZoomTool\"},{\"id\":\"3972\",\"type\":\"BoxZoomTool\"},{\"id\":\"3973\",\"type\":\"ResetTool\"}]},\"id\":\"3974\",\"type\":\"Toolbar\"},{\"attributes\":{\"text\":\"\",\"text_color\":{\"value\":\"black\"},\"text_font_size\":{\"value\":\"12pt\"}},\"id\":\"3952\",\"type\":\"Title\"},{\"attributes\":{},\"id\":\"3956\",\"type\":\"CategoricalScale\"},{\"attributes\":{},\"id\":\"3958\",\"type\":\"LinearScale\"},{\"attributes\":{\"bottom_units\":\"screen\",\"fill_alpha\":{\"value\":0.5},\"fill_color\":{\"value\":\"lightgrey\"},\"left_units\":\"screen\",\"level\":\"overlay\",\"line_alpha\":{\"value\":1.0},\"line_color\":{\"value\":\"black\"},\"line_dash\":[4,4],\"line_width\":{\"value\":2},\"render_mode\":\"css\",\"right_units\":\"screen\",\"top_units\":\"screen\"},\"id\":\"3999\",\"type\":\"BoxAnnotation\"},{\"attributes\":{\"axis_label\":\"well, target_DNA\",\"bounds\":\"auto\",\"formatter\":{\"id\":\"3991\",\"type\":\"CategoricalTickFormatter\"},\"major_label_orientation\":1.5707963267948966,\"ticker\":{\"id\":\"3961\",\"type\":\"CategoricalTicker\"}},\"id\":\"3960\",\"type\":\"CategoricalAxis\"},{\"attributes\":{},\"id\":\"4000\",\"type\":\"UnionRenderers\"},{\"attributes\":{},\"id\":\"3983\",\"type\":\"Selection\"},{\"attributes\":{},\"id\":\"3961\",\"type\":\"CategoricalTicker\"}],\"root_ids\":[\"3951\"]},\"title\":\"Bokeh Application\",\"version\":\"1.3.4\"}};\n",
       "  var render_items = [{\"docid\":\"8bbb85e2-e88a-490a-8626-b51d206ad929\",\"roots\":{\"3951\":\"f6c0f53f-012e-436f-87b3-c4700a1a9b5e\"}}];\n",
       "  root.Bokeh.embed.embed_items_notebook(docs_json, render_items);\n",
       "\n",
       "  }\n",
       "  if (root.Bokeh !== undefined) {\n",
       "    embed_document(root);\n",
       "  } else {\n",
       "    var attempts = 0;\n",
       "    var timer = setInterval(function(root) {\n",
       "      if (root.Bokeh !== undefined) {\n",
       "        embed_document(root);\n",
       "        clearInterval(timer);\n",
       "      }\n",
       "      attempts++;\n",
       "      if (attempts > 100) {\n",
       "        console.log(\"Bokeh: ERROR: Unable to run BokehJS code because BokehJS library is missing\");\n",
       "        clearInterval(timer);\n",
       "      }\n",
       "    }, 10, root)\n",
       "  }\n",
       "})(window);</script>"
      ],
      "text/plain": [
       ":Bars   [well,target_DNA]   (signal_to_noise)"
      ]
     },
     "execution_count": 95,
     "metadata": {
      "application/vnd.holoviews_exec.v0+json": {
       "id": "3951"
      }
     },
     "output_type": "execute_result"
    }
   ],
   "source": [
    "DETECTR_30min.hvplot(x='well',y='signal_to_noise',by='target_DNA', kind = 'bar', rot = 90)"
   ]
  },
  {
   "cell_type": "code",
   "execution_count": null,
   "metadata": {},
   "outputs": [],
   "source": []
  }
 ],
 "metadata": {
  "kernelspec": {
   "display_name": "Python 3",
   "language": "python",
   "name": "python3"
  },
  "language_info": {
   "codemirror_mode": {
    "name": "ipython",
    "version": 3
   },
   "file_extension": ".py",
   "mimetype": "text/x-python",
   "name": "python",
   "nbconvert_exporter": "python",
   "pygments_lexer": "ipython3",
   "version": "3.6.9"
  }
 },
 "nbformat": 4,
 "nbformat_minor": 2
}
